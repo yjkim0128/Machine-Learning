{
 "cells": [
  {
   "cell_type": "markdown",
   "metadata": {},
   "source": [
    "Discussed this assignment with Sang Hoon Kim, Hyun In Park, and Heeseung Hwang.\n",
    "\n",
    "This is re-organization (and some modification) of the originally provided code so that the flow of code matches the flow of task.  \n",
    "This is a slightly edited version of the previous submission (codes and results themselves are not changed.)"
   ]
  },
  {
   "cell_type": "markdown",
   "metadata": {},
   "source": [
    "\n",
    "**Preliminary setup:**"
   ]
  },
  {
   "cell_type": "code",
   "execution_count": 10,
   "metadata": {},
   "outputs": [],
   "source": [
    "import torch\n",
    "import time\n",
    "import numpy as np\n",
    "import torch.nn as nn\n",
    "import torch.nn.functional as F\n",
    "import torch.optim as optim\n",
    "import matplotlib.pyplot as plt\n",
    "from tqdm import tqdm\n",
    "import sys\n",
    "\n",
    "if not sys.warnoptions:\n",
    "    import warnings\n",
    "    warnings.simplefilter(\"ignore\")"
   ]
  },
  {
   "cell_type": "code",
   "execution_count": 11,
   "metadata": {},
   "outputs": [],
   "source": [
    "def get_mnist():\n",
    "\n",
    "    data=np.float64(np.load('MNIST.npy'))\n",
    "    labels=np.float32(np.load('MNIST_labels.npy'))\n",
    "    data=np.float32(data)/255\n",
    "    \n",
    "    train_dat=data[0:50000].reshape((-1,1,28,28))\n",
    "    train_labels=np.int32(labels[0:50000])\n",
    "    val_dat=data[50000:60000].reshape((-1,1,28,28))\n",
    "    val_labels=np.int32(labels[50000:60000])\n",
    "    test_dat=data[60000:70000].reshape((-1,1,28,28))\n",
    "    test_labels=np.int32(labels[60000:70000])\n",
    "    \n",
    "    return (train_dat, train_labels), (val_dat, val_labels), (test_dat, test_labels)"
   ]
  },
  {
   "cell_type": "code",
   "execution_count": 12,
   "metadata": {},
   "outputs": [],
   "source": [
    "class MNIST_Net(nn.Module):\n",
    "    '''\n",
    "    Edited the original codes so that I can pass down feature numbers as parameters\n",
    "    '''\n",
    "    def __init__(self, param, p=0.5,minimizer='Adam'):\n",
    "        \n",
    "        super(MNIST_Net, self).__init__()\n",
    "        \n",
    "        self.param = param\n",
    "        self.conv1 = nn.Conv2d(param[0], param[1], kernel_size=5)\n",
    "        self.conv2 = nn.Conv2d(param[1], param[2], kernel_size=5)\n",
    "        self.conv2_drop = nn.Dropout2d(p)\n",
    "        \n",
    "        self.fc1 = nn.Linear(param[3], param[4])\n",
    "        self.fc2 = nn.Linear(param[4], param[5])\n",
    "        \n",
    "        if minimizer == 'Adam':\n",
    "            self.optimizer = torch.optim.Adam(self.parameters(), lr = step_size)\n",
    "            \n",
    "        else:\n",
    "            self.optimizer = torch.optim.SGD(self.parameters(), lr = step_size, momentum=0.9)\n",
    "            \n",
    "        self.first=True\n",
    "        self.criterion=nn.CrossEntropyLoss()\n",
    "            \n",
    "    def forward(self, x):\n",
    "\n",
    "        x = F.relu(F.max_pool2d(self.conv1(x), 2))\n",
    "        x = F.relu(F.max_pool2d(self.conv2_drop(self.conv2(x)), 2))\n",
    "        x = x.view(-1, self.param[3])\n",
    "        x = F.relu(self.fc1(x))\n",
    "        x = F.dropout(x, training=self.training)\n",
    "        x = self.fc2(x)\n",
    "        \n",
    "        return x\n",
    "    \n",
    "    def get_acc_and_loss(self, data, targ):\n",
    "\n",
    "        output = self.forward(data)\n",
    "        loss = self.criterion(output, targ)\n",
    "        pred = torch.max(output,1)[1]\n",
    "        correct = torch.eq(pred,targ).sum()\n",
    "        \n",
    "        return loss,correct\n",
    "        \n",
    "    def run_grad(self,data,targ):\n",
    "\n",
    "        loss, correct=self.get_acc_and_loss(data,targ)\n",
    "        self.optimizer.zero_grad()\n",
    "        loss.backward()\n",
    "        self.optimizer.step()\n",
    "        \n",
    "        return loss, correct"
   ]
  },
  {
   "cell_type": "code",
   "execution_count": 13,
   "metadata": {},
   "outputs": [],
   "source": [
    "def run_epoch(net,epoch,train,batch_size, num=None, ttype=\"train\"):\n",
    "\n",
    "    net.train()\n",
    "    \n",
    "    if ttype=='train':\n",
    "        t1=time.time()\n",
    "        n=train[0].shape[0]\n",
    "        \n",
    "        if (num is not None):\n",
    "            n=np.minimum(n,num)\n",
    "            \n",
    "        ii=np.array(np.arange(0,n,1))\n",
    "        tr=train[0][ii]\n",
    "        y=train[1][ii]\n",
    "        train_loss=0; train_correct=0\n",
    "        \n",
    "        with tqdm(total=len(y)) as progress_bar:\n",
    "        \n",
    "            for j in np.arange(0,len(y),batch_size):\n",
    "\n",
    "                data=torch.from_numpy(tr[j:j+batch_size]).to(device)\n",
    "                targ=torch.from_numpy(y[j:j+batch_size]).type(torch.long).to(device)\n",
    "                loss, correct = net.run_grad(data,targ) \n",
    "                \n",
    "                train_loss += loss.item()\n",
    "                train_correct += correct.item()\n",
    "                \n",
    "                progress_bar.set_postfix(loss=loss.item())\n",
    "                progress_bar.update(data.size(0))\n",
    "                \n",
    "            train_loss /= len(y)\n",
    "            \n",
    "            #Training result tracking message silenced\n",
    "            #print('\\nTraining set epoch {}: Avg. loss: {:.4f}, Accuracy: {}/{} ({:.0f}%)\\n'.format(epoch + 1,\n",
    "               #train_loss, train_correct, len(y), 100. * train_correct / len(y)))\n",
    "        \n",
    "            train_error.append(100 - 100. * train_correct / len(y))"
   ]
  },
  {
   "cell_type": "code",
   "execution_count": 14,
   "metadata": {},
   "outputs": [],
   "source": [
    "def net_test(net,val,batch_size,ttype='val', progress_track = False):\n",
    "\n",
    "    net.eval()\n",
    "    \n",
    "    with torch.no_grad():\n",
    "                test_loss = 0\n",
    "                test_correct = 0\n",
    "                vald=val[0]\n",
    "                yval=val[1]\n",
    "                \n",
    "                for j in np.arange(0,len(yval),batch_size):\n",
    "                    data=torch.torch.from_numpy(vald[j:j+batch_size]).to(device)\n",
    "                    targ = torch.torch.from_numpy(yval[j:j+batch_size]).type(torch.long).to(device)\n",
    "                    loss,correct=net.get_acc_and_loss(data,targ)\n",
    "\n",
    "                    test_loss += loss.item()\n",
    "                    test_correct += correct.item()\n",
    "\n",
    "                test_loss /= len(yval)\n",
    "                SSS='Validation'\n",
    "                \n",
    "                if (ttype=='test'):\n",
    "                    SSS='Test'\n",
    "                \n",
    "                if progress_track:\n",
    "                    print('\\n{} set: Avg. loss: {:.4f}, Accuracy: {}/{} ({:.0f}%)\\n'.format(SSS,\n",
    "                        test_loss, test_correct, len(yval), 100. * test_correct / len(yval)))\n",
    "                \n",
    "                val_error.append(100 - 100. * test_correct / len(yval))"
   ]
  },
  {
   "cell_type": "code",
   "execution_count": 15,
   "metadata": {},
   "outputs": [],
   "source": [
    "def show_image(images, nrows, ncols):\n",
    "    \n",
    "    plt.figure(figsize = (ncols * 2, nrows * 2))\n",
    "    \n",
    "    for i in range(nrows * ncols):\n",
    "        plt.subplot(nrows, ncols, i + 1)\n",
    "        plt.imshow(images[i, 0, :, :], cmap = \"gray\")\n",
    "        plt.axis(\"off\")\n",
    "\n",
    "    plt.axis(\"off\")\n",
    "    plt.show()"
   ]
  },
  {
   "cell_type": "markdown",
   "metadata": {},
   "source": [
    "**Part (a):**"
   ]
  },
  {
   "cell_type": "markdown",
   "metadata": {},
   "source": [
    "Number of parameters in the original model:  \n",
    "\n",
    "From the originally given code, we can calculate as follows.  \n",
    "- conv1: 1 input, 32 outputs, patch size 25 $\\Rightarrow\\space(25\\times1+1)\\times32=832$ parameters  \n",
    "- conv2: 32 inputs, 64 outputs, patch size 25 $\\Rightarrow\\space(25\\times32+1)\\times64=51,264$ parameters  \n",
    "- fc1: $(1024+1)\\times256=262,400$ parameters  \n",
    "- fc2: $(256+1)\\times10=2,570$ parameters  \n",
    "- (no parameters for dropout/pooling layers)  \n",
    "\n",
    "Thus, the original model has $832+51,624+262,400+2,570=317,066$ parameters in total."
   ]
  },
  {
   "cell_type": "code",
   "execution_count": 16,
   "metadata": {},
   "outputs": [],
   "source": [
    "# Some parameters\n",
    "batch_size, step_size = 500, 0.001\n",
    "num_epochs, numtrain = 20, 10000\n",
    "minimizer, model_name =\"Adam\", \"model\"\n",
    "dropout_p, dim =0.5, 28\n",
    "nchannels=1\n",
    "use_gpu=True\n",
    "\n",
    "# use GPU when possible\n",
    "device = 'cuda:0' if torch.cuda.is_available() and use_gpu else 'cpu'"
   ]
  },
  {
   "cell_type": "code",
   "execution_count": 18,
   "metadata": {},
   "outputs": [
    {
     "data": {
      "text/plain": [
       "MNIST_Net(\n",
       "  (conv1): Conv2d(1, 32, kernel_size=(5, 5), stride=(1, 1))\n",
       "  (conv2): Conv2d(32, 64, kernel_size=(5, 5), stride=(1, 1))\n",
       "  (conv2_drop): Dropout2d(p=0.5, inplace=False)\n",
       "  (fc1): Linear(in_features=1024, out_features=256, bias=True)\n",
       "  (fc2): Linear(in_features=256, out_features=10, bias=True)\n",
       "  (criterion): CrossEntropyLoss()\n",
       ")"
      ]
     },
     "execution_count": 18,
     "metadata": {},
     "output_type": "execute_result"
    }
   ],
   "source": [
    "# get data\n",
    "train,val,test = get_mnist()\n",
    "# Initialize the model\n",
    "feature_dim = (1, 32, 64, 1024, 256, 10)\n",
    "net = MNIST_Net(feature_dim, p = dropout_p, minimizer=minimizer)\n",
    "net.to(device)"
   ]
  },
  {
   "cell_type": "code",
   "execution_count": 9,
   "metadata": {},
   "outputs": [
    {
     "name": "stderr",
     "output_type": "stream",
     "text": [
      "100%|██████████| 10000/10000 [00:06<00:00, 1463.40it/s, loss=0.62]\n",
      "100%|██████████| 10000/10000 [00:06<00:00, 1447.41it/s, loss=0.332]\n",
      "100%|██████████| 10000/10000 [00:06<00:00, 1549.10it/s, loss=0.251]\n",
      "100%|██████████| 10000/10000 [00:06<00:00, 1559.51it/s, loss=0.172]\n",
      "100%|██████████| 10000/10000 [00:06<00:00, 1552.82it/s, loss=0.166]\n",
      "100%|██████████| 10000/10000 [00:06<00:00, 1553.24it/s, loss=0.138]\n",
      "100%|██████████| 10000/10000 [00:06<00:00, 1565.77it/s, loss=0.116]\n",
      "100%|██████████| 10000/10000 [00:06<00:00, 1568.73it/s, loss=0.107]\n",
      "100%|██████████| 10000/10000 [00:06<00:00, 1543.17it/s, loss=0.127]\n",
      "100%|██████████| 10000/10000 [00:06<00:00, 1554.06it/s, loss=0.0813]\n",
      "100%|██████████| 10000/10000 [00:06<00:00, 1550.22it/s, loss=0.0716]\n",
      "100%|██████████| 10000/10000 [00:06<00:00, 1525.04it/s, loss=0.0697]\n",
      "100%|██████████| 10000/10000 [00:06<00:00, 1493.59it/s, loss=0.0711]\n",
      "100%|██████████| 10000/10000 [00:06<00:00, 1529.63it/s, loss=0.0663]\n",
      "100%|██████████| 10000/10000 [00:06<00:00, 1556.86it/s, loss=0.0578]\n",
      "100%|██████████| 10000/10000 [00:06<00:00, 1470.52it/s, loss=0.0325]\n",
      "100%|██████████| 10000/10000 [00:06<00:00, 1465.29it/s, loss=0.0601]\n",
      "100%|██████████| 10000/10000 [00:06<00:00, 1535.97it/s, loss=0.0457]\n",
      "100%|██████████| 10000/10000 [00:06<00:00, 1533.71it/s, loss=0.0409]\n",
      "100%|██████████| 10000/10000 [00:06<00:00, 1543.29it/s, loss=0.0506]\n"
     ]
    }
   ],
   "source": [
    "train_error, val_error = [], []\n",
    "\n",
    "#Silenced some of progress tracking messages (since they take too much space)\n",
    "for i in range(num_epochs):\n",
    "    \n",
    "    run_epoch(net,i,train,batch_size, num=numtrain, ttype=\"train\") # Run epochs\n",
    "    net_test(net,val,batch_size) # Test on validation set."
   ]
  },
  {
   "cell_type": "code",
   "execution_count": 11,
   "metadata": {},
   "outputs": [
    {
     "name": "stdout",
     "output_type": "stream",
     "text": [
      "[At epoch = 20] Training set error 1.95% | Validation set error 1.80%\n"
     ]
    }
   ],
   "source": [
    "print(\"[At epoch = 20] Training set error {:.2f}% | Validation set error {:.2f}%\".format(train_error[-1], val_error[-1]))"
   ]
  },
  {
   "cell_type": "code",
   "execution_count": 30,
   "metadata": {},
   "outputs": [
    {
     "data": {
      "image/png": "[encoded data removed]",
      "text/plain": [
       "<Figure size 432x288 with 1 Axes>"
      ]
     },
     "metadata": {
      "needs_background": "light"
     },
     "output_type": "display_data"
    }
   ],
   "source": [
    "plt.plot(train_error)\n",
    "plt.plot(val_error)\n",
    "plt.legend([\"Training error\", \"Validation error\"])\n",
    "plt.title(\"Original: error rate over epoch (%)\")\n",
    "plt.show()"
   ]
  },
  {
   "cell_type": "markdown",
   "metadata": {},
   "source": [
    "First layer image estimation:"
   ]
  },
  {
   "cell_type": "code",
   "execution_count": 13,
   "metadata": {},
   "outputs": [
    {
     "data": {
      "image/png": "[encoded data removed]",
      "text/plain": [
       "<Figure size 1152x576 with 32 Axes>"
      ]
     },
     "metadata": {
      "needs_background": "light"
     },
     "output_type": "display_data"
    }
   ],
   "source": [
    "first_layer = net.conv1.weight\n",
    "first_layer = first_layer.detach().numpy()\n",
    "show_image(first_layer, 4, 8)"
   ]
  },
  {
   "cell_type": "markdown",
   "metadata": {},
   "source": [
    "**Part (b):**  \n",
    "For each experiment, aside from the plots, results are reported in terms of error rates at the max epoch (since they are expected to generally decrease as epoch increases).  \n",
    "Also, the first and last feature numbers (1, 10) are not edited due to the context of the dataset."
   ]
  },
  {
   "cell_type": "markdown",
   "metadata": {},
   "source": [
    "**(i) Same number of layers:**  \n",
    "Note: although (1) and (2) would not result in (approximately) doubled or halved number of parameters of the **entirety** of the model, they will still serve the purpose of checking the effects of change in parameter numbers.\n",
    "\n",
    "(1) Double the number of parameters/features (in each layer): **\"Double\"**"
   ]
  },
  {
   "cell_type": "code",
   "execution_count": 14,
   "metadata": {},
   "outputs": [
    {
     "data": {
      "text/plain": [
       "MNIST_Net(\n",
       "  (conv1): Conv2d(1, 64, kernel_size=(5, 5), stride=(1, 1))\n",
       "  (conv2): Conv2d(64, 128, kernel_size=(5, 5), stride=(1, 1))\n",
       "  (conv2_drop): Dropout2d(p=0.5, inplace=False)\n",
       "  (fc1): Linear(in_features=2048, out_features=512, bias=True)\n",
       "  (fc2): Linear(in_features=512, out_features=10, bias=True)\n",
       "  (criterion): CrossEntropyLoss()\n",
       ")"
      ]
     },
     "execution_count": 14,
     "metadata": {},
     "output_type": "execute_result"
    }
   ],
   "source": [
    "feature_dim_double = (1, 32*2, 64*2, 1024*2, 256*2, 10)\n",
    "net_double = MNIST_Net(feature_dim_double, p = dropout_p, minimizer=minimizer)\n",
    "net_double.to(device)"
   ]
  },
  {
   "cell_type": "code",
   "execution_count": 15,
   "metadata": {},
   "outputs": [
    {
     "name": "stderr",
     "output_type": "stream",
     "text": [
      "100%|██████████| 10000/10000 [00:18<00:00, 545.62it/s, loss=0.388]\n",
      "100%|██████████| 10000/10000 [00:17<00:00, 560.78it/s, loss=0.197]\n",
      "100%|██████████| 10000/10000 [00:17<00:00, 563.88it/s, loss=0.144]\n",
      "100%|██████████| 10000/10000 [00:17<00:00, 563.03it/s, loss=0.0761]\n",
      "100%|██████████| 10000/10000 [00:17<00:00, 563.81it/s, loss=0.0743]\n",
      "100%|██████████| 10000/10000 [00:17<00:00, 562.96it/s, loss=0.0472]\n",
      "100%|██████████| 10000/10000 [00:17<00:00, 563.20it/s, loss=0.0571]\n",
      "100%|██████████| 10000/10000 [00:17<00:00, 562.07it/s, loss=0.0385]\n",
      "100%|██████████| 10000/10000 [00:18<00:00, 539.35it/s, loss=0.0374]\n",
      "100%|██████████| 10000/10000 [00:17<00:00, 567.58it/s, loss=0.0443]\n",
      "100%|██████████| 10000/10000 [00:18<00:00, 534.91it/s, loss=0.0248]\n",
      "100%|██████████| 10000/10000 [00:17<00:00, 563.90it/s, loss=0.0375]\n",
      "100%|██████████| 10000/10000 [00:17<00:00, 565.72it/s, loss=0.0345]\n",
      "100%|██████████| 10000/10000 [00:17<00:00, 565.39it/s, loss=0.0196]\n",
      "100%|██████████| 10000/10000 [00:18<00:00, 550.65it/s, loss=0.0214]\n",
      "100%|██████████| 10000/10000 [00:17<00:00, 565.27it/s, loss=0.0218]\n",
      "100%|██████████| 10000/10000 [00:18<00:00, 543.30it/s, loss=0.0281]\n",
      "100%|██████████| 10000/10000 [00:17<00:00, 567.44it/s, loss=0.0196]\n",
      "100%|██████████| 10000/10000 [00:17<00:00, 565.78it/s, loss=0.017]\n",
      "100%|██████████| 10000/10000 [00:17<00:00, 565.61it/s, loss=0.0156]\n"
     ]
    }
   ],
   "source": [
    "train_error, val_error = [], []\n",
    "\n",
    "for i in range(num_epochs):\n",
    "    \n",
    "    run_epoch(net_double,i,train,batch_size, num=numtrain, ttype=\"train\")\n",
    "    net_test(net_double,val,batch_size)"
   ]
  },
  {
   "cell_type": "code",
   "execution_count": 16,
   "metadata": {},
   "outputs": [
    {
     "name": "stdout",
     "output_type": "stream",
     "text": [
      "[At epoch = 20] Training set error 0.80% | Validation set error 1.61%\n"
     ]
    }
   ],
   "source": [
    "print(\"[At epoch = 20] Training set error {:.2f}% | Validation set error {:.2f}%\".format(train_error[-1], val_error[-1]))"
   ]
  },
  {
   "cell_type": "code",
   "execution_count": 31,
   "metadata": {},
   "outputs": [
    {
     "data": {
      "image/png": "[encoded data removed]",
      "text/plain": [
       "<Figure size 432x288 with 1 Axes>"
      ]
     },
     "metadata": {
      "needs_background": "light"
     },
     "output_type": "display_data"
    }
   ],
   "source": [
    "plt.plot(train_error)\n",
    "plt.plot(val_error)\n",
    "plt.legend([\"Training error\", \"Validation error\"])\n",
    "plt.title(\"Double: error rate over epoch (%)\")\n",
    "plt.show()"
   ]
  },
  {
   "cell_type": "markdown",
   "metadata": {},
   "source": [
    "(2) Half the number of parameters/features (in each layer): **\"Half\"**"
   ]
  },
  {
   "cell_type": "code",
   "execution_count": 18,
   "metadata": {},
   "outputs": [
    {
     "data": {
      "text/plain": [
       "MNIST_Net(\n",
       "  (conv1): Conv2d(1, 16, kernel_size=(5, 5), stride=(1, 1))\n",
       "  (conv2): Conv2d(16, 32, kernel_size=(5, 5), stride=(1, 1))\n",
       "  (conv2_drop): Dropout2d(p=0.5, inplace=False)\n",
       "  (fc1): Linear(in_features=512, out_features=128, bias=True)\n",
       "  (fc2): Linear(in_features=128, out_features=10, bias=True)\n",
       "  (criterion): CrossEntropyLoss()\n",
       ")"
      ]
     },
     "execution_count": 18,
     "metadata": {},
     "output_type": "execute_result"
    }
   ],
   "source": [
    "feature_dim_half = (1, 16, 32, 512, 128, 10)\n",
    "net_half = MNIST_Net(feature_dim_half, p = dropout_p, minimizer=minimizer)\n",
    "net_half.to(device)"
   ]
  },
  {
   "cell_type": "code",
   "execution_count": 19,
   "metadata": {},
   "outputs": [
    {
     "name": "stderr",
     "output_type": "stream",
     "text": [
      "100%|██████████| 10000/10000 [00:02<00:00, 3523.42it/s, loss=1.35]\n",
      "100%|██████████| 10000/10000 [00:02<00:00, 3765.65it/s, loss=0.582]\n",
      "100%|██████████| 10000/10000 [00:02<00:00, 3796.53it/s, loss=0.369]\n",
      "100%|██████████| 10000/10000 [00:02<00:00, 3764.57it/s, loss=0.354]\n",
      "100%|██████████| 10000/10000 [00:02<00:00, 3809.48it/s, loss=0.305]\n",
      "100%|██████████| 10000/10000 [00:02<00:00, 3792.74it/s, loss=0.216]\n",
      "100%|██████████| 10000/10000 [00:02<00:00, 3783.03it/s, loss=0.204]\n",
      "100%|██████████| 10000/10000 [00:02<00:00, 3762.53it/s, loss=0.223]\n",
      "100%|██████████| 10000/10000 [00:02<00:00, 3737.78it/s, loss=0.173]\n",
      "100%|██████████| 10000/10000 [00:02<00:00, 3750.18it/s, loss=0.153]\n",
      "100%|██████████| 10000/10000 [00:02<00:00, 3648.06it/s, loss=0.159]\n",
      "100%|██████████| 10000/10000 [00:02<00:00, 3642.14it/s, loss=0.128]\n",
      "100%|██████████| 10000/10000 [00:02<00:00, 3798.28it/s, loss=0.123]\n",
      "100%|██████████| 10000/10000 [00:02<00:00, 3551.93it/s, loss=0.107]\n",
      "100%|██████████| 10000/10000 [00:02<00:00, 3537.56it/s, loss=0.104]\n",
      "100%|██████████| 10000/10000 [00:02<00:00, 3627.35it/s, loss=0.101]\n",
      "100%|██████████| 10000/10000 [00:02<00:00, 3702.36it/s, loss=0.112]\n",
      "100%|██████████| 10000/10000 [00:02<00:00, 3760.56it/s, loss=0.103]\n",
      "100%|██████████| 10000/10000 [00:02<00:00, 3764.56it/s, loss=0.0897]\n",
      "100%|██████████| 10000/10000 [00:02<00:00, 3755.12it/s, loss=0.0889]\n"
     ]
    }
   ],
   "source": [
    "train_error, val_error = [], []\n",
    "\n",
    "for i in range(num_epochs):\n",
    "    \n",
    "    run_epoch(net_half,i,train,batch_size, num=numtrain, ttype=\"train\")\n",
    "    net_test(net_half,val,batch_size)"
   ]
  },
  {
   "cell_type": "code",
   "execution_count": 20,
   "metadata": {},
   "outputs": [
    {
     "name": "stdout",
     "output_type": "stream",
     "text": [
      "[At epoch = 20] Training set error 3.54% | Validation set error 2.43%\n"
     ]
    }
   ],
   "source": [
    "print(\"[At epoch = 20] Training set error {:.2f}% | Validation set error {:.2f}%\".format(train_error[-1], val_error[-1]))"
   ]
  },
  {
   "cell_type": "code",
   "execution_count": 32,
   "metadata": {},
   "outputs": [
    {
     "data": {
      "image/png": "[encoded data removed]",
      "text/plain": [
       "<Figure size 432x288 with 1 Axes>"
      ]
     },
     "metadata": {
      "needs_background": "light"
     },
     "output_type": "display_data"
    }
   ],
   "source": [
    "plt.plot(train_error)\n",
    "plt.plot(val_error)\n",
    "plt.legend([\"Training error\", \"Validation error\"])\n",
    "plt.title(\"Half: error rate over epoch (%)\")\n",
    "plt.show()"
   ]
  },
  {
   "cell_type": "markdown",
   "metadata": {},
   "source": [
    "(3) Double numbers of parameters/features in convolutional layers & Half in fully-connected layers: **\"Double-half\"**"
   ]
  },
  {
   "cell_type": "code",
   "execution_count": 22,
   "metadata": {},
   "outputs": [
    {
     "data": {
      "text/plain": [
       "MNIST_Net(\n",
       "  (conv1): Conv2d(1, 64, kernel_size=(5, 5), stride=(1, 1))\n",
       "  (conv2): Conv2d(64, 128, kernel_size=(5, 5), stride=(1, 1))\n",
       "  (conv2_drop): Dropout2d(p=0.5, inplace=False)\n",
       "  (fc1): Linear(in_features=2048, out_features=128, bias=True)\n",
       "  (fc2): Linear(in_features=128, out_features=10, bias=True)\n",
       "  (criterion): CrossEntropyLoss()\n",
       ")"
      ]
     },
     "execution_count": 22,
     "metadata": {},
     "output_type": "execute_result"
    }
   ],
   "source": [
    "feature_dim_doublehalf = (1, 64, 128, 2048, 128, 10)\n",
    "net_doublehalf = MNIST_Net(feature_dim_doublehalf, p = dropout_p, minimizer=minimizer)\n",
    "net_doublehalf.to(device)"
   ]
  },
  {
   "cell_type": "code",
   "execution_count": 23,
   "metadata": {},
   "outputs": [
    {
     "name": "stderr",
     "output_type": "stream",
     "text": [
      "100%|██████████| 10000/10000 [00:17<00:00, 564.08it/s, loss=0.614]\n",
      "100%|██████████| 10000/10000 [00:17<00:00, 583.04it/s, loss=0.317]\n",
      "100%|██████████| 10000/10000 [00:17<00:00, 578.12it/s, loss=0.257]\n",
      "100%|██████████| 10000/10000 [00:17<00:00, 579.92it/s, loss=0.181]\n",
      "100%|██████████| 10000/10000 [00:17<00:00, 582.22it/s, loss=0.136]\n",
      "100%|██████████| 10000/10000 [00:17<00:00, 579.93it/s, loss=0.129]\n",
      "100%|██████████| 10000/10000 [00:17<00:00, 580.11it/s, loss=0.0909]\n",
      "100%|██████████| 10000/10000 [00:17<00:00, 577.64it/s, loss=0.091]\n",
      "100%|██████████| 10000/10000 [00:17<00:00, 576.99it/s, loss=0.0781]\n",
      "100%|██████████| 10000/10000 [00:17<00:00, 573.10it/s, loss=0.0541]\n",
      "100%|██████████| 10000/10000 [00:17<00:00, 564.90it/s, loss=0.0669]\n",
      "100%|██████████| 10000/10000 [00:18<00:00, 541.11it/s, loss=0.0576]\n",
      "100%|██████████| 10000/10000 [00:17<00:00, 577.71it/s, loss=0.0671]\n",
      "100%|██████████| 10000/10000 [00:17<00:00, 581.73it/s, loss=0.0443]\n",
      "100%|██████████| 10000/10000 [00:17<00:00, 581.26it/s, loss=0.0538]\n",
      "100%|██████████| 10000/10000 [00:17<00:00, 582.00it/s, loss=0.0509]\n",
      "100%|██████████| 10000/10000 [00:17<00:00, 579.44it/s, loss=0.0552]\n",
      "100%|██████████| 10000/10000 [00:17<00:00, 559.84it/s, loss=0.0468]\n",
      "100%|██████████| 10000/10000 [00:17<00:00, 577.51it/s, loss=0.0431]\n",
      "100%|██████████| 10000/10000 [00:17<00:00, 578.80it/s, loss=0.0331]\n"
     ]
    }
   ],
   "source": [
    "train_error, val_error = [], []\n",
    "\n",
    "for i in range(num_epochs):\n",
    "    \n",
    "    run_epoch(net_doublehalf,i,train,batch_size, num=numtrain, ttype=\"train\")\n",
    "    net_test(net_doublehalf,val,batch_size)"
   ]
  },
  {
   "cell_type": "code",
   "execution_count": 24,
   "metadata": {},
   "outputs": [
    {
     "name": "stdout",
     "output_type": "stream",
     "text": [
      "[At epoch = 20] Training set error 1.81% | Validation set error 1.72%\n"
     ]
    }
   ],
   "source": [
    "print(\"[At epoch = 20] Training set error {:.2f}% | Validation set error {:.2f}%\".format(train_error[-1], val_error[-1]))"
   ]
  },
  {
   "cell_type": "code",
   "execution_count": 33,
   "metadata": {},
   "outputs": [
    {
     "data": {
      "image/png": "[encoded data removed]",
      "text/plain": [
       "<Figure size 432x288 with 1 Axes>"
      ]
     },
     "metadata": {
      "needs_background": "light"
     },
     "output_type": "display_data"
    }
   ],
   "source": [
    "plt.plot(train_error)\n",
    "plt.plot(val_error)\n",
    "plt.legend([\"Training error\", \"Validation error\"])\n",
    "plt.title(\"Doublehalf: error rate over epoch (%)\")\n",
    "plt.show()"
   ]
  },
  {
   "cell_type": "markdown",
   "metadata": {},
   "source": [
    "(4) Half numbers of parameters/features in convolutional layers & Double in fully-connected layers: **\"Half-double\"**"
   ]
  },
  {
   "cell_type": "code",
   "execution_count": 26,
   "metadata": {},
   "outputs": [
    {
     "data": {
      "text/plain": [
       "MNIST_Net(\n",
       "  (conv1): Conv2d(1, 16, kernel_size=(5, 5), stride=(1, 1))\n",
       "  (conv2): Conv2d(16, 32, kernel_size=(5, 5), stride=(1, 1))\n",
       "  (conv2_drop): Dropout2d(p=0.5, inplace=False)\n",
       "  (fc1): Linear(in_features=512, out_features=512, bias=True)\n",
       "  (fc2): Linear(in_features=512, out_features=10, bias=True)\n",
       "  (criterion): CrossEntropyLoss()\n",
       ")"
      ]
     },
     "execution_count": 26,
     "metadata": {},
     "output_type": "execute_result"
    }
   ],
   "source": [
    "feature_dim_halfdouble = (1, 16, 32, 512, 512, 10)\n",
    "net_halfdouble = MNIST_Net(feature_dim_halfdouble, p = dropout_p, minimizer=minimizer)\n",
    "net_halfdouble.to(device)"
   ]
  },
  {
   "cell_type": "code",
   "execution_count": 27,
   "metadata": {},
   "outputs": [
    {
     "name": "stderr",
     "output_type": "stream",
     "text": [
      "100%|██████████| 10000/10000 [00:03<00:00, 3210.24it/s, loss=0.771]\n",
      "100%|██████████| 10000/10000 [00:02<00:00, 3546.56it/s, loss=0.42]\n",
      "100%|██████████| 10000/10000 [00:02<00:00, 3555.87it/s, loss=0.272]\n",
      "100%|██████████| 10000/10000 [00:02<00:00, 3535.31it/s, loss=0.248]\n",
      "100%|██████████| 10000/10000 [00:02<00:00, 3551.76it/s, loss=0.162]\n",
      "100%|██████████| 10000/10000 [00:02<00:00, 3574.52it/s, loss=0.156]\n",
      "100%|██████████| 10000/10000 [00:02<00:00, 3589.43it/s, loss=0.109]\n",
      "100%|██████████| 10000/10000 [00:02<00:00, 3556.95it/s, loss=0.114]\n",
      "100%|██████████| 10000/10000 [00:02<00:00, 3593.59it/s, loss=0.126]\n",
      "100%|██████████| 10000/10000 [00:02<00:00, 3550.60it/s, loss=0.104]\n",
      "100%|██████████| 10000/10000 [00:02<00:00, 3355.66it/s, loss=0.0784]\n",
      "100%|██████████| 10000/10000 [00:02<00:00, 3375.35it/s, loss=0.104]\n",
      "100%|██████████| 10000/10000 [00:02<00:00, 3479.66it/s, loss=0.0788]\n",
      "100%|██████████| 10000/10000 [00:03<00:00, 3254.34it/s, loss=0.0737]\n",
      "100%|██████████| 10000/10000 [00:03<00:00, 3192.51it/s, loss=0.0649]\n",
      "100%|██████████| 10000/10000 [00:02<00:00, 3514.29it/s, loss=0.0599]\n",
      "100%|██████████| 10000/10000 [00:02<00:00, 3561.00it/s, loss=0.0493]\n",
      "100%|██████████| 10000/10000 [00:02<00:00, 3568.63it/s, loss=0.057]\n",
      "100%|██████████| 10000/10000 [00:02<00:00, 3562.82it/s, loss=0.0599]\n",
      "100%|██████████| 10000/10000 [00:02<00:00, 3549.07it/s, loss=0.0479]\n"
     ]
    }
   ],
   "source": [
    "train_error, val_error = [], []\n",
    "\n",
    "for i in range(num_epochs):\n",
    "    \n",
    "    run_epoch(net_halfdouble,i,train,batch_size, num=numtrain, ttype=\"train\")\n",
    "    net_test(net_halfdouble,val,batch_size)"
   ]
  },
  {
   "cell_type": "code",
   "execution_count": 28,
   "metadata": {},
   "outputs": [
    {
     "name": "stdout",
     "output_type": "stream",
     "text": [
      "[At epoch = 20] Training set error 2.10% | Validation set error 1.77%\n"
     ]
    }
   ],
   "source": [
    "print(\"[At epoch = 20] Training set error {:.2f}% | Validation set error {:.2f}%\".format(train_error[-1], val_error[-1]))"
   ]
  },
  {
   "cell_type": "code",
   "execution_count": 34,
   "metadata": {},
   "outputs": [
    {
     "data": {
      "image/png": "[encoded data removed]",
      "text/plain": [
       "<Figure size 432x288 with 1 Axes>"
      ]
     },
     "metadata": {
      "needs_background": "light"
     },
     "output_type": "display_data"
    }
   ],
   "source": [
    "plt.plot(train_error)\n",
    "plt.plot(val_error)\n",
    "plt.legend([\"Training error\", \"Validation error\"])\n",
    "plt.title(\"Halfdouble: error rate over epoch (%)\")\n",
    "plt.show()"
   ]
  },
  {
   "cell_type": "markdown",
   "metadata": {},
   "source": [
    "**(ii) Deeper network with similar number of parameters: \"Deep\"**"
   ]
  },
  {
   "cell_type": "markdown",
   "metadata": {},
   "source": [
    "In (i), \"Double\" yielded the best result, and \"Double-half\" yielded the second best result. Based on this, I inferred that more parameters in convolutional (rather than fully-connected) layers would contribute more to the model performance.  \n",
    "\n",
    "Therefore, I designed a deeper model with 3 convolutional layers and 2 fully-connected layers, which is presented as MNIST_Net_deep class below. Its number of parameters are as follows.\n",
    "\n",
    "- conv1: 1 input, 32 outputs, kernel size 25 $\\Rightarrow\\space(1\\times25+1)\\times32=832$  \n",
    "- conv2: 32 inputs, 64 outputs, kernel size 25 $\\Rightarrow\\space(32\\times25+1)\\times64=51,264$  \n",
    "- conv3: 64 inputs, 256 outputs, kernel size 16 $\\Rightarrow\\space(64\\times16+1)\\times256=262,400$  \n",
    "- fc1: 1024 inputs, 64 outputs $\\Rightarrow(1024+1)\\times64=65,600$  \n",
    "- fc2: 64 inputs, 10 outputs $\\Rightarrow(64+1)\\times10=650$  \n",
    "\n",
    "Hence, it has $832+51,264+262,400+65,600+650=380,746$ parameters. The original model is 317,066 parameters, so it is $(\\frac{380,746}{317,066}-1)\\times100\\approx20\\%$ more parameters than the original model. (a little more parameters)"
   ]
  },
  {
   "cell_type": "code",
   "execution_count": 35,
   "metadata": {},
   "outputs": [],
   "source": [
    "class MNIST_Net_deep(nn.Module):\n",
    "    '''\n",
    "    Edited the original codes so that I can pass down feature numbers as parameters\n",
    "    (deeper network version with fixed parameters)\n",
    "    '''\n",
    "    def __init__(self, p=0.5,minimizer='Adam'):\n",
    "        \n",
    "        super(MNIST_Net_deep, self).__init__()\n",
    "\n",
    "        self.conv1 = nn.Conv2d(1, 32, kernel_size=5, padding = 0)\n",
    "        self.conv2 = nn.Conv2d(32, 64, kernel_size=5, padding = 0)\n",
    "        self.conv3 = nn.Conv2d(64, 256, kernel_size = 4, padding = 0)\n",
    "        self.conv2_drop = nn.Dropout2d(p)\n",
    "\n",
    "        self.fc1 = nn.Linear(1024, 64)\n",
    "        self.fc2 = nn.Linear(64, 10)\n",
    "        \n",
    "        if minimizer == 'Adam':\n",
    "            self.optimizer = torch.optim.Adam(self.parameters(), lr = step_size)\n",
    "            \n",
    "        else:\n",
    "            self.optimizer = torch.optim.SGD(self.parameters(), lr = step_size, momentum=0.9)\n",
    "            \n",
    "        self.first=True\n",
    "        self.criterion=nn.CrossEntropyLoss()\n",
    "            \n",
    "    def forward(self, x):\n",
    "\n",
    "        x = F.relu(F.max_pool2d(self.conv1(x), 2))\n",
    "        x = F.relu(self.conv2_drop(self.conv2(x)), 2)\n",
    "        x = F.relu(F.max_pool2d(self.conv3(x), 2))\n",
    "        x = x.view(-1, 1024)\n",
    "        x = F.relu(self.fc1(x))\n",
    "        x = F.dropout(x, training=self.training)\n",
    "        x = self.fc2(x)\n",
    "        \n",
    "        return x\n",
    "    \n",
    "    def get_acc_and_loss(self, data, targ):\n",
    "\n",
    "        output = self.forward(data)\n",
    "        loss = self.criterion(output, targ)\n",
    "        pred = torch.max(output,1)[1]\n",
    "        correct = torch.eq(pred,targ).sum()\n",
    "        \n",
    "        return loss,correct\n",
    "        \n",
    "    def run_grad(self,data,targ):\n",
    "\n",
    "        loss, correct=self.get_acc_and_loss(data,targ)\n",
    "        self.optimizer.zero_grad()\n",
    "        loss.backward()\n",
    "        self.optimizer.step()\n",
    "        \n",
    "        return loss, correct"
   ]
  },
  {
   "cell_type": "code",
   "execution_count": 36,
   "metadata": {},
   "outputs": [
    {
     "name": "stderr",
     "output_type": "stream",
     "text": [
      "100%|██████████| 10000/10000 [00:13<00:00, 715.01it/s, loss=1.13]\n",
      "100%|██████████| 10000/10000 [00:13<00:00, 744.02it/s, loss=0.627]\n",
      "100%|██████████| 10000/10000 [00:13<00:00, 736.45it/s, loss=0.43]\n",
      "100%|██████████| 10000/10000 [00:13<00:00, 736.25it/s, loss=0.312]\n",
      "100%|██████████| 10000/10000 [00:12<00:00, 783.87it/s, loss=0.237]\n",
      "100%|██████████| 10000/10000 [00:13<00:00, 742.68it/s, loss=0.207]\n",
      "100%|██████████| 10000/10000 [00:12<00:00, 770.56it/s, loss=0.194]\n",
      "100%|██████████| 10000/10000 [00:12<00:00, 795.65it/s, loss=0.154]\n",
      "100%|██████████| 10000/10000 [00:12<00:00, 794.41it/s, loss=0.157]\n",
      "100%|██████████| 10000/10000 [00:12<00:00, 797.37it/s, loss=0.154]\n",
      "100%|██████████| 10000/10000 [00:12<00:00, 793.65it/s, loss=0.112]\n",
      "100%|██████████| 10000/10000 [00:12<00:00, 795.86it/s, loss=0.143]\n",
      "100%|██████████| 10000/10000 [00:13<00:00, 761.10it/s, loss=0.0946]\n",
      "100%|██████████| 10000/10000 [00:12<00:00, 798.22it/s, loss=0.111]\n",
      "100%|██████████| 10000/10000 [00:12<00:00, 791.84it/s, loss=0.101]\n",
      "100%|██████████| 10000/10000 [00:12<00:00, 796.79it/s, loss=0.0993]\n",
      "100%|██████████| 10000/10000 [00:12<00:00, 794.99it/s, loss=0.0768]\n",
      "100%|██████████| 10000/10000 [00:12<00:00, 783.59it/s, loss=0.0727]\n",
      "100%|██████████| 10000/10000 [00:13<00:00, 759.82it/s, loss=0.0858]\n",
      "100%|██████████| 10000/10000 [00:12<00:00, 777.54it/s, loss=0.0648]\n"
     ]
    }
   ],
   "source": [
    "net_deep = MNIST_Net_deep(p = dropout_p, minimizer=minimizer)\n",
    "net_deep.to(device)\n",
    "train_error, val_error = [], []\n",
    "\n",
    "for i in range(num_epochs):\n",
    "    \n",
    "    run_epoch(net_deep,i,train,500, num=numtrain, ttype=\"train\")\n",
    "    net_test(net_deep,val,batch_size)"
   ]
  },
  {
   "cell_type": "code",
   "execution_count": 37,
   "metadata": {},
   "outputs": [
    {
     "name": "stdout",
     "output_type": "stream",
     "text": [
      "[At epoch = 20] Training set error 2.72% | Validation set error 2.16%\n"
     ]
    }
   ],
   "source": [
    "print(\"[At epoch = 20] Training set error {:.2f}% | Validation set error {:.2f}%\".format(train_error[-1], val_error[-1]))"
   ]
  },
  {
   "cell_type": "code",
   "execution_count": 38,
   "metadata": {},
   "outputs": [
    {
     "data": {
      "image/png": "[encoded data removed]",
      "text/plain": [
       "<Figure size 432x288 with 1 Axes>"
      ]
     },
     "metadata": {
      "needs_background": "light"
     },
     "output_type": "display_data"
    }
   ],
   "source": [
    "plt.plot(train_error)\n",
    "plt.plot(val_error)\n",
    "plt.legend([\"Training error\", \"Validation error\"])\n",
    "plt.title(\"Deep: error rate over epoch (%)\")\n",
    "plt.show()"
   ]
  },
  {
   "cell_type": "markdown",
   "metadata": {},
   "source": [
    "**(iii) Best configuration**"
   ]
  },
  {
   "cell_type": "markdown",
   "metadata": {},
   "source": [
    "Among experimented models above, (i)(2) (or \"Double\") yielded the best overall performance (0.80% training error, 1.61% validation error). Therefore, I chose \"Double\" as the best configuration to use here."
   ]
  },
  {
   "cell_type": "code",
   "execution_count": 39,
   "metadata": {
    "scrolled": true
   },
   "outputs": [
    {
     "name": "stderr",
     "output_type": "stream",
     "text": [
      "100%|██████████| 50000/50000 [01:28<00:00, 565.33it/s, loss=0.112] \n",
      "100%|██████████| 50000/50000 [01:27<00:00, 568.72it/s, loss=0.0819]\n",
      "100%|██████████| 50000/50000 [01:27<00:00, 569.73it/s, loss=0.054] \n",
      "100%|██████████| 50000/50000 [01:27<00:00, 569.24it/s, loss=0.0476] \n",
      "100%|██████████| 50000/50000 [01:27<00:00, 569.42it/s, loss=0.0443] \n",
      "100%|██████████| 50000/50000 [01:27<00:00, 568.37it/s, loss=0.0625]\n",
      "100%|██████████| 50000/50000 [01:27<00:00, 569.14it/s, loss=0.0548] \n",
      "100%|██████████| 50000/50000 [01:27<00:00, 568.36it/s, loss=0.0338] \n",
      "100%|██████████| 50000/50000 [01:27<00:00, 569.83it/s, loss=0.0283] \n",
      "100%|██████████| 50000/50000 [01:27<00:00, 568.89it/s, loss=0.0229] \n",
      "100%|██████████| 50000/50000 [01:27<00:00, 568.23it/s, loss=0.0506] \n",
      "100%|██████████| 50000/50000 [01:27<00:00, 568.86it/s, loss=0.0178] \n",
      "100%|██████████| 50000/50000 [01:28<00:00, 564.88it/s, loss=0.0167] \n",
      "100%|██████████| 50000/50000 [01:28<00:00, 568.17it/s, loss=0.0337] \n",
      "100%|██████████| 50000/50000 [01:28<00:00, 564.58it/s, loss=0.0172] \n",
      "100%|██████████| 50000/50000 [01:27<00:00, 569.67it/s, loss=0.036]  \n",
      "100%|██████████| 50000/50000 [01:28<00:00, 564.09it/s, loss=0.016]  \n",
      "100%|██████████| 50000/50000 [01:30<00:00, 555.01it/s, loss=0.0376] \n",
      "100%|██████████| 50000/50000 [01:31<00:00, 547.75it/s, loss=0.0289] \n",
      "100%|██████████| 50000/50000 [01:33<00:00, 532.74it/s, loss=0.00597]\n"
     ]
    }
   ],
   "source": [
    "train_error, val_error = [], []\n",
    "\n",
    "for i in range(num_epochs):\n",
    "    run_epoch(net_double,i,train,500, num=50000, ttype=\"train\") #full training set\n",
    "    net_test(net_double,val,batch_size)"
   ]
  },
  {
   "cell_type": "code",
   "execution_count": 40,
   "metadata": {},
   "outputs": [
    {
     "name": "stdout",
     "output_type": "stream",
     "text": [
      "[At epoch = 20] Training set error 0.41% | Validation set error 0.55%\n"
     ]
    }
   ],
   "source": [
    "print(\"[At epoch = 20] Training set error {:.2f}% | Validation set error {:.2f}%\".format(train_error[-1], val_error[-1]))"
   ]
  },
  {
   "cell_type": "code",
   "execution_count": 41,
   "metadata": {},
   "outputs": [
    {
     "data": {
      "image/png": "[encoded data removed]",
      "text/plain": [
       "<Figure size 432x288 with 1 Axes>"
      ]
     },
     "metadata": {
      "needs_background": "light"
     },
     "output_type": "display_data"
    }
   ],
   "source": [
    "plt.plot(train_error)\n",
    "plt.plot(val_error)\n",
    "plt.legend([\"Training error\", \"Validation error\"])\n",
    "plt.title(\"Error rate over epoch (%)\")\n",
    "plt.show()"
   ]
  },
  {
   "cell_type": "markdown",
   "metadata": {},
   "source": [
    "The best configuration does amazing job on prediction, achieving extremely low error rates on both training and validation set (< 1%). The error rates as functions of epoch were still \"generally monotone,\" matching the previous experiment results but with superb accuracy. In particular, as we now have 5 times more iterations (20 max. epoch with 5 times greater training set) than in the experiments, this would have led to the further accuracy of the model."
   ]
  },
  {
   "cell_type": "markdown",
   "metadata": {},
   "source": [
    "**Part (c):**"
   ]
  },
  {
   "cell_type": "code",
   "execution_count": 19,
   "metadata": {},
   "outputs": [],
   "source": [
    "data_transform = np.float64(np.load('MNIST_TR.npy'))\n",
    "data_transform = np.float32(data_transform)/255\n",
    "    \n",
    "train_transform = data_transform[0:50000].reshape((-1,1,28,28))\n",
    "val_transform = data_transform[50000:60000].reshape((-1,1,28,28))\n",
    "test_transform = data_transform[60000:70000].reshape((-1,1,28,28))\n",
    "\n",
    "rng = np.random.default_rng()\n",
    "sample_ind = rng.choice(50000, size = 10, replace = False)\n",
    "sample_raw = train[0][sample_ind, 0, :, :]\n",
    "sample_transform = train_transform[sample_ind, 0, :, :]"
   ]
  },
  {
   "cell_type": "markdown",
   "metadata": {},
   "source": [
    "Original - transformed version comparison:"
   ]
  },
  {
   "cell_type": "code",
   "execution_count": 43,
   "metadata": {},
   "outputs": [
    {
     "name": "stdout",
     "output_type": "stream",
     "text": [
      "Sample original images\n"
     ]
    },
    {
     "data": {
      "image/png": "[encoded data removed]",
      "text/plain": [
       "<Figure size 720x288 with 10 Axes>"
      ]
     },
     "metadata": {
      "needs_background": "light"
     },
     "output_type": "display_data"
    },
    {
     "name": "stdout",
     "output_type": "stream",
     "text": [
      "Sample transformed images\n"
     ]
    },
    {
     "data": {
      "image/png": "[encoded data removed]",
      "text/plain": [
       "<Figure size 720x288 with 10 Axes>"
      ]
     },
     "metadata": {
      "needs_background": "light"
     },
     "output_type": "display_data"
    }
   ],
   "source": [
    "print(\"Sample original images\")\n",
    "show_image(sample_raw.reshape(10,1,28,28), 2, 5)\n",
    "print(\"Sample transformed images\")\n",
    "show_image(sample_transform.reshape(10,1,28,28), 2, 5)"
   ]
  },
  {
   "cell_type": "code",
   "execution_count": 44,
   "metadata": {},
   "outputs": [
    {
     "name": "stderr",
     "output_type": "stream",
     "text": [
      "100%|██████████| 10000/10000 [00:18<00:00, 547.60it/s, loss=0.0113]\n",
      "100%|██████████| 10000/10000 [00:18<00:00, 546.52it/s, loss=0.00541]\n",
      "100%|██████████| 10000/10000 [00:17<00:00, 562.55it/s, loss=0.0131]\n",
      "100%|██████████| 10000/10000 [00:17<00:00, 559.54it/s, loss=0.00205]\n",
      "100%|██████████| 10000/10000 [00:17<00:00, 566.71it/s, loss=0.00225]\n",
      "100%|██████████| 10000/10000 [00:17<00:00, 565.77it/s, loss=0.00389]\n",
      "100%|██████████| 10000/10000 [00:17<00:00, 562.35it/s, loss=0.01]   \n",
      "100%|██████████| 10000/10000 [00:18<00:00, 550.11it/s, loss=0.000752]\n",
      "100%|██████████| 10000/10000 [00:17<00:00, 569.06it/s, loss=0.000137]\n",
      "100%|██████████| 10000/10000 [00:17<00:00, 562.84it/s, loss=0.000353]\n",
      "100%|██████████| 10000/10000 [00:18<00:00, 551.17it/s, loss=0.000393]\n",
      "100%|██████████| 10000/10000 [00:18<00:00, 550.11it/s, loss=0.00281]\n",
      "100%|██████████| 10000/10000 [00:17<00:00, 566.55it/s, loss=0.00303]\n",
      "100%|██████████| 10000/10000 [00:17<00:00, 566.74it/s, loss=0.0014] \n",
      "100%|██████████| 10000/10000 [00:17<00:00, 566.80it/s, loss=0.000216]\n",
      "100%|██████████| 10000/10000 [00:17<00:00, 565.68it/s, loss=6.33e-5]\n",
      "100%|██████████| 10000/10000 [00:17<00:00, 567.10it/s, loss=0.00843]\n",
      "100%|██████████| 10000/10000 [00:17<00:00, 563.40it/s, loss=0.00109]\n",
      "100%|██████████| 10000/10000 [00:18<00:00, 546.86it/s, loss=0.00021]\n",
      "100%|██████████| 10000/10000 [00:18<00:00, 551.47it/s, loss=0.00314]\n"
     ]
    }
   ],
   "source": [
    "train_error, val_error = [], []\n",
    "\n",
    "val_new = (val_transform, val[1])\n",
    "\n",
    "for i in range(num_epochs):\n",
    "    run_epoch(net_double,i,train,500, num=10000, ttype=\"train\") #full training set\n",
    "    net_test(net_deep,val_new,batch_size)"
   ]
  },
  {
   "cell_type": "code",
   "execution_count": 45,
   "metadata": {},
   "outputs": [
    {
     "name": "stdout",
     "output_type": "stream",
     "text": [
      "[At epoch = 20] Training set error 0.10% | Validation set error 56.04%\n"
     ]
    }
   ],
   "source": [
    "print(\"[At epoch = 20] Training set error {:.2f}% | Validation set error {:.2f}%\".format(train_error[-1], val_error[-1]))"
   ]
  },
  {
   "cell_type": "markdown",
   "metadata": {},
   "source": [
    "Even with the \"Double\" architecture (which yielded the best performance in part (b)), the model performed terribly: while error rate on the training set was tremendous (0.10%), its error rate on the validation set was worse than half, showing that this architecture is indeed lacks transformation-invariance.  \n",
    "\n",
    "To make it more transformation-invariant, I made an edited version of the original model as below by increasing the kernel size, manipulating parameters for max_pool2d, and adjusting some feature numbers to match dimensions."
   ]
  },
  {
   "cell_type": "code",
   "execution_count": 20,
   "metadata": {},
   "outputs": [],
   "source": [
    "class MNIST_Net_transform(nn.Module):\n",
    "    '''\n",
    "    Edited the original codes so that I can pass down feature numbers as parameters\n",
    "    (For-transformed data version with some parameters passed down from outside)\n",
    "    '''\n",
    "    def __init__(self, param, p=0.5,minimizer='Adam'):\n",
    "        \n",
    "        super(MNIST_Net_transform, self).__init__()\n",
    "        \n",
    "        self.param = param\n",
    "        self.conv1 = nn.Conv2d(param[0], param[1], kernel_size=param[-4])\n",
    "        self.conv2 = nn.Conv2d(param[1], param[2], kernel_size=param[-3])\n",
    "        self.conv2_drop = nn.Dropout2d(p)\n",
    "        self.fc1 = nn.Linear(param[3], param[4])\n",
    "        self.fc2 = nn.Linear(param[4], param[5])\n",
    "        \n",
    "        if minimizer == 'Adam':\n",
    "            self.optimizer = torch.optim.Adam(self.parameters(), lr = step_size)\n",
    "            \n",
    "        else:\n",
    "            self.optimizer = torch.optim.SGD(self.parameters(), lr = step_size, momentum=0.9)\n",
    "            \n",
    "        self.first=True\n",
    "        self.criterion=nn.CrossEntropyLoss()\n",
    "            \n",
    "    def forward(self, x):\n",
    "\n",
    "        x = F.relu(F.max_pool2d(self.conv1(x), self.param[-2]))\n",
    "        x = F.relu(F.max_pool2d(self.conv2_drop(self.conv2(x)), self.param[-1]))\n",
    "        x = x.view(-1, self.param[3])\n",
    "        x = F.relu(self.fc1(x))\n",
    "        x = F.dropout(x, training=self.training)\n",
    "        x = self.fc2(x)\n",
    "        \n",
    "        return x\n",
    "    \n",
    "    def get_acc_and_loss(self, data, targ):\n",
    "\n",
    "        output = self.forward(data)\n",
    "        loss = self.criterion(output, targ)\n",
    "        pred = torch.max(output,1)[1]\n",
    "        correct = torch.eq(pred,targ).sum()\n",
    "        \n",
    "        return loss,correct\n",
    "        \n",
    "    def run_grad(self,data,targ):\n",
    "\n",
    "        loss, correct=self.get_acc_and_loss(data,targ)\n",
    "        self.optimizer.zero_grad()\n",
    "        loss.backward()\n",
    "        self.optimizer.step()\n",
    "        \n",
    "        return loss, correct"
   ]
  },
  {
   "cell_type": "markdown",
   "metadata": {},
   "source": [
    "Quick check on 10,000 training data and validation set:"
   ]
  },
  {
   "cell_type": "code",
   "execution_count": 22,
   "metadata": {},
   "outputs": [
    {
     "name": "stderr",
     "output_type": "stream",
     "text": [
      "100%|██████████| 10000/10000 [00:15<00:00, 656.08it/s, loss=1.16]\n",
      "100%|██████████| 10000/10000 [00:15<00:00, 635.37it/s, loss=0.486]\n",
      "100%|██████████| 10000/10000 [00:16<00:00, 622.50it/s, loss=0.339]\n",
      "100%|██████████| 10000/10000 [00:15<00:00, 626.19it/s, loss=0.239]\n",
      "100%|██████████| 10000/10000 [00:16<00:00, 623.73it/s, loss=0.267]\n",
      "100%|██████████| 10000/10000 [00:16<00:00, 617.39it/s, loss=0.208]\n",
      "100%|██████████| 10000/10000 [00:16<00:00, 593.60it/s, loss=0.152]\n",
      "100%|██████████| 10000/10000 [00:15<00:00, 628.31it/s, loss=0.144]\n",
      "100%|██████████| 10000/10000 [00:15<00:00, 626.02it/s, loss=0.144]\n",
      "100%|██████████| 10000/10000 [00:16<00:00, 612.28it/s, loss=0.132]\n",
      "100%|██████████| 10000/10000 [00:16<00:00, 613.94it/s, loss=0.0913]\n",
      "100%|██████████| 10000/10000 [00:16<00:00, 619.80it/s, loss=0.102]\n",
      "100%|██████████| 10000/10000 [00:16<00:00, 609.60it/s, loss=0.0892]\n",
      "100%|██████████| 10000/10000 [00:15<00:00, 631.69it/s, loss=0.076]\n",
      "100%|██████████| 10000/10000 [00:15<00:00, 633.67it/s, loss=0.0612]\n",
      "100%|██████████| 10000/10000 [00:15<00:00, 640.84it/s, loss=0.0664]\n",
      "100%|██████████| 10000/10000 [00:16<00:00, 608.29it/s, loss=0.102]\n",
      "100%|██████████| 10000/10000 [00:16<00:00, 613.89it/s, loss=0.0658]\n",
      "100%|██████████| 10000/10000 [00:16<00:00, 615.32it/s, loss=0.0596]\n",
      "100%|██████████| 10000/10000 [00:16<00:00, 618.81it/s, loss=0.0556]\n"
     ]
    }
   ],
   "source": [
    "feature_dim_tr = (1, 64, 128, 128, 256, 10, 9, 7, 2, 4)\n",
    "net_transform = MNIST_Net_transform(feature_dim_tr, p = dropout_p, minimizer=minimizer)\n",
    "net_transform.to(device)\n",
    "\n",
    "train_error, val_error = [], []\n",
    "\n",
    "#Experiment on 10,000 original training data and validation set\n",
    "for i in range(num_epochs):\n",
    "    run_epoch(net_transform,i,train,500, num=10000, ttype=\"train\")\n",
    "    net_test(net_transform,val_new,batch_size)"
   ]
  },
  {
   "cell_type": "code",
   "execution_count": 23,
   "metadata": {},
   "outputs": [
    {
     "name": "stdout",
     "output_type": "stream",
     "text": [
      "[At epoch = 20] Training set error 2.78% | Validation set error 35.24%\n"
     ]
    }
   ],
   "source": [
    "print(\"[At epoch = 20] Training set error {:.2f}% | Validation set error {:.2f}%\".format(train_error[-1], val_error[-1]))"
   ]
  },
  {
   "cell_type": "code",
   "execution_count": 24,
   "metadata": {},
   "outputs": [
    {
     "data": {
      "image/png": "[encoded data removed]",
      "text/plain": [
       "<Figure size 432x288 with 1 Axes>"
      ]
     },
     "metadata": {
      "needs_background": "light"
     },
     "output_type": "display_data"
    },
    {
     "name": "stdout",
     "output_type": "stream",
     "text": [
      "*Shows only validation error, for training error does not mean much in this context.\n"
     ]
    }
   ],
   "source": [
    "plt.plot(val_error)\n",
    "plt.title(\"For-transformation model: validation error rate over epoch (%, 10,000 training)\")\n",
    "plt.show()\n",
    "print(\"*Shows only validation error, for training error does not mean much in this context.\")"
   ]
  },
  {
   "cell_type": "markdown",
   "metadata": {},
   "source": [
    "Now, the fixed model shows 35.24% error rate on the transformed validation set. Although this might not be outstanding accuracy, it is still more than 20% decrease from the validation error rate of 56.04% by the previous (\"Double\") architecture. Considering that the \"Double\" architecture performed worse than 50-50 guess, it wowuld be a significant improvement in accuracy, and this model well deserves further examination on the full training and testing data.  \n",
    "\n"
   ]
  },
  {
   "cell_type": "markdown",
   "metadata": {},
   "source": [
    "Examination of the model by training with original training + validation sets and testing on the transformed test set:"
   ]
  },
  {
   "cell_type": "code",
   "execution_count": 54,
   "metadata": {},
   "outputs": [
    {
     "name": "stderr",
     "output_type": "stream",
     "text": [
      "100%|██████████| 50000/50000 [01:16<00:00, 656.18it/s, loss=0.0831]\n",
      "100%|██████████| 50000/50000 [01:14<00:00, 671.92it/s, loss=0.0812]\n",
      "100%|██████████| 50000/50000 [01:14<00:00, 669.58it/s, loss=0.105] \n",
      "100%|██████████| 50000/50000 [01:14<00:00, 669.71it/s, loss=0.0779]\n",
      "100%|██████████| 50000/50000 [01:15<00:00, 662.17it/s, loss=0.0494]\n",
      "100%|██████████| 50000/50000 [01:14<00:00, 668.94it/s, loss=0.0546]\n",
      "100%|██████████| 50000/50000 [01:14<00:00, 668.60it/s, loss=0.0485]\n",
      "100%|██████████| 50000/50000 [01:14<00:00, 668.79it/s, loss=0.0435]\n",
      "100%|██████████| 50000/50000 [01:19<00:00, 628.03it/s, loss=0.0763]\n",
      "100%|██████████| 50000/50000 [01:15<00:00, 660.04it/s, loss=0.026] \n",
      "100%|██████████| 50000/50000 [01:16<00:00, 649.95it/s, loss=0.0328]\n",
      "100%|██████████| 50000/50000 [01:19<00:00, 629.49it/s, loss=0.0537] \n",
      "100%|██████████| 50000/50000 [01:20<00:00, 623.90it/s, loss=0.0359] \n",
      "100%|██████████| 50000/50000 [01:26<00:00, 578.04it/s, loss=0.061]  \n",
      "100%|██████████| 50000/50000 [01:19<00:00, 631.38it/s, loss=0.0397] \n",
      "100%|██████████| 50000/50000 [01:14<00:00, 672.10it/s, loss=0.0432] \n",
      "100%|██████████| 50000/50000 [01:14<00:00, 668.64it/s, loss=0.0441] \n",
      "100%|██████████| 50000/50000 [01:15<00:00, 663.22it/s, loss=0.0497] \n",
      "100%|██████████| 50000/50000 [01:14<00:00, 670.02it/s, loss=0.0241] \n",
      "100%|██████████| 50000/50000 [01:15<00:00, 664.94it/s, loss=0.0454] \n"
     ]
    }
   ],
   "source": [
    "train_error, val_error = [], [] #val_error here is used as test error (since results are checked on the test set)\n",
    "\n",
    "test_new = (test_transform, test[1])\n",
    "\n",
    "for i in range(num_epochs):\n",
    "    run_epoch(net_transform,i,train,500, num=50000, ttype=\"train\")\n",
    "    net_test(net_transform,test_new,batch_size)"
   ]
  },
  {
   "cell_type": "code",
   "execution_count": 55,
   "metadata": {},
   "outputs": [
    {
     "name": "stdout",
     "output_type": "stream",
     "text": [
      "[At epoch = 20] Training set error 0.77% | Test set error 17.41%\n"
     ]
    }
   ],
   "source": [
    "print(\"[At epoch = 20] Training set error {:.2f}% | Test set error {:.2f}%\".format(train_error[-1], val_error[-1]))"
   ]
  },
  {
   "cell_type": "code",
   "execution_count": 56,
   "metadata": {},
   "outputs": [
    {
     "data": {
      "image/png": "[encoded data removed]",
      "text/plain": [
       "<Figure size 432x288 with 1 Axes>"
      ]
     },
     "metadata": {
      "needs_background": "light"
     },
     "output_type": "display_data"
    },
    {
     "name": "stdout",
     "output_type": "stream",
     "text": [
      "*Shows only test error, for training error does not mean much in this context.\n"
     ]
    }
   ],
   "source": [
    "plt.plot(val_error)\n",
    "plt.title(\"For-transformation model: test error rate over epoch (%, full training set)\")\n",
    "plt.show()\n",
    "print(\"*Shows only test error, for training error does not mean much in this context.\")"
   ]
  },
  {
   "cell_type": "markdown",
   "metadata": {},
   "source": [
    "Now, with the full training set, the fixed model recorded 17.41% error rate on the testing data. This is a meaningful improvement from the worse-than-50% error rate by the \"Double\" architecture, and even better than the fixed model's performance on the validation set (which is probably because the model underwent $5\\times$ more iterations here).  \n",
    "While the one-digit (or even below decimal) error rate was not be achieved, I determine that this fixed model performs sufficiently well on the transformed data with notably higher accuracy than simple random guess."
   ]
  }
 ],
 "metadata": {
  "kernelspec": {
   "display_name": "Python 3",
   "language": "python",
   "name": "python3"
  },
  "language_info": {
   "codemirror_mode": {
    "name": "ipython",
    "version": 3
   },
   "file_extension": ".py",
   "mimetype": "text/x-python",
   "name": "python",
   "nbconvert_exporter": "python",
   "pygments_lexer": "ipython3",
   "version": "3.7.4"
  }
 },
 "nbformat": 4,
 "nbformat_minor": 2
}
