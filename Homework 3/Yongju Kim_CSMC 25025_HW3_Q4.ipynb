{
 "cells": [
  {
   "cell_type": "markdown",
   "metadata": {},
   "source": [
    "Discussed this assignment with Hyun In Park, Heeseung Hwang, and Sang Hoon Kim."
   ]
  },
  {
   "cell_type": "markdown",
   "metadata": {},
   "source": [
    "**Preliminary setup:**"
   ]
  },
  {
   "cell_type": "code",
   "execution_count": 1,
   "metadata": {},
   "outputs": [],
   "source": [
    "import json\n",
    "import time\n",
    "import numpy as np\n",
    "import pandas as pd\n",
    "import matplotlib.pyplot as plt\n",
    "from sklearn.linear_model import LogisticRegression\n",
    "from sklearn.svm import LinearSVC\n",
    "from sklearn.utils import shuffle\n",
    "from scipy.sparse import csr_matrix\n",
    "import sys\n",
    "\n",
    "if not sys.warnoptions:\n",
    "    import warnings\n",
    "    warnings.simplefilter(\"ignore\")\n",
    "\n",
    "f = open(\"labeled_small.json\", \"r\")\n",
    "data = pd.DataFrame(json.load(f))\n",
    "f.close()\n",
    "\n",
    "\n",
    "with open(\"vocab_30.json\", \"r\") as f:\n",
    "    vocab = json.load(f)\n",
    "    f.close()\n",
    "    \n",
    "def binary_label(num):\n",
    "    \n",
    "    if num >= 14:\n",
    "        return 1\n",
    "    return 0\n",
    "\n",
    "data[\"label\"] = data[\"overall\"].apply(binary_label)\n",
    "data[\"review_set\"] = data[\"review\"].apply(lambda x: set(x.lower().split()))"
   ]
  },
  {
   "cell_type": "markdown",
   "metadata": {},
   "source": [
    "**Part I: Data inspection**"
   ]
  },
  {
   "cell_type": "code",
   "execution_count": 2,
   "metadata": {},
   "outputs": [],
   "source": [
    "brewer_list = data[\"brewer\"].unique()\n",
    "summary_brewer = dict()\n",
    "std_list_brewer = []\n",
    "\n",
    "beer_list = data[\"beer_id\"].unique()\n",
    "summary_beer = dict()\n",
    "std_list_beer = []\n",
    "\n",
    "for idnum in brewer_list:\n",
    "    \n",
    "    subset = data[data[\"brewer\"] == idnum][\"overall\"]\n",
    "    summary_brewer[idnum] = {\"mean\": np.mean(subset), \"median\": np.median(subset),\n",
    "           \"standard deviation\": np.std(subset)}\n",
    "    std_list_brewer.append(np.std(subset))\n",
    "\n",
    "for idnum in beer_list:\n",
    "    \n",
    "    subset = data[data[\"beer_id\"] == idnum][\"overall\"]\n",
    "    summary_beer[idnum] = {\"mean\": np.mean(subset), \"median\": np.median(subset),\n",
    "            \"standard deviation\": np.std(subset)}\n",
    "    std_list_beer.append(np.std(subset))"
   ]
  },
  {
   "cell_type": "markdown",
   "metadata": {},
   "source": [
    "Summary statistics of sample brewers (first 5 from the dictionary):"
   ]
  },
  {
   "cell_type": "code",
   "execution_count": 3,
   "metadata": {},
   "outputs": [
    {
     "name": "stdout",
     "output_type": "stream",
     "text": [
      "Brewer ID 3084: mean 13.00 median 13.00 Std. deviation 2.54\n",
      "Brewer ID 1786: mean 13.35 median 14.00 Std. deviation 2.36\n",
      "Brewer ID 2528: mean 13.29 median 14.00 Std. deviation 3.01\n",
      "Brewer ID 3704: mean 12.03 median 12.00 Std. deviation 2.92\n",
      "Brewer ID 6438: mean 13.66 median 15.50 Std. deviation 4.78\n"
     ]
    }
   ],
   "source": [
    "counter = 0\n",
    "for brewer in summary_brewer:\n",
    "    print(\"Brewer ID {:d}: mean {:.2f} median {:.2f} Std. deviation {:.2f}\".format(\n",
    "            int(brewer), summary_brewer[brewer][\"mean\"], summary_brewer[brewer][\"median\"], \n",
    "            summary_brewer[brewer][\"standard deviation\"]))\n",
    "    counter += 1\n",
    "    if counter == 5:\n",
    "        break"
   ]
  },
  {
   "cell_type": "markdown",
   "metadata": {},
   "source": [
    "Summary statistics of sample beers (first 5 from the dictionary):"
   ]
  },
  {
   "cell_type": "code",
   "execution_count": 4,
   "metadata": {},
   "outputs": [
    {
     "name": "stdout",
     "output_type": "stream",
     "text": [
      "Beer ID 45842: mean 13.00 median 13.00 Std. deviation 0.00\n",
      "Beer ID 95213: mean 14.00 median 14.00 Std. deviation 0.00\n",
      "Beer ID 65957: mean 8.00 median 8.00 Std. deviation 0.00\n",
      "Beer ID 41336: mean 16.00 median 16.00 Std. deviation 0.00\n",
      "Beer ID 80424: mean 12.00 median 12.00 Std. deviation 0.00\n"
     ]
    }
   ],
   "source": [
    "counter = 0\n",
    "for beer in summary_beer:\n",
    "    print(\"Beer ID {:d}: mean {:.2f} median {:.2f} Std. deviation {:.2f}\".format(\n",
    "            int(beer), summary_beer[beer][\"mean\"], summary_beer[beer][\"median\"], \n",
    "            summary_beer[beer][\"standard deviation\"]))\n",
    "    counter += 1\n",
    "    if counter == 5:\n",
    "        break"
   ]
  },
  {
   "cell_type": "markdown",
   "metadata": {},
   "source": [
    "Since there are approx. 400 brewers and 5,000 beers in the list, it is impractical to display summary statistics for each and all of them. (Summary statistics for some of them are given above, in order to show some sense of how those numbers are distributed. Those numbers are calculated for every brewer/beer, anyway). To see if people have (roughly) similar tastes, we need to see how standard deviation is distributed. (If people have similar tastes, they would have given similar ratings for a same beer / brewer, resulting in smaller standard deviation.)"
   ]
  },
  {
   "cell_type": "code",
   "execution_count": 5,
   "metadata": {},
   "outputs": [
    {
     "data": {
      "text/plain": [
       "2.038732137083195"
      ]
     },
     "execution_count": 5,
     "metadata": {},
     "output_type": "execute_result"
    }
   ],
   "source": [
    "np.mean(std_list_brewer)"
   ]
  },
  {
   "cell_type": "code",
   "execution_count": 6,
   "metadata": {},
   "outputs": [
    {
     "data": {
      "text/plain": [
       "1.2784411724742057"
      ]
     },
     "execution_count": 6,
     "metadata": {},
     "output_type": "execute_result"
    }
   ],
   "source": [
    "np.mean(std_list_beer)"
   ]
  },
  {
   "cell_type": "markdown",
   "metadata": {},
   "source": [
    "From above, we can see that average standard deviation of overall ratings for brewers is ≈2.04 and for beers is ≈1.28. Given that the overall rating is in the scale of 0 to 20, these are quite small numbers (less than ≈10% of the scale length). Thus, we can guess that people (in particular, who have written reviews) have pretty similar tastes."
   ]
  },
  {
   "cell_type": "markdown",
   "metadata": {},
   "source": [
    "**Part II: Sentiment analysis**"
   ]
  },
  {
   "cell_type": "markdown",
   "metadata": {},
   "source": [
    "**(a) Generating features**"
   ]
  },
  {
   "cell_type": "code",
   "execution_count": 7,
   "metadata": {},
   "outputs": [],
   "source": [
    "docs = list(data[\"review_set\"])\n",
    "indptr = [0]\n",
    "indices = []\n",
    "info = []\n",
    "\n",
    "for d in docs:\n",
    "    \n",
    "    indices.append(0)\n",
    "    info.append(1)\n",
    "    \n",
    "    for term in d:\n",
    "        \n",
    "        if term in vocab:\n",
    "            index = vocab[term] + 1      \n",
    "            indices.append(index)\n",
    "            info.append(1)\n",
    "    \n",
    "    indptr.append(len(indices)) #includes 1 for the intercept"
   ]
  },
  {
   "cell_type": "code",
   "execution_count": 8,
   "metadata": {},
   "outputs": [],
   "source": [
    "csr_feature = csr_matrix((info, indices, indptr), dtype = int)\n",
    "mat_data = data[[\"appearance\", \"aroma\", \"palate\", \"style\", \"taste\", \"label\"]].to_numpy()\n",
    "\n",
    "to_keep = []\n",
    "for i in range(len(mat_data)):\n",
    "    if np.count_nonzero(csr_feature[i].toarray()) > 1:\n",
    "        to_keep.append(i)\n",
    "\n",
    "csr_feature = csr_feature[to_keep, :]\n",
    "mat_data = mat_data[to_keep, :]\n",
    "csr_feature, mat_data = shuffle(csr_feature, mat_data, random_state = 1234)\n",
    "\n",
    "cut1, cut2 = int(len(mat_data) * 0.7), int(len(mat_data) * 0.85)\n",
    "train_data, train_feature = mat_data[:cut1], csr_feature[:cut1]\n",
    "valid_data, valid_feature = mat_data[cut1:cut2], csr_feature[cut1:cut2]\n",
    "test_data, test_feature = mat_data[cut2:], csr_feature[cut2:]"
   ]
  },
  {
   "cell_type": "markdown",
   "metadata": {},
   "source": [
    "**(b) Logistic loss vs. Hinge loss**"
   ]
  },
  {
   "cell_type": "code",
   "execution_count": 9,
   "metadata": {},
   "outputs": [],
   "source": [
    "#Logistic\n",
    "logistic_loss, logistic_time = [], []\n",
    "\n",
    "for c in [0.1, 1, 10, 100, 1000, 10000]:\n",
    "    \n",
    "    t_start = time.time()\n",
    "    logistic = LogisticRegression(fit_intercept = False, C = c, penalty = \"l2\",\n",
    "                                  multi_class = \"multinomial\", solver = \"lbfgs\") #training data already includes the intercept coordinate\n",
    "    reg = logistic.fit(train_feature, list(train_data[:,-1]))\n",
    "    t_end = time.time()\n",
    "    \n",
    "    logistic_time.append(t_end - t_start)\n",
    "    error_count = 0\n",
    "    \n",
    "    for i in range(len(valid_data)):\n",
    "        guess = np.argmax(reg.predict_proba(valid_feature[i].reshape(1, -1)))\n",
    "        \n",
    "        if guess != valid_data[i, -1]:\n",
    "            error_count += 1\n",
    "    \n",
    "    logistic_loss.append(error_count / len(valid_data))"
   ]
  },
  {
   "cell_type": "code",
   "execution_count": 10,
   "metadata": {},
   "outputs": [
    {
     "data": {
      "text/plain": [
       "[0.25335559265442403,\n",
       " 0.2653756260434057,\n",
       " 0.27813021702838064,\n",
       " 0.28080133555926545,\n",
       " 0.280534223706177,\n",
       " 0.280534223706177]"
      ]
     },
     "execution_count": 10,
     "metadata": {},
     "output_type": "execute_result"
    }
   ],
   "source": [
    "logistic_loss"
   ]
  },
  {
   "cell_type": "code",
   "execution_count": 11,
   "metadata": {},
   "outputs": [
    {
     "data": {
      "text/plain": [
       "[2.771204710006714,\n",
       " 2.212934970855713,\n",
       " 2.2966699600219727,\n",
       " 2.2375519275665283,\n",
       " 2.317929267883301,\n",
       " 2.2177069187164307]"
      ]
     },
     "execution_count": 11,
     "metadata": {},
     "output_type": "execute_result"
    }
   ],
   "source": [
    "logistic_time"
   ]
  },
  {
   "cell_type": "markdown",
   "metadata": {},
   "source": [
    "While the loss did not vary much across different values of C's, C = 0.1 yielded the lowest loss rate (0.2534). Thus, C = 0.1 would be the optimal here.  \n",
    "Each model took somewhere between 2 to 3 seconds to fit, regardless of values of C."
   ]
  },
  {
   "cell_type": "code",
   "execution_count": 12,
   "metadata": {},
   "outputs": [],
   "source": [
    "#Hinge\n",
    "hinge_loss, hinge_time = [], []\n",
    "\n",
    "for c in [0.1, 1, 10, 100, 1000, 10000]:\n",
    "    \n",
    "    t_start = time.time()\n",
    "    hinge = LinearSVC(penalty = \"l2\", loss = \"hinge\", C = c, fit_intercept = False)\n",
    "    reg = hinge.fit(train_feature, train_data[:, -1])\n",
    "    t_end = time.time()\n",
    "    \n",
    "    hinge_time.append(t_end - t_start)\n",
    "    error_count = 0\n",
    "    \n",
    "    for i in range(len(valid_data)):\n",
    "        guess = reg.predict(valid_feature[i].reshape(1, -1))\n",
    "\n",
    "        if guess != valid_data[i,-1]:\n",
    "            error_count += 1\n",
    "            \n",
    "    hinge_loss.append(error_count / len(valid_data))"
   ]
  },
  {
   "cell_type": "code",
   "execution_count": 13,
   "metadata": {},
   "outputs": [
    {
     "data": {
      "text/plain": [
       "[0.2571619365609349,\n",
       " 0.26631051752921536,\n",
       " 0.2850751252086811,\n",
       " 0.31819699499165277,\n",
       " 0.34764607679465775,\n",
       " 0.33509181969949914]"
      ]
     },
     "execution_count": 13,
     "metadata": {},
     "output_type": "execute_result"
    }
   ],
   "source": [
    "hinge_loss"
   ]
  },
  {
   "cell_type": "code",
   "execution_count": 14,
   "metadata": {},
   "outputs": [
    {
     "data": {
      "text/plain": [
       "[1.3756818771362305,\n",
       " 3.372706651687622,\n",
       " 7.662633895874023,\n",
       " 13.151164054870605,\n",
       " 13.331754207611084,\n",
       " 13.278854846954346]"
      ]
     },
     "execution_count": 14,
     "metadata": {},
     "output_type": "execute_result"
    }
   ],
   "source": [
    "hinge_time"
   ]
  },
  {
   "cell_type": "markdown",
   "metadata": {},
   "source": [
    "Here, C = 0.1 yielded the optimal error rate (0.2572), and the error rate increased quite significantly as C increased.  \n",
    "Also, while it took less than 2 seconds for fitting the model with C = 0.1, runtime rapidly grew as value of C increased."
   ]
  },
  {
   "cell_type": "markdown",
   "metadata": {},
   "source": [
    "**(c) Stochastic gradient descent**"
   ]
  },
  {
   "cell_type": "code",
   "execution_count": 15,
   "metadata": {},
   "outputs": [],
   "source": [
    "def create_batch(x, y, size):\n",
    "    \n",
    "    batches = []\n",
    "    entire = np.c_[x, y]\n",
    "    np.random.shuffle(entire)\n",
    "    num_batch = entire.shape[0] // size\n",
    "    \n",
    "    for i in range(num_batch + 1):\n",
    "        \n",
    "        minibatch = entire[i * size:(i + 1) * size, :]\n",
    "        x_batch = minibatch[:, :-1]\n",
    "        y_batch = minibatch[:, -1].reshape((-1, 1))\n",
    "        batches.append((x_batch, y_batch))\n",
    "    \n",
    "    if data.shape[0] % size != 0:\n",
    "        minibatch = entire[i * size:entire.shape[0]]\n",
    "        x_batch = minibatch[:, :-1]\n",
    "        y_batch = minibatch[:, :-1].reshape((-1, 1))\n",
    "        batches.append((x_batch, y_batch))\n",
    "    \n",
    "    return batches"
   ]
  },
  {
   "cell_type": "code",
   "execution_count": 128,
   "metadata": {},
   "outputs": [],
   "source": [
    "def SGD(x, y, delta, C, epoch, batch_size, decreasing_lr = False):\n",
    "    \n",
    "    theta = np.zeros(x.shape[1])\n",
    "    batches = create_batch(x, y, batch_size)\n",
    "    error_rate, neg_log_lik, counter = [], 0, 1\n",
    "    \n",
    "    for iter in range(epoch):\n",
    "        \n",
    "        for batch in batches:\n",
    "            \n",
    "            if len(batch[0]) >0:\n",
    "                \n",
    "                x_batch, y_batch = batch\n",
    "                eta = np.dot(x_batch, theta) \n",
    "                predict = 1 / (1 + np.exp(-eta))      \n",
    "                predict_cal =  predict > 0.5\n",
    "                predict_cal = (predict_cal.astype(int) != y_batch)\n",
    "                error_rate += [np.average(predict_cal)] * len(predict_cal)\n",
    "                \n",
    "                error = y_batch - predict - np.linalg.norm(theta) / C\n",
    "            \n",
    "                neg_log_lik += (-np.matmul(y_batch.T, eta) + np.sum(np.log(1 + np.exp(eta))))\n",
    "            \n",
    "                theta = theta + delta * np.average(error) * np.average(predict) * np.average(1 - predict) * x_batch.mean(0)\n",
    "            \n",
    "                if decreasing_lr:\n",
    "                    delta /= (counter ** 0.5)\n",
    "                    counter += 1\n",
    "        \n",
    "        neg_log_lik += np.sum(theta / C)\n",
    "        \n",
    "        return theta, np.average(error_rate), neg_log_lik[0]"
   ]
  },
  {
   "cell_type": "code",
   "execution_count": 17,
   "metadata": {},
   "outputs": [],
   "source": [
    "train_test_x, train_test_y = train_feature[:3000].toarray(), train_data[:3000, -1]\n",
    "valid_test_x, valid_test_y = valid_feature[:1500].toarray(), valid_data[:1500, -1]"
   ]
  },
  {
   "cell_type": "code",
   "execution_count": 24,
   "metadata": {},
   "outputs": [],
   "source": [
    "fixed_val_error, dec_val_error = [], []\n",
    "\n",
    "for c in [0.001, 0.01, 0.1, 1, 10, 100, 1000]:\n",
    "\n",
    "    fixed_theta, ferror, fnll = SGD(train_test_x, train_test_y, 0.005, c, 5, 10, False)\n",
    "    dec_theta, derror, dnll = SGD(train_test_x, train_test_y, 0.02, c, 5, 10, True)\n",
    "        \n",
    "    guess_fixed = 1 / (1 + np.exp(-np.matmul(valid_test_x, fixed_theta)))\n",
    "    guess_dec = 1 / (1 + np.exp(-np.matmul(valid_test_x, dec_theta)))\n",
    "    \n",
    "    guess_fixed = guess_fixed > 0.5\n",
    "    guess_dec = guess_dec > 0.5\n",
    "    guess_fixed, guess_dec = guess_fixed.astype(int), guess_dec.astype(int)\n",
    "    \n",
    "    guess_fixed = (guess_fixed != valid_test_y)\n",
    "    guess_dec = (guess_dec != valid_test_y)\n",
    "    \n",
    "    fixed_val_error.append(np.average(guess_fixed))\n",
    "    dec_val_error.append(np.average(guess_dec))\n",
    "    "
   ]
  },
  {
   "cell_type": "code",
   "execution_count": 25,
   "metadata": {},
   "outputs": [
    {
     "data": {
      "text/plain": [
       "[0.56, 0.56, 0.37866666666666665, 0.44, 0.44, 0.44, 0.44]"
      ]
     },
     "execution_count": 25,
     "metadata": {},
     "output_type": "execute_result"
    }
   ],
   "source": [
    "#empirical error rates (for both fixed and decreasing delta) differ for every execution due to random shuffling\n",
    "fixed_val_error"
   ]
  },
  {
   "cell_type": "code",
   "execution_count": 26,
   "metadata": {},
   "outputs": [
    {
     "data": {
      "text/plain": [
       "[0.56, 0.44466666666666665, 0.56, 0.44, 0.56, 0.44, 0.556]"
      ]
     },
     "execution_count": 26,
     "metadata": {},
     "output_type": "execute_result"
    }
   ],
   "source": [
    "dec_val_error"
   ]
  },
  {
   "cell_type": "markdown",
   "metadata": {},
   "source": [
    "With the given number of iterations (epoch) and batch size, optimal value of C is tested with following conditions on learning rates:  \n",
    "(1) fixed learning rate should be smaller than the initial value of the decreasing learning rate  \n",
    "(2) decreasing learning rate should go lower than the fixed delta as SGD function iterates over epoch and batches.  \n",
    "Also, learning rates are adjusted to quite small amounts after examining with relatively large values (e.g. 2), as large learning rates seemed to make the SGD process \"too rapid.\"\n",
    "\n",
    "Although the error rates differ every time executing code (some fluctuation due to random shuffling of data) and across different learning rates, it could be observed that fixed learning rate setup with C = 0.1 (i.e. $\\lambda$ =  10) consistently yielded the lowest error rate on the validation set for the most of times. Therefore, I will assume that C = 0.1 with a fixed learning rate is the optimal hereafter."
   ]
  },
  {
   "cell_type": "code",
   "execution_count": 86,
   "metadata": {},
   "outputs": [],
   "source": [
    "train_and_val_label = np.r_[train_data, valid_data][:, -1]\n",
    "train_and_val_feature = np.r_[train_feature, valid_feature]\n",
    "\n",
    "neg_log_lik, error_rate, epoch = [], [], [1, 5, 10, 20, 50, 100, 200, 300, 500, 750, 1000]\n",
    "test_set_error = []\n",
    "\n",
    "for n in epoch:\n",
    "\n",
    "    # increased batch size to mitigate the increase in runtime number of iterations grows to a large amount\n",
    "    theta, error, nll = SGD(train_test_x, train_test_y, 0.005, 0.001, n, 500, False)\n",
    "    neg_log_lik.append(nll)\n",
    "    error_rate.append(error)\n",
    "    \n",
    "    test_eta = test_feature * theta\n",
    "    predict = 1 / (1 + np.exp(-test_eta))\n",
    "    predict = predict > 0.5\n",
    "    predict = predict.astype(int)\n",
    "    \n",
    "    result = (predict != test_data[:, -1])\n",
    "    test_set_error.append(np.average(result))"
   ]
  },
  {
   "cell_type": "markdown",
   "metadata": {},
   "source": [
    "Error rate from running SGD with training+validation data:  \n",
    "(x-axis: number of iterations / epoch)"
   ]
  },
  {
   "cell_type": "code",
   "execution_count": 87,
   "metadata": {},
   "outputs": [
    {
     "data": {
      "image/png": "[encoded data removed]",
      "text/plain": [
       "<Figure size 432x288 with 1 Axes>"
      ]
     },
     "metadata": {
      "needs_background": "light"
     },
     "output_type": "display_data"
    }
   ],
   "source": [
    "plt.plot(epoch, error_rate)\n",
    "plt.show()"
   ]
  },
  {
   "cell_type": "markdown",
   "metadata": {},
   "source": [
    "Negative log-likelihood from running SGD with training+validation data:  \n",
    "(x-axis: number of iterations / epoch)"
   ]
  },
  {
   "cell_type": "code",
   "execution_count": 88,
   "metadata": {},
   "outputs": [
    {
     "data": {
      "image/png": "[encoded data removed]",
      "text/plain": [
       "<Figure size 432x288 with 1 Axes>"
      ]
     },
     "metadata": {
      "needs_background": "light"
     },
     "output_type": "display_data"
    }
   ],
   "source": [
    "plt.plot(epoch, neg_log_lik)\n",
    "plt.show()"
   ]
  },
  {
   "cell_type": "markdown",
   "metadata": {},
   "source": [
    "Error rates on the testing set (with plot, x-axis being iterations):"
   ]
  },
  {
   "cell_type": "code",
   "execution_count": 90,
   "metadata": {},
   "outputs": [
    {
     "data": {
      "text/plain": [
       "[0.44714524207011686,\n",
       " 0.44714524207011686,\n",
       " 0.44714524207011686,\n",
       " 0.5528547579298831,\n",
       " 0.5528547579298831,\n",
       " 0.44714524207011686,\n",
       " 0.5528547579298831,\n",
       " 0.5528547579298831,\n",
       " 0.44714524207011686,\n",
       " 0.44714524207011686,\n",
       " 0.44714524207011686]"
      ]
     },
     "execution_count": 90,
     "metadata": {},
     "output_type": "execute_result"
    }
   ],
   "source": [
    "test_set_error"
   ]
  },
  {
   "cell_type": "code",
   "execution_count": 89,
   "metadata": {},
   "outputs": [
    {
     "data": {
      "image/png": "[encoded data removed]",
      "text/plain": [
       "<Figure size 432x288 with 1 Axes>"
      ]
     },
     "metadata": {
      "needs_background": "light"
     },
     "output_type": "display_data"
    }
   ],
   "source": [
    "plt.plot(epoch, test_set_error)\n",
    "plt.show()"
   ]
  },
  {
   "cell_type": "markdown",
   "metadata": {},
   "source": [
    "Overall, these plots / negative log likelihood / error rates suggest a rough pattern of \"convergence\" through oscillation as number of iterations grow large.  \n",
    "\n",
    "Comparing to the logistic loss and fitting time in part(b):  \n",
    "In (b), fitting time and logistic loss did not have much correlation. (It rather had a correlation with C or $\\lambda$). If we think number of iterations here as an equivalent concept to fitting time, while it shows some convergence, it does not necessarily show increasing / decreasing trend over epoch (i.e. it oscillates and there's no significant correlation). This observation matches the result of part (b)."
   ]
  },
  {
   "cell_type": "markdown",
   "metadata": {},
   "source": [
    "**Part III: Score vs. text**"
   ]
  },
  {
   "cell_type": "code",
   "execution_count": 180,
   "metadata": {},
   "outputs": [],
   "source": [
    "# train_data, valid_data, test_data matrices from above has\n",
    "# label in its last column and score features for its other columns\n",
    "\n",
    "# choosing the optimal C and between fixed / decreasing delta\n",
    "fixed_score_error, dec_score_error = [], []\n",
    "\n",
    "for c in [0.001, 0.01, 0.1, 1, 10, 100, 1000]:\n",
    "\n",
    "    fixed_theta, ferror, fnll = SGD(train_data[:3000, :-1], train_data[:3000, -1], 0.05, c, 10, 10, False)\n",
    "    dec_theta, derror, dnll = SGD(train_data[:3000, :-1], train_data[:3000, -1], 2, c, 10, 10, True)\n",
    "        \n",
    "    guess_fixed = 1 / (1 + np.exp(-np.dot(valid_data[-1000:, :-1], fixed_theta)))\n",
    "    guess_dec = 1 / (1 + np.exp(-np.dot(valid_data[-1000:, :-1], dec_theta)))\n",
    "    \n",
    "    guess_fixed = guess_fixed > 0.5\n",
    "    guess_dec = guess_dec > 0.5\n",
    "    guess_fixed, guess_dec = guess_fixed.astype(int), guess_dec.astype(int)\n",
    "    guess_fixed = (guess_fixed != valid_data[-1000:, -1])\n",
    "    guess_dec = (guess_dec != valid_data[-1000:, -1])\n",
    "    \n",
    "    fixed_score_error.append(np.average(guess_fixed))\n",
    "    dec_score_error.append(np.average(guess_dec))"
   ]
  },
  {
   "cell_type": "code",
   "execution_count": 181,
   "metadata": {},
   "outputs": [
    {
     "data": {
      "text/plain": [
       "[0.564, 0.564, 0.564, 0.396, 0.436, 0.436, 0.572]"
      ]
     },
     "execution_count": 181,
     "metadata": {},
     "output_type": "execute_result"
    }
   ],
   "source": [
    "fixed_score_error"
   ]
  },
  {
   "cell_type": "code",
   "execution_count": 182,
   "metadata": {},
   "outputs": [
    {
     "data": {
      "text/plain": [
       "[0.436, 0.436, 0.564, 0.436, 0.564, 0.564, 0.436]"
      ]
     },
     "execution_count": 182,
     "metadata": {},
     "output_type": "execute_result"
    }
   ],
   "source": [
    "dec_score_error"
   ]
  },
  {
   "cell_type": "markdown",
   "metadata": {},
   "source": [
    "By a similar method in part (b), optimal value of C is examined here. Although empirical error rates still differ by each execution and various learning rates setup, it could be observed that C = 1 with a fixed learning rate yielded the lowest error rate for the most of times.  \n",
    "Thus, I will assume that C = 1 with a fixed delta to be optimal for score features."
   ]
  },
  {
   "cell_type": "code",
   "execution_count": 214,
   "metadata": {},
   "outputs": [
    {
     "name": "stdout",
     "output_type": "stream",
     "text": [
      "0.5524540901502504\n"
     ]
    }
   ],
   "source": [
    "#training a model using optimal parameters on the union of training & validation set\n",
    "\n",
    "train_val_data = np.r_[train_data, valid_data]\n",
    "\n",
    "# increased batch size to mitigate the increase in runtime\n",
    "# due to greater data size and number of epoch\n",
    "\n",
    "# By the \"convergence\" trend for more iterations, I will simply use the large epoch (1000)\n",
    "theta, error, nll = SGD(train_val_data[:, :-1], train_val_data[:, -1], 0.05, 1, 1000, 100, False)\n",
    "    \n",
    "test_eta = np.dot(test_data[:, :-1], theta)\n",
    "predict = 1 / (1 + np.exp(-test_eta))\n",
    "predict = predict > 0.5\n",
    "predict = predict.astype(int)\n",
    "    \n",
    "result = (predict != test_data[:, -1])\n",
    "print(np.average(result))"
   ]
  },
  {
   "cell_type": "markdown",
   "metadata": {},
   "source": [
    "Reminder: the lowest error rate on the test set using text features were $\\approx.0.45$.  \n",
    "\n",
    "Although fluctuates per every execution due to the random shuffling effect, test set error rates were usually higher than 0.45 based on score features.  \n",
    "Therefore, I would say that score features are less powerful in prediction than text features are.  \n",
    "\n",
    "Intuitively, this would be due to the fact that score features are \"ambiguously defined\" quantification -- although people might be sure if they feel good or bad about taste / aroma / appearance, etc., numerical scale for the intensity of those feelings would depend very much on person. (i.e. even if two people were \"equally satisfied\" with aroma, one might give 20 while the other might give 15.)  \n",
    "On the other hand, text features only capture whether or not certain words were used, and it does not involve quantification of sentiment degree. Therefore, it might have worked as fairer measure, free from biased numerical expression of feelings."
   ]
  }
 ],
 "metadata": {
  "kernelspec": {
   "display_name": "Python 3",
   "language": "python",
   "name": "python3"
  },
  "language_info": {
   "codemirror_mode": {
    "name": "ipython",
    "version": 3
   },
   "file_extension": ".py",
   "mimetype": "text/x-python",
   "name": "python",
   "nbconvert_exporter": "python",
   "pygments_lexer": "ipython3",
   "version": "3.7.4"
  }
 },
 "nbformat": 4,
 "nbformat_minor": 2
}
