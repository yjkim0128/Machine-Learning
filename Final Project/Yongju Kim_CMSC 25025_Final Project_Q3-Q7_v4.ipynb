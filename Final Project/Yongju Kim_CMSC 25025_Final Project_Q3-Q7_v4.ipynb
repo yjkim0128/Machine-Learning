{
 "cells": [
  {
   "cell_type": "markdown",
   "metadata": {
    "colab_type": "text",
    "id": "CTpGf9J58BzM"
   },
   "source": [
    "Throughout this project, \"progress/accuracy tracking message\" for the neural network training process is trimmed out in the final output, as they do not tell much about the results. (I used them for performance check purpose while writing and running the code.)  \n",
    "\n",
    "This notebook is written and executed on Google Colab, and then opened via Jupyter for PDF conversion."
   ]
  },
  {
   "cell_type": "markdown",
   "metadata": {
    "colab_type": "text",
    "id": "WTT4Ke1pmlZi"
   },
   "source": [
    "**Preliminary setup:**"
   ]
  },
  {
   "cell_type": "code",
   "execution_count": 0,
   "metadata": {
    "colab": {},
    "colab_type": "code",
    "id": "zZPG6zfR2Uew"
   },
   "outputs": [],
   "source": [
    "import torch\n",
    "import time\n",
    "import numpy as np\n",
    "import torch.nn as nn\n",
    "import torch.nn.functional as F\n",
    "import torch.optim as optim\n",
    "import matplotlib.pyplot as plt\n",
    "from tqdm import tqdm"
   ]
  },
  {
   "cell_type": "code",
   "execution_count": 0,
   "metadata": {
    "colab": {},
    "colab_type": "code",
    "id": "JiOgmTJQlLdU"
   },
   "outputs": [],
   "source": [
    "use_gpu = True\n",
    "device = 'cuda:0' if torch.cuda.is_available() and use_gpu else 'cpu'"
   ]
  },
  {
   "cell_type": "code",
   "execution_count": 0,
   "metadata": {
    "colab": {},
    "colab_type": "code",
    "id": "hnSJUksoln3P"
   },
   "outputs": [],
   "source": [
    "letter_data = np.float64(np.load(\"/content/drive/My Drive/cmsc25025_project/letters_data.npy\"))[:100000]\n",
    "\n",
    "digit_data = np.float64(np.load(\"/content/drive/My Drive/cmsc25025_project/MNIST.npy\"))\n",
    "digit_transform = np.float64(np.load(\"/content/drive/My Drive/cmsc25025_project/MNIST_TRANSFORM_data.npy\"))\n",
    "digit_label = np.float32(np.load(\"/content/drive/My Drive/cmsc25025_project/MNIST_labels.npy\"))"
   ]
  },
  {
   "cell_type": "markdown",
   "metadata": {
    "colab_type": "text",
    "id": "uUud1UnqmonZ"
   },
   "source": [
    "**Question 3 Part (a):**"
   ]
  },
  {
   "cell_type": "markdown",
   "metadata": {
    "colab_type": "text",
    "id": "Xgl1xEgNmvHv"
   },
   "source": [
    "Original network (N0) provided for homework 4 is defined below."
   ]
  },
  {
   "cell_type": "code",
   "execution_count": 0,
   "metadata": {
    "colab": {},
    "colab_type": "code",
    "id": "ZNgWl-sNmrTw"
   },
   "outputs": [],
   "source": [
    "class N0(nn.Module):\n",
    "\n",
    "    def __init__(self,p=0.5,minimizer='Adam'):\n",
    "      \n",
    "        super(N0, self).__init__()\n",
    "        self.conv1 = nn.Conv2d(1, 32, kernel_size=5)\n",
    "        self.conv2 = nn.Conv2d(32, 64, kernel_size=5)\n",
    "        self.conv2_drop = nn.Dropout2d(p)\n",
    "        self.fc1 = nn.Linear(1024, 256)\n",
    "        self.fc2 = nn.Linear(256, 10)\n",
    "\n",
    "        if minimizer == 'Adam':\n",
    "            self.optimizer = torch.optim.Adam(self.parameters(), lr = step_size)\n",
    "        else:\n",
    "            self.optimizer = torch.optim.SGD(self.parameters(), lr = step_size, momentum=0.9)\n",
    "\n",
    "        self.first=True\n",
    "        self.criterion=nn.CrossEntropyLoss()\n",
    "            \n",
    "    def forward(self, x):\n",
    "\n",
    "        x = F.relu(F.max_pool2d(self.conv1(x), 2))\n",
    "        x = F.relu(F.max_pool2d(self.conv2_drop(self.conv2(x)), 2))\n",
    "        x = x.view(-1, 1024)\n",
    "        x = F.relu(self.fc1(x))\n",
    "        x = F.dropout(x, training=self.training)\n",
    "        x = self.fc2(x)\n",
    "\n",
    "        return x\n",
    "    \n",
    "    def get_acc_and_loss(self, data, targ):\n",
    "\n",
    "        output = self.forward(data)\n",
    "        loss = self.criterion(output, targ)\n",
    "        pred = torch.max(output,1)[1]\n",
    "        correct = torch.eq(pred,targ).sum()\n",
    "        \n",
    "        return loss,correct\n",
    "        \n",
    "    def run_grad(self,data,targ):\n",
    "\n",
    "        loss, correct=self.get_acc_and_loss(data,targ)\n",
    "        self.optimizer.zero_grad()\n",
    "        loss.backward()\n",
    "        self.optimizer.step()\n",
    "        \n",
    "        return loss, correct"
   ]
  },
  {
   "cell_type": "markdown",
   "metadata": {
    "colab_type": "text",
    "id": "R2JHbtswm5J6"
   },
   "source": [
    "Architecture of N1, of which sole purpose is embedding training, is defined below. `cosine_contrastive` function used for loss calculation is to be defined later. `nn.MarginRankingLoss` is for the alternative loss function proposed in Question 2 and will be used in Question 7."
   ]
  },
  {
   "cell_type": "code",
   "execution_count": 0,
   "metadata": {
    "colab": {},
    "colab_type": "code",
    "id": "jgN-m7jGm893"
   },
   "outputs": [],
   "source": [
    "class N1(nn.Module):\n",
    "\n",
    "    def __init__(self, p=0.5, minimizer=\"Adam\", simil=\"cosine\"):\n",
    "      \n",
    "        super(N1, self).__init__()\n",
    "        self.conv1 = nn.Conv2d(1, 32, kernel_size=5)\n",
    "        self.conv2 = nn.Conv2d(32, 64, kernel_size=5)\n",
    "        self.conv2_drop = nn.Dropout2d(p)\n",
    "        self.fc64 = nn.Linear(1024, 64)\n",
    "        self.simil = simil\n",
    "\n",
    "        if minimizer == 'Adam':\n",
    "            self.optimizer = torch.optim.Adam(self.parameters(), lr = step_size)\n",
    "        else:\n",
    "            self.optimizer = torch.optim.SGD(self.parameters(), lr = step_size, momentum=0.9)\n",
    "\n",
    "        if simil == \"cosine\":\n",
    "            self.criterion = None #to be updated by the methods\n",
    "          \n",
    "        else:\n",
    "            self.criterion = nn.MarginRankingLoss()\n",
    "            \n",
    "    def forward(self, x):\n",
    "\n",
    "        x = F.relu(F.max_pool2d(self.conv1(x), 2))\n",
    "        x = F.relu(F.max_pool2d(self.conv2_drop(self.conv2(x)), 2))\n",
    "        x = x.view(-1, 1024)\n",
    "        x = self.fc64(x)\n",
    "\n",
    "        return x\n",
    "    \n",
    "    def get_acc_and_loss(self, data1,data2,targ,simil):\n",
    "\n",
    "        output1 = self.forward(data1)\n",
    "        output2 = self.forward(data2)\n",
    "\n",
    "        if simil == \"cosine\":\n",
    "          loss = cosine_contrastive(output1, output2)\n",
    "          self.criterion = loss\n",
    "        \n",
    "        else:\n",
    "          loss = self.criterion(output1, output2, targ)\n",
    "        \n",
    "        return loss\n",
    "        \n",
    "    def run_grad(self,data1,data2,targ,simil):\n",
    "\n",
    "        loss=self.get_acc_and_loss(data1,data2, targ, simil)\n",
    "        self.optimizer.zero_grad()\n",
    "        loss.backward()\n",
    "        self.optimizer.step()\n",
    "        \n",
    "        return loss"
   ]
  },
  {
   "cell_type": "markdown",
   "metadata": {
    "colab_type": "text",
    "id": "Zaq_HF0vnEhF"
   },
   "source": [
    "**Question 3 Part (b):**  \n",
    "\n",
    "Random perturbation function is implemented below. For the handwritten alphabets, rotation or flipping could make one letter just look like different letters (N and Z, H and I depending on handwriting style, etc.), so they are not used here.  \n",
    "\n",
    "In order to verify that this function works as expected, I have experimented with 10 sample handwritten letter images below.  "
   ]
  },
  {
   "cell_type": "code",
   "execution_count": 0,
   "metadata": {
    "colab": {},
    "colab_type": "code",
    "id": "bJqD7kJ4nD4H"
   },
   "outputs": [],
   "source": [
    "def affine(x_in, factor):\n",
    "\n",
    "  nn = x_in.shape[0]\n",
    "  h = x_in.shape[2]\n",
    "  w = x_in.shape[3]\n",
    "\n",
    "  u = ((torch.rand(nn, 6) - 0.5)) * factor\n",
    "  ID = torch.zeros(nn, 6)\n",
    "  \n",
    "  ID[:, 0] = 1\n",
    "  ID[:, 3] = 1\n",
    "  ID[:, 4] = 1\n",
    "  \n",
    "  theta = (u + ID).reshape(-1, 2, 3)\n",
    "  grid = F.affine_grid(theta, [nn, 1, h, w], align_corners = True)\n",
    "  x_out = F.grid_sample(x_in, grid, padding_mode = \"zeros\", align_corners = True)\n",
    "\n",
    "  return x_out.type(torch.DoubleTensor)"
   ]
  },
  {
   "cell_type": "code",
   "execution_count": 0,
   "metadata": {
    "colab": {
     "base_uri": "https://localhost:8080/",
     "height": 298
    },
    "colab_type": "code",
    "id": "hLkX3Pf1nbyN",
    "outputId": "642f8c95-b40a-4566-be25-93d6d5f92908"
   },
   "outputs": [
    {
     "name": "stderr",
     "output_type": "stream",
     "text": [
      "/usr/local/lib/python3.6/dist-packages/torch/nn/functional.py:3316: UserWarning: Since version 1.3.0, affine_grid behavior has changed for unit-size grids when align_corners=True. This is not an intended use case of affine_grid. See the documentation of affine_grid for details.\n",
      "  warnings.warn(\"Since version 1.3.0, affine_grid behavior has changed \"\n"
     ]
    },
    {
     "data": {
      "image/png": "[encoded data removed]",
      "text/plain": [
       "<Figure size 1440x288 with 20 Axes>"
      ]
     },
     "metadata": {
      "needs_background": "light",
      "tags": []
     },
     "output_type": "display_data"
    }
   ],
   "source": [
    "# Used factor 1.5, which seems to be moderately emphasizing the augmentation effects\n",
    "test = affine(torch.from_numpy(letter_data[:10]).float(), 1.5)\n",
    "ncols, nrows = 10, 2\n",
    "\n",
    "plt.figure(figsize = (ncols * 2, nrows * 2))\n",
    "\n",
    "for i in range(nrows * ncols):\n",
    "\n",
    "  plt.subplot(nrows, ncols, i + 1)\n",
    "\n",
    "  if i < 10:\n",
    "    plt.imshow(letter_data[i, :, :, 0], cmap = \"gray\")\n",
    "  \n",
    "  else:\n",
    "    plt.imshow(test[i - 10, :, :, 0], cmap = \"gray\")\n",
    "\n",
    "  plt.axis(\"off\")\n",
    "plt.axis(\"off\")\n",
    "plt.show()"
   ]
  },
  {
   "cell_type": "markdown",
   "metadata": {
    "colab_type": "text",
    "id": "lNTt5K-lnlRO"
   },
   "source": [
    "In the above, original images are in the first row and corresponding perturbed images are in the second row. Clearly, we can see that the affine function performs random shifting and scaling, but not flipping or rotations, as expected."
   ]
  },
  {
   "cell_type": "markdown",
   "metadata": {
    "colab_type": "text",
    "id": "69G3VZ5boFf-"
   },
   "source": [
    "**Question 3 Part (c):**  \n",
    "\n",
    "The paper used contrastive loss function based on cosine similarity, which is implemented as `cosine_contrastive` below. This function will be called during the embedding training process by N1.  \n",
    "\n",
    "Credit: Discussed with Heeseung Hwang on the design of this function."
   ]
  },
  {
   "cell_type": "code",
   "execution_count": 0,
   "metadata": {
    "colab": {},
    "colab_type": "code",
    "id": "BkA6oDozZdMe"
   },
   "outputs": [],
   "source": [
    "def cosine_contrastive(x1, x2):\n",
    "  '''\n",
    "  Compute cosine similarity-based contrastive loss.\n",
    "\n",
    "  Credit: discussed with Hee Seung Hwang on the design of this function\n",
    "  '''\n",
    "  new = torch.cat((x1, x2), dim = 0)\n",
    "  norm = F.normalize(new, p = 2, dim = 1)\n",
    "\n",
    "  # tau here shall be set as a global variable outside\n",
    "  mat = torch.div(torch.mm(norm, torch.t(norm)), tau)\n",
    "  mat = torch.exp(mat)\n",
    "\n",
    "  diag = torch.diag(mat, diagonal = 0)\n",
    "  row = torch.sum(mat, dim = 0)\n",
    "  row = row - diag\n",
    "  denom = torch.div(mat, row)\n",
    "  x = -torch.log(denom)\n",
    "\n",
    "  result = torch.cat((torch.diag(x, diagonal = len(x) // 2), \n",
    "                      torch.diag(x, diagonal = -len(x) // 2)), dim = 0)\n",
    "  \n",
    "  return torch.mean(result)"
   ]
  },
  {
   "cell_type": "markdown",
   "metadata": {
    "colab_type": "text",
    "id": "FElbIPAgolF9"
   },
   "source": [
    "**Question 3 Part (d):**  \n",
    "\n",
    "In order to train the embedding via N1, I first generated perturbations of all 100,000 handwritten letter images. Then, for each minibatch, I passed down a chunk of original images and another chunk of corresponding perturbed images as a pair.  \n",
    "\n"
   ]
  },
  {
   "cell_type": "code",
   "execution_count": 0,
   "metadata": {
    "colab": {},
    "colab_type": "code",
    "id": "cVzWcHEynkWx"
   },
   "outputs": [],
   "source": [
    "def run_epoch_N1(net, epoch, train1, train2, y, batch_size, num=None, ttype=\"train\", is_cosine = True):\n",
    "    '''\n",
    "    Slightly modified run_epoch function of the originally provided code\n",
    "    so that it would match the construct of N1 class\n",
    "    '''\n",
    "    net.train()\n",
    "\n",
    "    if ttype=='train':\n",
    "        t1=time.time()\n",
    "        n=train1[0].shape[0]\n",
    "\n",
    "        if (num is not None):\n",
    "            n=np.minimum(n,num)\n",
    "\n",
    "        train_loss=0; train_correct=0\n",
    "        \n",
    "        with tqdm(total=num) as progress_bar:\n",
    "            for j in np.arange(0,num,batch_size):\n",
    "\n",
    "                data1 = train1[j:j+batch_size].to(device)\n",
    "                data2 = train2[j:j+batch_size].to(device)\n",
    "                targ=torch.from_numpy(y[j:j+batch_size]).type(torch.long).to(device)\n",
    "                \n",
    "                if is_cosine:\n",
    "                  loss = net.run_grad(data1, data2, targ, \"cosine\")\n",
    "\n",
    "                else:\n",
    "                  targ = targ.unsqueeze(dim = 1)\n",
    "                  loss = net.run_grad(data1, data2, targ, \"euclidean\")\n",
    "\n",
    "                train_loss += loss.item()\n",
    "                \n",
    "                progress_bar.set_postfix(loss=loss.item())\n",
    "                progress_bar.update(data1.size(0))\n",
    "\n",
    "        train_loss /= len(y)\n",
    "        print('\\nTraining set epoch {}: Avg. loss: {:.4f}, Accuracy: {}/{} ({:.0f}%)\\n'.format(epoch,\n",
    "            train_loss, train_correct, len(y),\n",
    "            100. * train_correct / len(y)))"
   ]
  },
  {
   "cell_type": "code",
   "execution_count": 0,
   "metadata": {
    "colab": {},
    "colab_type": "code",
    "id": "HN84SyJmqXrH"
   },
   "outputs": [],
   "source": [
    "letter_pert = affine(torch.from_numpy(letter_data).float(), 1.5).reshape(100000, 1, 28, 28).float()\n",
    "letter_data = torch.from_numpy(letter_data.reshape(100000, 1, 28, 28)).float()\n",
    "y = np.array([1] * 100000)"
   ]
  },
  {
   "cell_type": "code",
   "execution_count": 0,
   "metadata": {
    "colab": {
     "base_uri": "https://localhost:8080/",
     "height": 118
    },
    "colab_type": "code",
    "id": "W9w_AjS3q8gs",
    "outputId": "3b193a68-c091-4e9d-970c-c006f86d5eeb"
   },
   "outputs": [
    {
     "data": {
      "text/plain": [
       "N1(\n",
       "  (conv1): Conv2d(1, 32, kernel_size=(5, 5), stride=(1, 1))\n",
       "  (conv2): Conv2d(32, 64, kernel_size=(5, 5), stride=(1, 1))\n",
       "  (conv2_drop): Dropout2d(p=0.5, inplace=False)\n",
       "  (fc64): Linear(in_features=1024, out_features=64, bias=True)\n",
       ")"
      ]
     },
     "execution_count": 11,
     "metadata": {
      "tags": []
     },
     "output_type": "execute_result"
    }
   ],
   "source": [
    "#tau (temperature parameter) is set to a small number after testing several values.\n",
    "batch_size, step_size, num_epochs, numtrain, tau = 5000, 0.001, 20, 100000, 0.1\n",
    "dropout_p, dim, nchannels = 0.5, 28, 1\n",
    "minimizer=\"SGD\"\n",
    "model_name=\"model\"\n",
    "\n",
    "net1 = N1(p = dropout_p, minimizer=\"SGD\", simil=\"cosine\")\n",
    "net1.to(device)"
   ]
  },
  {
   "cell_type": "markdown",
   "metadata": {
    "colab_type": "text",
    "id": "f-R8E-PArUBQ"
   },
   "source": [
    "N1 is trained via stochastic gradient descent using SGD optimizer below. Validation step is skipped since classification error / accuracy does not matter at this moment (we will only use the embeddings of N1)."
   ]
  },
  {
   "cell_type": "code",
   "execution_count": 0,
   "metadata": {
    "colab": {},
    "colab_type": "code",
    "id": "AHxtTk3Hr1rP"
   },
   "outputs": [],
   "source": [
    "for i in range(num_epochs):\n",
    "    run_epoch_N1(net1,i,letter_data, letter_pert, y,batch_size, num=numtrain, ttype=\"train\")"
   ]
  },
  {
   "cell_type": "markdown",
   "metadata": {
    "colab_type": "text",
    "id": "w1VcY01nyLzX"
   },
   "source": [
    "**Question 3 Part (e):**  \n",
    "\n",
    "N2 is defined and N1 embedding parameters are passed down. In order to check that those parameters are working well (as we would anticipate), I trained N2 with the full training set (net2full) and examined its error rates before moving on to Question 4 and train on a small set."
   ]
  },
  {
   "cell_type": "code",
   "execution_count": 0,
   "metadata": {
    "colab": {},
    "colab_type": "code",
    "id": "oS6qCtQ1yN-A"
   },
   "outputs": [],
   "source": [
    "class N2(nn.Module):\n",
    "\n",
    "    def __init__(self,minimizer='Adam'):\n",
    "      \n",
    "        super(N2, self).__init__()\n",
    "        self.conv1 = nn.Conv2d(1, 32, kernel_size=5)\n",
    "        self.conv2 = nn.Conv2d(32, 64, kernel_size=5)\n",
    "        self.fc10 = nn.Linear(1024, 10)\n",
    "\n",
    "        if minimizer == 'Adam':\n",
    "            self.optimizer = torch.optim.Adam(self.parameters(), lr = step_size)\n",
    "        else:\n",
    "            self.optimizer = torch.optim.SGD(self.parameters(), lr = step_size, momentum=0.9)\n",
    "\n",
    "        self.first=True\n",
    "        self.criterion=nn.CrossEntropyLoss()\n",
    "            \n",
    "    def forward(self, x):\n",
    "\n",
    "        x = F.relu(F.max_pool2d(self.conv1(x), 2))\n",
    "        x = F.relu(F.max_pool2d(self.conv2(x), 2))\n",
    "        x = x.view(-1, 1024)\n",
    "        x = self.fc10(x)\n",
    "\n",
    "        return x\n",
    "    \n",
    "    def get_acc_and_loss(self, data, targ):\n",
    "\n",
    "        output = self.forward(data)\n",
    "        loss = self.criterion(output, targ)\n",
    "        pred = torch.max(output,1)[1]\n",
    "        correct = torch.eq(pred,targ).sum()\n",
    "        \n",
    "        return loss,correct\n",
    "        \n",
    "    def run_grad(self,data,targ):\n",
    "\n",
    "        loss, correct=self.get_acc_and_loss(data,targ)\n",
    "        self.optimizer.zero_grad()\n",
    "        loss.backward()\n",
    "        self.optimizer.step()\n",
    "        \n",
    "        return loss, correct"
   ]
  },
  {
   "cell_type": "code",
   "execution_count": 0,
   "metadata": {
    "colab": {
     "base_uri": "https://localhost:8080/",
     "height": 34
    },
    "colab_type": "code",
    "id": "UwM7GXNcygWh",
    "outputId": "6f7e895c-06af-451f-a72f-dc04fa2b486a"
   },
   "outputs": [
    {
     "data": {
      "text/plain": [
       "<All keys matched successfully>"
      ]
     },
     "execution_count": 14,
     "metadata": {
      "tags": []
     },
     "output_type": "execute_result"
    }
   ],
   "source": [
    "net2full = N2(minimizer = \"Adam\")\n",
    "net2full.to(device)\n",
    "\n",
    "params1 = net1.named_parameters()\n",
    "params2full = net2full.named_parameters()\n",
    "dict_params2 = dict(params2full)\n",
    "\n",
    "for name, param in params1:\n",
    "  if name in dict_params2:\n",
    "    dict_params2[name].data.copy_(param.data)\n",
    "\n",
    "net2full.load_state_dict(dict_params2)"
   ]
  },
  {
   "cell_type": "code",
   "execution_count": 0,
   "metadata": {
    "colab": {},
    "colab_type": "code",
    "id": "QjnD6dEMyo8m"
   },
   "outputs": [],
   "source": [
    "PP = []\n",
    "\n",
    "for name, param in net2full.named_parameters():\n",
    "  if \"fc10\" in name:\n",
    "    PP.append(param)\n",
    "\n",
    "net2full.optimizer = torch.optim.Adam(PP, lr = step_size)"
   ]
  },
  {
   "cell_type": "code",
   "execution_count": 0,
   "metadata": {
    "colab": {},
    "colab_type": "code",
    "id": "foSnIe2Syv-I"
   },
   "outputs": [],
   "source": [
    "def run_epoch_general(net,epoch,train,batch_size, num=None, ttype=\"train\"):\n",
    "    \n",
    "    net.train()\n",
    "\n",
    "    if ttype=='train':\n",
    "        t1=time.time()\n",
    "        n=train[0].shape[0]\n",
    "\n",
    "        if (num is not None):\n",
    "            n=np.minimum(n,num)\n",
    "\n",
    "        ii=np.array(np.arange(0,n,1))\n",
    "        tr=train[0][ii]\n",
    "        y=train[1][ii]\n",
    "\n",
    "        train_loss=0; train_correct=0\n",
    "\n",
    "        with tqdm(total=len(y)) as progress_bar:\n",
    "            for j in np.arange(0,len(y),batch_size):\n",
    "              # Transfer batch data to device (cpu or gpu)\n",
    "                data=tr[j:j+batch_size].to(device)\n",
    "                targ=torch.from_numpy(y[j:j+batch_size]).type(torch.long).to(device)\n",
    "              # Compute gradients, update params and report loss and correct\n",
    "                loss, correct = net.run_grad(data,targ) \n",
    "                \n",
    "                train_loss += loss.item()\n",
    "                train_correct += correct.item()\n",
    "                \n",
    "                progress_bar.set_postfix(loss=loss.item())\n",
    "                progress_bar.update(data.size(0))\n",
    "        train_loss /= len(y)\n",
    "\n",
    "        train_error.append(100 - (100 * train_correct / len(y)))\n",
    "\n",
    "        print('\\nTraining set epoch {}: Avg. loss: {:.4f}, Accuracy: {}/{} ({:.0f}%)\\n'.format(epoch,\n",
    "            train_loss, train_correct, len(y),\n",
    "            100. * train_correct / len(y)))"
   ]
  },
  {
   "cell_type": "code",
   "execution_count": 0,
   "metadata": {
    "colab": {},
    "colab_type": "code",
    "id": "XApK4s6Nyutt"
   },
   "outputs": [],
   "source": [
    "def net_test(net,val,batch_size,ttype='val'):\n",
    "\n",
    "    # Do not apply dropout or gradients.\n",
    "    net.eval()\n",
    "    with torch.no_grad():\n",
    "                test_loss = 0\n",
    "                test_correct = 0\n",
    "                vald=val[0]\n",
    "                yval=val[1]\n",
    "                for j in np.arange(0,len(yval),batch_size):\n",
    "                    data=vald[j:j+batch_size].to(device)\n",
    "                    targ = torch.torch.from_numpy(yval[j:j+batch_size]).type(torch.long).to(device)\n",
    "                    loss,correct=net.get_acc_and_loss(data,targ)\n",
    "\n",
    "                    test_loss += loss.item()\n",
    "                    test_correct += correct.item()\n",
    "\n",
    "                test_loss /= len(yval)\n",
    "                SSS='Validation'\n",
    "                if (ttype=='test'):\n",
    "                    SSS='Test'\n",
    "                print('\\n{} set: Avg. loss: {:.4f}, Accuracy: {}/{} ({:.0f}%)\\n'.format(SSS,\n",
    "                    test_loss, test_correct, len(yval),\n",
    "                    100. * test_correct / len(yval)))\n",
    "                \n",
    "                eval_error.append(100 - (100 * test_correct / len(yval)))"
   ]
  },
  {
   "cell_type": "code",
   "execution_count": 0,
   "metadata": {
    "colab": {},
    "colab_type": "code",
    "id": "3zitTPlqy0Qi"
   },
   "outputs": [],
   "source": [
    "batch_size, step_size, num_epochs, numtrain = 500, 0.001, 20, 50000\n",
    "train_error, eval_error = [], []\n",
    "\n",
    "train_full = (torch.from_numpy(digit_data[:50000].reshape(50000, 1, 28, 28)).float(), digit_label[:50000])\n",
    "val_full = (torch.from_numpy(digit_data[50000:60000].reshape(10000, 1, 28, 28)).float(), digit_label[50000:60000])\n",
    "test_full = (torch.from_numpy(digit_data[60000:].reshape(10000, 1, 28, 28)).float(), digit_label[60000:])\n",
    "\n",
    "for i in range(num_epochs):\n",
    "    run_epoch_general(net2full,i,train_full,batch_size, num=numtrain, ttype=\"train\")\n",
    "    net_test(net2full,val_full,batch_size)"
   ]
  },
  {
   "cell_type": "code",
   "execution_count": 0,
   "metadata": {
    "colab": {
     "base_uri": "https://localhost:8080/",
     "height": 50
    },
    "colab_type": "code",
    "id": "jLDBEdln-sAR",
    "outputId": "c8aa4feb-f996-476f-dca4-155bab36fb1e"
   },
   "outputs": [
    {
     "name": "stdout",
     "output_type": "stream",
     "text": [
      "Error rates for the final epoch are:\n",
      "1.036000% on the training set and 2.280000% on the validation set.\n"
     ]
    }
   ],
   "source": [
    "print(\"Error rates for the final epoch are:\\n{:f}% on the training set and {:f}% on the validation set.\".format(\n",
    "    train_error[-1], eval_error[-1]))"
   ]
  },
  {
   "cell_type": "markdown",
   "metadata": {
    "colab_type": "text",
    "id": "ZzLOC0Oj-1tl"
   },
   "source": [
    "With N1 embedding parameters and trained using the full training set, N2 recorded approx. 1.04% training error rate and 2.28% validation error rate in the final epoch. The error rates are indeed very low, so I conclude that embedding parameters passed down from N1 are performing satisfactorily. "
   ]
  },
  {
   "cell_type": "markdown",
   "metadata": {
    "colab_type": "text",
    "id": "fhcEsR7R_R7S"
   },
   "source": [
    "**Question 4:**  \n",
    "\n",
    "N2, with N1 embedding parameters again, is trained on the small training set (net2small) below."
   ]
  },
  {
   "cell_type": "code",
   "execution_count": 0,
   "metadata": {
    "colab": {
     "base_uri": "https://localhost:8080/",
     "height": 34
    },
    "colab_type": "code",
    "id": "qBN9AiGK_RWO",
    "outputId": "e2e36a5d-d49d-487b-882e-571b4b127e79"
   },
   "outputs": [
    {
     "data": {
      "text/plain": [
       "<All keys matched successfully>"
      ]
     },
     "execution_count": 20,
     "metadata": {
      "tags": []
     },
     "output_type": "execute_result"
    }
   ],
   "source": [
    "net2small = N2(minimizer = \"Adam\")\n",
    "net2small.to(device)\n",
    "\n",
    "params2small = net2small.named_parameters()\n",
    "dict_params2_small = dict(params2small)\n",
    "\n",
    "for name, param in params1:\n",
    "  if name in dict_params2_small:\n",
    "    dict_params2_small[name].data.copy_(param.data)\n",
    "\n",
    "net2small.load_state_dict(dict_params2)"
   ]
  },
  {
   "cell_type": "code",
   "execution_count": 0,
   "metadata": {
    "colab": {},
    "colab_type": "code",
    "id": "LFI1wLeK_4Uc"
   },
   "outputs": [],
   "source": [
    "PP = []\n",
    "\n",
    "for name, param in net2small.named_parameters():\n",
    "  if \"fc10\" in name:\n",
    "    PP.append(param)\n",
    "\n",
    "net2small.optimizer = torch.optim.Adam(PP, lr = step_size)"
   ]
  },
  {
   "cell_type": "code",
   "execution_count": 0,
   "metadata": {
    "colab": {},
    "colab_type": "code",
    "id": "XVmzdEoP3k7k"
   },
   "outputs": [],
   "source": [
    "# first 1000 datapoints in training, validation, and test set, respectively\n",
    "train_small = (torch.from_numpy(digit_data[:1000].reshape(1000, 1, 28, 28)).float(), digit_label[:1000])\n",
    "val_small = (torch.from_numpy(digit_data[50000:51000].reshape(1000, 1, 28, 28)).float(), digit_label[50000:51000])\n",
    "test_small = (torch.from_numpy(digit_data[60000:61000].reshape(1000, 1, 28, 28)).float(), digit_label[60000:61000])"
   ]
  },
  {
   "cell_type": "code",
   "execution_count": 0,
   "metadata": {
    "colab": {},
    "colab_type": "code",
    "id": "-FBAdSPiAGWD"
   },
   "outputs": [],
   "source": [
    "batch_size, step_size, num_epochs, numtrain = 100, 0.001, 20, 1000\n",
    "train_error, eval_error = [], []\n",
    "\n",
    "for i in range(num_epochs):\n",
    "    run_epoch_general(net2small,i,train_small,batch_size, num=numtrain, ttype=\"train\")\n",
    "    net_test(net2small,val_small,batch_size)\n",
    "\n",
    "train_error_N2small = train_error[:]\n",
    "eval_error_N2small = eval_error[:]"
   ]
  },
  {
   "cell_type": "markdown",
   "metadata": {
    "colab_type": "text",
    "id": "29jcnuvOBDTo"
   },
   "source": [
    "Similarly, N0 is trained on the small training set below."
   ]
  },
  {
   "cell_type": "code",
   "execution_count": 0,
   "metadata": {
    "colab": {},
    "colab_type": "code",
    "id": "jWT7VcXQAfIT"
   },
   "outputs": [],
   "source": [
    "net0 = N0(minimizer = \"Adam\")\n",
    "net0.to(device)\n",
    "\n",
    "batch_size, step_size, num_epochs, numtrain = 100, 0.001, 20, 1000\n",
    "train_error, eval_error = [], []\n",
    "\n",
    "for i in range(num_epochs):\n",
    "    run_epoch_general(net0,i,train_small,batch_size, num=numtrain, ttype=\"train\")\n",
    "    net_test(net0,val_small,batch_size)\n",
    "\n",
    "train_error_N0 = train_error[:]\n",
    "eval_error_N0 = eval_error[:]"
   ]
  },
  {
   "cell_type": "markdown",
   "metadata": {
    "colab_type": "text",
    "id": "HW1KkNRFBBtT"
   },
   "source": [
    "We can now compare test set error (i.e. accuracy rate) for both N2 (net2small) and N0 (net0):"
   ]
  },
  {
   "cell_type": "code",
   "execution_count": 0,
   "metadata": {
    "colab": {
     "base_uri": "https://localhost:8080/",
     "height": 84
    },
    "colab_type": "code",
    "id": "If5VkWB_BVPW",
    "outputId": "db5ac2d2-bc8b-4cf6-d256-303d7c33d3cd"
   },
   "outputs": [
    {
     "name": "stdout",
     "output_type": "stream",
     "text": [
      "N2 testing set result:\n",
      "\n",
      "Test set: Avg. loss: 0.0022, Accuracy: 969/1000 (97%)\n",
      "\n"
     ]
    }
   ],
   "source": [
    "print(\"N2 testing set result:\")\n",
    "net_test(net2small,test_small,batch_size,ttype='test')"
   ]
  },
  {
   "cell_type": "code",
   "execution_count": 0,
   "metadata": {
    "colab": {
     "base_uri": "https://localhost:8080/",
     "height": 84
    },
    "colab_type": "code",
    "id": "78qGgFGQBYxY",
    "outputId": "0299259b-aec6-41aa-f504-65184da0eb9e"
   },
   "outputs": [
    {
     "name": "stdout",
     "output_type": "stream",
     "text": [
      "N0 testing set result\n",
      "\n",
      "Test set: Avg. loss: 0.0028, Accuracy: 908/1000 (91%)\n",
      "\n"
     ]
    }
   ],
   "source": [
    "print(\"N0 testing set result\")\n",
    "net_test(net0,test_small,batch_size,ttype='test')"
   ]
  },
  {
   "cell_type": "markdown",
   "metadata": {
    "colab_type": "text",
    "id": "K9GjuepnBiGs"
   },
   "source": [
    "From above, we can see that while both N2 and N0 performed well on the MNIST test set (error rates less than 10%), N2 outperformed N0 by 6% in terms of accuracy (or error) rate, which is a noticeable difference given that both are decent classifiers with 90%+ accuracy.  \n",
    "\n",
    "Therefore, it can be confirmed that N2 performs (i.e. \"generalizes\") better.  \n",
    "\n",
    "This would be because the embedding of N2 is trained based on handwritten letters, including perturbations. As there are more types of alphabets than digits (26 vs. 10, or 52 if uppercase and lowercase are counted separately), embedding layer would have been trained better to record various features of handwritten characters, including but not limited to directions of strokes, curvature, etc. Moreover, thanks to the perturbations in the training set, N2 embedding would also have been \"used to\" irregularities that can happen in human handwriting.  \n",
    "\n",
    "Such intensive training on greater variety and irregularities in handwriting patterns would have allowed N2 to better process handwritten digits as well, resulting in better performance than N0, which was directly trained on digits images."
   ]
  },
  {
   "cell_type": "markdown",
   "metadata": {
    "colab_type": "text",
    "id": "VKZsFNDpEQ05"
   },
   "source": [
    "**Question 5:**"
   ]
  },
  {
   "cell_type": "markdown",
   "metadata": {
    "colab_type": "text",
    "id": "0P0rtVGXHhyE"
   },
   "source": [
    "For random initialization, each parameter value is drawn from the standard normal distribution below:"
   ]
  },
  {
   "cell_type": "code",
   "execution_count": 0,
   "metadata": {
    "colab": {},
    "colab_type": "code",
    "id": "U18kqrhcEzan"
   },
   "outputs": [],
   "source": [
    "dict_params2_rand = dict_params2.copy()\n",
    "\n",
    "for name in dict_params2_rand:\n",
    "  w = torch.empty(dict_params2_rand[name].shape)\n",
    "  nn.init.normal_(w)\n",
    "  dict_params2_rand[name] = w"
   ]
  },
  {
   "cell_type": "markdown",
   "metadata": {
    "colab_type": "text",
    "id": "P8U7M2bMHrfq"
   },
   "source": [
    "With randomly drawn parameters above, N2 is trained on the small training set (1,000 datapoints) below:"
   ]
  },
  {
   "cell_type": "code",
   "execution_count": 0,
   "metadata": {
    "colab": {
     "base_uri": "https://localhost:8080/",
     "height": 34
    },
    "colab_type": "code",
    "id": "rTCQhmnrGILE",
    "outputId": "59257380-ddd2-42e9-d561-38143a9cbcb0"
   },
   "outputs": [
    {
     "data": {
      "text/plain": [
       "<All keys matched successfully>"
      ]
     },
     "execution_count": 39,
     "metadata": {
      "tags": []
     },
     "output_type": "execute_result"
    }
   ],
   "source": [
    "net2rand_small = N2(minimizer = \"Adam\")\n",
    "net2rand_small.to(device)\n",
    "\n",
    "net2rand_small.load_state_dict(dict_params2_rand)"
   ]
  },
  {
   "cell_type": "code",
   "execution_count": 0,
   "metadata": {
    "colab": {},
    "colab_type": "code",
    "id": "a-orJO-BG-JQ"
   },
   "outputs": [],
   "source": [
    "PP = []\n",
    "\n",
    "for name, param in net2rand_small.named_parameters():\n",
    "  if \"fc10\" in name:\n",
    "    PP.append(param)\n",
    "\n",
    "net2rand_small.optimizer = torch.optim.Adam(PP, lr = step_size)"
   ]
  },
  {
   "cell_type": "code",
   "execution_count": 0,
   "metadata": {
    "colab": {},
    "colab_type": "code",
    "id": "G7aj1GrsHJTt"
   },
   "outputs": [],
   "source": [
    "batch_size, step_size, num_epochs, numtrain = 100, 0.001, 20, 1000\n",
    "train_error, eval_error = [], []\n",
    "\n",
    "for i in range(num_epochs):\n",
    "    run_epoch_general(net2rand_small,i,train_small,batch_size, num=numtrain, ttype=\"train\")\n",
    "    net_test(net2rand_small,val_small,batch_size)\n",
    "\n",
    "train_error_N2rand_small = train_error[:]\n",
    "eval_error_N2rand_small = eval_error[:]"
   ]
  },
  {
   "cell_type": "markdown",
   "metadata": {
    "colab_type": "text",
    "id": "iaHTwkc-H2dl"
   },
   "source": [
    "Similarly, with the same randomly drawn parameters, another N2 network is trained on the full training set:"
   ]
  },
  {
   "cell_type": "code",
   "execution_count": 0,
   "metadata": {
    "colab": {
     "base_uri": "https://localhost:8080/",
     "height": 34
    },
    "colab_type": "code",
    "id": "PAM1oU2xH-TA",
    "outputId": "0328df6e-ef8a-4f56-ae25-50ced3be20f7"
   },
   "outputs": [
    {
     "data": {
      "text/plain": [
       "<All keys matched successfully>"
      ]
     },
     "execution_count": 42,
     "metadata": {
      "tags": []
     },
     "output_type": "execute_result"
    }
   ],
   "source": [
    "net2rand_full = N2(minimizer = \"Adam\")\n",
    "net2rand_full.to(device)\n",
    "\n",
    "net2rand_full.load_state_dict(dict_params2_rand)"
   ]
  },
  {
   "cell_type": "code",
   "execution_count": 0,
   "metadata": {
    "colab": {},
    "colab_type": "code",
    "id": "Dca4AAmHIFjZ"
   },
   "outputs": [],
   "source": [
    "PP = []\n",
    "\n",
    "for name, param in net2rand_full.named_parameters():\n",
    "  if \"fc10\" in name:\n",
    "    PP.append(param)\n",
    "\n",
    "net2rand_full.optimizer = torch.optim.Adam(PP, lr = step_size)"
   ]
  },
  {
   "cell_type": "code",
   "execution_count": 0,
   "metadata": {
    "colab": {},
    "colab_type": "code",
    "id": "shUb4jQAILEk"
   },
   "outputs": [],
   "source": [
    "batch_size, step_size, num_epochs, numtrain = 500, 0.001, 20, 50000\n",
    "train_error, eval_error = [], []\n",
    "\n",
    "for i in range(num_epochs):\n",
    "    run_epoch_general(net2rand_full,i,train_full,batch_size, num=numtrain, ttype=\"train\")\n",
    "    net_test(net2rand_full,val_full,batch_size)\n",
    "\n",
    "train_error_N2rand_full = train_error[:]\n",
    "eval_error_N2rand_full = eval_error[:]"
   ]
  },
  {
   "cell_type": "code",
   "execution_count": 0,
   "metadata": {
    "colab": {
     "base_uri": "https://localhost:8080/",
     "height": 84
    },
    "colab_type": "code",
    "id": "2ieIw7riJaYo",
    "outputId": "26bbd85f-a8a6-4a56-9b03-f93695895e6c"
   },
   "outputs": [
    {
     "name": "stdout",
     "output_type": "stream",
     "text": [
      "N2rand (small training set) test result\n",
      "\n",
      "Test set: Avg. loss: 242.1578, Accuracy: 365/1000 (36%)\n",
      "\n"
     ]
    }
   ],
   "source": [
    "print(\"N2rand (small training set) test result\")\n",
    "net_test(net2rand_small,test_small,batch_size,ttype='test')"
   ]
  },
  {
   "cell_type": "code",
   "execution_count": 0,
   "metadata": {
    "colab": {
     "base_uri": "https://localhost:8080/",
     "height": 84
    },
    "colab_type": "code",
    "id": "6SBROcNRJm9J",
    "outputId": "c8fae422-1e73-4ba3-a8c1-8769e54a90fa"
   },
   "outputs": [
    {
     "name": "stdout",
     "output_type": "stream",
     "text": [
      "N2rand (full training set) test result\n",
      "\n",
      "Test set: Avg. loss: 21.1548, Accuracy: 8971/10000 (90%)\n",
      "\n"
     ]
    }
   ],
   "source": [
    "print(\"N2rand (full training set) test result\")\n",
    "net_test(net2rand_full,test_full,batch_size,ttype='test')"
   ]
  },
  {
   "cell_type": "markdown",
   "metadata": {
    "colab_type": "text",
    "id": "VbdVEYtkKwEG"
   },
   "source": [
    "From above, we can check that N2rand performed worse or no better than than N0 and N2, recording < 90% accuracy or 10%+ error rates. (Error rate of N2rand on full training set is slightly less than 90%, to be precise.)    \n",
    "\n",
    "Besides being worse than N0 and N2, we can also see that while N2rand's accuracy with small training set was horrible, its performance on the full training set was not really bad ($\\approx 90\\%$ accuracy). This would be most probably because greater training set and more repetition by batches and epochs provided the model to self-correct noises from random parameters in the embedding layer.  \n",
    "To further scrutinize this aspect, plots on training and validation error rates are included below:"
   ]
  },
  {
   "cell_type": "code",
   "execution_count": 0,
   "metadata": {
    "colab": {
     "base_uri": "https://localhost:8080/",
     "height": 281
    },
    "colab_type": "code",
    "id": "OfiwVO0aL0Pr",
    "outputId": "6fbe93fc-bec2-456d-89b1-03e5f5f10cb2"
   },
   "outputs": [
    {
     "data": {
      "image/png": "[encoded data removed]",
      "text/plain": [
       "<Figure size 432x288 with 1 Axes>"
      ]
     },
     "metadata": {
      "needs_background": "light",
      "tags": []
     },
     "output_type": "display_data"
    }
   ],
   "source": [
    "plt.plot(train_error_N2rand_full)\n",
    "plt.plot(train_error_N2rand_small)\n",
    "plt.legend([\"N2rand (full training set)\", \"N2rand (small training set)\"])\n",
    "plt.title(\"Training error rate (%) over epoch\")\n",
    "plt.show()"
   ]
  },
  {
   "cell_type": "code",
   "execution_count": 0,
   "metadata": {
    "colab": {
     "base_uri": "https://localhost:8080/",
     "height": 281
    },
    "colab_type": "code",
    "id": "xiHS-WPbMM9B",
    "outputId": "fdfa5113-bf02-48b4-ddbb-2802d270b159"
   },
   "outputs": [
    {
     "data": {
      "image/png": "[encoded data removed]",
      "text/plain": [
       "<Figure size 432x288 with 1 Axes>"
      ]
     },
     "metadata": {
      "needs_background": "light",
      "tags": []
     },
     "output_type": "display_data"
    }
   ],
   "source": [
    "plt.plot(eval_error_N2rand_full)\n",
    "plt.plot(eval_error_N2rand_small)\n",
    "plt.legend([\"N2rand (full training set)\", \"N2rand (small training set)\"])\n",
    "plt.title(\"Validation error rate (%) over epoch\")\n",
    "plt.show()"
   ]
  },
  {
   "cell_type": "markdown",
   "metadata": {
    "colab_type": "text",
    "id": "TYlm5ByRMU6V"
   },
   "source": [
    "Above plots tell us that N2rand's training and validation error rates have been decreasing, both for small and full training sets. This indeed provides further evidence for the hypothesis of self-correction through repetitive learning.  \n",
    "\n",
    "Therefore, we can expect that even though embedding is \"messed up\" with random parameters that are totally irrelevant with samples (and is fixed to those values), sufficiently large training data and repetitive training could optimize the classifying layer, so that it can \"filter out\" irrelevant noises from the embedding layer and make reasonable predictions."
   ]
  },
  {
   "cell_type": "markdown",
   "metadata": {
    "colab_type": "text",
    "id": "SdcTs0ZVNOYx"
   },
   "source": [
    "**Question 6:**  \n",
    "\n",
    "Each of N0, N2 (small training set), N2 (full training set), N2rand (small training set), and N2rand (full training set) are tested on the entire transforemd data set:"
   ]
  },
  {
   "cell_type": "code",
   "execution_count": 0,
   "metadata": {
    "colab": {},
    "colab_type": "code",
    "id": "I_9JzJ1lNcqO"
   },
   "outputs": [],
   "source": [
    "transform_total_test = (torch.from_numpy(digit_transform.reshape(70000, 1, 28, 28)).float(), digit_label)"
   ]
  },
  {
   "cell_type": "code",
   "execution_count": 0,
   "metadata": {
    "colab": {
     "base_uri": "https://localhost:8080/",
     "height": 84
    },
    "colab_type": "code",
    "id": "XWue6-mjN5Wz",
    "outputId": "71974b84-780e-4821-b832-4550da31f1fe"
   },
   "outputs": [
    {
     "name": "stdout",
     "output_type": "stream",
     "text": [
      "N0 transformed data test result\n",
      "\n",
      "Test set: Avg. loss: 0.0045, Accuracy: 34676/70000 (50%)\n",
      "\n"
     ]
    }
   ],
   "source": [
    "print(\"N0 transformed data test result\")\n",
    "net_test(net0,transform_total_test,batch_size,ttype='test')"
   ]
  },
  {
   "cell_type": "code",
   "execution_count": 0,
   "metadata": {
    "colab": {
     "base_uri": "https://localhost:8080/",
     "height": 84
    },
    "colab_type": "code",
    "id": "e7QrZ1LjOHk6",
    "outputId": "57d7229a-39a4-44d3-f61a-681aa4e8aceb"
   },
   "outputs": [
    {
     "name": "stdout",
     "output_type": "stream",
     "text": [
      "N2 (small training set) transformed data test result\n",
      "\n",
      "Test set: Avg. loss: 0.0114, Accuracy: 47834/70000 (68%)\n",
      "\n"
     ]
    }
   ],
   "source": [
    "print(\"N2 (small training set) transformed data test result\")\n",
    "net_test(net2small,transform_total_test,batch_size,ttype='test')"
   ]
  },
  {
   "cell_type": "code",
   "execution_count": 0,
   "metadata": {
    "colab": {
     "base_uri": "https://localhost:8080/",
     "height": 84
    },
    "colab_type": "code",
    "id": "2kJLAHjWOOl2",
    "outputId": "f114f56a-55b3-432f-e8b8-001d90255ddb"
   },
   "outputs": [
    {
     "name": "stdout",
     "output_type": "stream",
     "text": [
      "N2 (full training set) transformed data test result\n",
      "\n",
      "Test set: Avg. loss: 0.0107, Accuracy: 46987/70000 (67%)\n",
      "\n"
     ]
    }
   ],
   "source": [
    "print(\"N2 (full training set) transformed data test result\")\n",
    "net_test(net2full,transform_total_test,batch_size,ttype='test')"
   ]
  },
  {
   "cell_type": "code",
   "execution_count": 0,
   "metadata": {
    "colab": {
     "base_uri": "https://localhost:8080/",
     "height": 84
    },
    "colab_type": "code",
    "id": "a9-PFNn3OXl6",
    "outputId": "80249988-5802-48e6-a6a1-2a19521f9c15"
   },
   "outputs": [
    {
     "name": "stdout",
     "output_type": "stream",
     "text": [
      "N2rand (small training set) transformed data test result\n",
      "\n",
      "Test set: Avg. loss: 545.5831, Accuracy: 11710/70000 (17%)\n",
      "\n"
     ]
    }
   ],
   "source": [
    "print(\"N2rand (small training set) transformed data test result\")\n",
    "net_test(net2rand_small,transform_total_test,batch_size,ttype='test')"
   ]
  },
  {
   "cell_type": "code",
   "execution_count": 0,
   "metadata": {
    "colab": {
     "base_uri": "https://localhost:8080/",
     "height": 84
    },
    "colab_type": "code",
    "id": "QTytSJ46Oe8S",
    "outputId": "a24fe6ad-9d05-41a1-d332-f0abfe615faa"
   },
   "outputs": [
    {
     "name": "stdout",
     "output_type": "stream",
     "text": [
      "N2rand (full training set) transformed data test result\n",
      "\n",
      "Test set: Avg. loss: 361.5619, Accuracy: 27270/70000 (39%)\n",
      "\n"
     ]
    }
   ],
   "source": [
    "print(\"N2rand (full training set) transformed data test result\")\n",
    "net_test(net2rand_full,transform_total_test,batch_size,ttype='test')"
   ]
  },
  {
   "cell_type": "markdown",
   "metadata": {
    "colab_type": "text",
    "id": "kNPvCrkgPKXr"
   },
   "source": [
    "Here, N2rand's recorded < 50% accuracy rates, N0 recorded $\\approx$ 50%, and N2's recorded accuracy rates between 60% and 70%. Hence, while N2's were the best here, we can see that all those networks did not perform super well on the transformed data.  \n",
    "\n",
    "In particular, it seems most likely that proper prediction based on transformed data requires well-suited embedding: while N0 and N2's recorded **relatively** fair (approx. 50% or higher) accuracy, N2rand's with randomly drawn embedding parameters showed horrible accuracy rates.  \n",
    "Also, some set of digits are often hard to distinguish depending on a person's handwriting (e.g. 1 and 7; 6, 8, and 9). With transformation, it would have been even harder to distinguish such digits.  \n",
    "\n",
    "More fundamentally, as the transformation includes, a number of images do not fully capture the digits. That would possibly have caused further confusion to the network, as some digits just look like others if a part of them are cropped out (e.g. 6 will look like 5 and 8 like 3, if their left half is delted).\n",
    "\n",
    "For reference, 100 samples of ransformed digit images are inspected below:"
   ]
  },
  {
   "cell_type": "code",
   "execution_count": 0,
   "metadata": {
    "colab": {
     "base_uri": "https://localhost:8080/",
     "height": 368
    },
    "colab_type": "code",
    "id": "ConDWMDVO-Zn",
    "outputId": "803ebf2d-12df-4b5f-d96f-f973c753b66b"
   },
   "outputs": [
    {
     "data": {
      "image/png": "[encoded data removed]",
      "text/plain": [
       "<Figure size 2880x720 with 100 Axes>"
      ]
     },
     "metadata": {
      "needs_background": "light",
      "tags": []
     },
     "output_type": "display_data"
    }
   ],
   "source": [
    "ncols, nrows = 20, 5\n",
    "\n",
    "plt.figure(figsize = (ncols * 2, nrows * 2))\n",
    "\n",
    "for i in range(nrows * ncols):\n",
    "\n",
    "  plt.subplot(nrows, ncols, i + 1)\n",
    "  plt.imshow(digit_transform[i, :, :, 0], cmap = \"gray\")\n",
    "  plt.axis(\"off\")\n",
    "\n",
    "plt.axis(\"off\")\n",
    "plt.show()"
   ]
  },
  {
   "cell_type": "markdown",
   "metadata": {
    "colab_type": "text",
    "id": "1sUeG5GMXhyT"
   },
   "source": [
    "Hecne, we could try different approaches, including other loss functions and more extensive training with perturbations, while **sticking to the non-random embedding.**"
   ]
  },
  {
   "cell_type": "markdown",
   "metadata": {
    "colab_type": "text",
    "id": "IDgDTEoGX3hV"
   },
   "source": [
    "**Question 7 Part (a):**"
   ]
  },
  {
   "cell_type": "markdown",
   "metadata": {
    "colab_type": "text",
    "id": "nXwiTX2JnbRU"
   },
   "source": [
    "In Question 2, I proposed to base the contrastive loss on Euclidean distance instead of cosine similarity. This is already implemented in N1 and can be used by passing down parameter `simil=\"euclidean\"`  (or technically, not passing down `simil=\"cosine\"`) to the constructor of N1."
   ]
  },
  {
   "cell_type": "code",
   "execution_count": 0,
   "metadata": {
    "colab": {
     "base_uri": "https://localhost:8080/",
     "height": 134
    },
    "colab_type": "code",
    "id": "Oy7r8A1UX2bR",
    "outputId": "d79e119e-39a4-4bb5-b168-388372e14dfd"
   },
   "outputs": [
    {
     "data": {
      "text/plain": [
       "N1(\n",
       "  (conv1): Conv2d(1, 32, kernel_size=(5, 5), stride=(1, 1))\n",
       "  (conv2): Conv2d(32, 64, kernel_size=(5, 5), stride=(1, 1))\n",
       "  (conv2_drop): Dropout2d(p=0.5, inplace=False)\n",
       "  (fc64): Linear(in_features=1024, out_features=64, bias=True)\n",
       "  (criterion): MarginRankingLoss()\n",
       ")"
      ]
     },
     "execution_count": 57,
     "metadata": {
      "tags": []
     },
     "output_type": "execute_result"
    }
   ],
   "source": [
    "batch_size, step_size, num_epochs, numtrain = 5000, 0.001, 20, 100000\n",
    "dropout_p, dim, nchannels = 0.5, 28, 1\n",
    "minimizer=\"SGD\"\n",
    "model_name=\"model\"\n",
    "\n",
    "net1_euclidean = N1(p = dropout_p, minimizer=\"SGD\", simil=\"euclidean\")\n",
    "net1_euclidean.to(device)"
   ]
  },
  {
   "cell_type": "code",
   "execution_count": 0,
   "metadata": {
    "colab": {},
    "colab_type": "code",
    "id": "GWjR6eCsoiBs"
   },
   "outputs": [],
   "source": [
    "for i in range(num_epochs):\n",
    "    run_epoch_N1(net1_euclidean,i,letter_data, letter_pert, y,batch_size, num=numtrain, ttype=\"train\", is_cosine=False)"
   ]
  },
  {
   "cell_type": "code",
   "execution_count": 0,
   "metadata": {
    "colab": {
     "base_uri": "https://localhost:8080/",
     "height": 34
    },
    "colab_type": "code",
    "id": "5xLPGhGAtU2W",
    "outputId": "39a38df7-3a02-4beb-e648-c3358d1a34fd"
   },
   "outputs": [
    {
     "data": {
      "text/plain": [
       "<All keys matched successfully>"
      ]
     },
     "execution_count": 59,
     "metadata": {
      "tags": []
     },
     "output_type": "execute_result"
    }
   ],
   "source": [
    "net2_euclidean = N2(minimizer = \"Adam\")\n",
    "net2_euclidean.to(device)\n",
    "\n",
    "params1_euclidean = net1_euclidean.named_parameters()\n",
    "params2_euclidean = net2_euclidean.named_parameters()\n",
    "dict_params2_euclidean = dict(params2_euclidean)\n",
    "\n",
    "for name, param in params1_euclidean:\n",
    "  if name in dict_params2_euclidean:\n",
    "    dict_params2_euclidean[name].data.copy_(param.data)\n",
    "\n",
    "net2_euclidean.load_state_dict(dict_params2_euclidean)"
   ]
  },
  {
   "cell_type": "code",
   "execution_count": 0,
   "metadata": {
    "colab": {},
    "colab_type": "code",
    "id": "-4mo6zq3t1mt"
   },
   "outputs": [],
   "source": [
    "PP = []\n",
    "\n",
    "for name, param in net2_euclidean.named_parameters():\n",
    "  if \"fc10\" in name:\n",
    "    PP.append(param)\n",
    "\n",
    "net2_euclidean.optimizer = torch.optim.Adam(PP, lr = step_size)"
   ]
  },
  {
   "cell_type": "code",
   "execution_count": 0,
   "metadata": {
    "colab": {},
    "colab_type": "code",
    "id": "kf9UeOYDuB2B"
   },
   "outputs": [],
   "source": [
    "batch_size, step_size, num_epochs, numtrain = 500, 0.001, 20, 50000\n",
    "train_error, eval_error = [], [] #\n",
    "\n",
    "transform_val = (torch.from_numpy(digit_transform[:10000].reshape(10000, 1, 28, 28)).float(), digit_label[:10000])\n",
    "transform_test = (torch.from_numpy(digit_transform[10000:].reshape(60000, 1, 28, 28)).float(), digit_label[10000:])\n",
    "\n",
    "for i in range(num_epochs):\n",
    "    run_epoch_general(net2_euclidean,i,train_full,batch_size, num=numtrain, ttype=\"train\")\n",
    "    net_test(net2_euclidean,transform_val,batch_size)\n",
    "\n",
    "train_error_N2euclidean = train_error[:]\n",
    "eval_error_N2euclidean = eval_error[:]"
   ]
  },
  {
   "cell_type": "code",
   "execution_count": 0,
   "metadata": {
    "colab": {
     "base_uri": "https://localhost:8080/",
     "height": 281
    },
    "colab_type": "code",
    "id": "1JkKImXc59bD",
    "outputId": "6ca7e6fb-9ff3-407a-b38b-6a61963b9b89"
   },
   "outputs": [
    {
     "data": {
      "image/png": "[encoded data removed]",
      "text/plain": [
       "<Figure size 432x288 with 1 Axes>"
      ]
     },
     "metadata": {
      "needs_background": "light",
      "tags": []
     },
     "output_type": "display_data"
    }
   ],
   "source": [
    "plt.plot(train_error_N2euclidean)\n",
    "plt.plot(eval_error_N2euclidean)\n",
    "plt.legend([\"Training error\", \"Validation error\"])\n",
    "plt.title(\"Error rate (%) over epoch\")\n",
    "plt.show()"
   ]
  },
  {
   "cell_type": "markdown",
   "metadata": {
    "colab_type": "text",
    "id": "CRlbABh86P0p"
   },
   "source": [
    "From the above plot, we can see that both training and validation error rates are very high and not improving to a meaningful extent over epoch. (Although they are technically decreasing, slopes are close to 0 - check the y-axis range carefully!)"
   ]
  },
  {
   "cell_type": "code",
   "execution_count": 0,
   "metadata": {
    "colab": {
     "base_uri": "https://localhost:8080/",
     "height": 84
    },
    "colab_type": "code",
    "id": "vc8DhGrruXiz",
    "outputId": "73efc968-5600-4932-f125-adb813c4ff02"
   },
   "outputs": [
    {
     "name": "stdout",
     "output_type": "stream",
     "text": [
      "N2 (Euclidean distance-based) transformed data test result\n",
      "\n",
      "Test set: Avg. loss: 0.0046, Accuracy: 6985/60000 (12%)\n",
      "\n"
     ]
    }
   ],
   "source": [
    "print(\"N2 (Euclidean distance-based) transformed data test result\")\n",
    "net_test(net2_euclidean,transform_test,batch_size,ttype='test')"
   ]
  },
  {
   "cell_type": "markdown",
   "metadata": {
    "colab_type": "text",
    "id": "YqYAI5-6xbQG"
   },
   "source": [
    "Furthermore, transformed data testing result is disappointing (< 20% accuracy / 80%+ error rate). Thus, we shall conclude that usage of Euclidean distance-based contrastive loss is not a good alternative of cosine similairty-based loss."
   ]
  },
  {
   "cell_type": "markdown",
   "metadata": {
    "colab_type": "text",
    "id": "A1IwIWuwxci6"
   },
   "source": [
    "**Question 7 Part (b):**  \n",
    "\n",
    "The function `new_affine` is defined below, which applies the full affine map to the grid (beyond shifting and scaling)."
   ]
  },
  {
   "cell_type": "code",
   "execution_count": 0,
   "metadata": {
    "colab": {},
    "colab_type": "code",
    "id": "uFCfuggQxrvM"
   },
   "outputs": [],
   "source": [
    "def new_affine(x_in, factor):\n",
    "\n",
    "  nn = x_in.shape[0]\n",
    "  h = x_in.shape[2]\n",
    "  w = x_in.shape[3]\n",
    "\n",
    "  u = ((torch.rand(nn, 6) - 0.5)) * factor\n",
    "  ID = torch.zeros(nn, 6)\n",
    "  ID[:, 0] = 1\n",
    "  ID[:, 4] = 1\n",
    "  theta = (u + ID).reshape(-1, 2, 3)\n",
    "\n",
    "  grid = F.affine_grid(theta, [nn, 1, h, w], align_corners = True)\n",
    "  x_out = F.grid_sample(x_in, grid, padding_mode = \"zeros\", align_corners = True)\n",
    "\n",
    "  return x_out.type(torch.DoubleTensor)"
   ]
  },
  {
   "cell_type": "code",
   "execution_count": 0,
   "metadata": {
    "colab": {
     "base_uri": "https://localhost:8080/",
     "height": 244
    },
    "colab_type": "code",
    "id": "-Kgc6ipRx9tp",
    "outputId": "a19402e7-3215-4822-9aed-cfdaab9e4d29"
   },
   "outputs": [
    {
     "data": {
      "image/png": "[encoded data removed]",
      "text/plain": [
       "<Figure size 1440x288 with 20 Axes>"
      ]
     },
     "metadata": {
      "needs_background": "light",
      "tags": []
     },
     "output_type": "display_data"
    }
   ],
   "source": [
    "test = new_affine(letter_data[:10].float(), 1.2)\n",
    "ncols, nrows = 10, 2\n",
    "\n",
    "plt.figure(figsize = (ncols * 2, nrows * 2))\n",
    "\n",
    "for i in range(nrows * ncols):\n",
    "\n",
    "  plt.subplot(nrows, ncols, i + 1)\n",
    "\n",
    "  if i < 10:\n",
    "    plt.imshow(letter_data[i, 0, :, :], cmap = \"gray\")\n",
    "  \n",
    "  else:\n",
    "    plt.imshow(test[i - 10, 0, :, :], cmap = \"gray\")\n",
    "\n",
    "  plt.axis(\"off\")\n",
    "plt.axis(\"off\")\n",
    "plt.show()"
   ]
  },
  {
   "cell_type": "markdown",
   "metadata": {
    "colab_type": "text",
    "id": "TflYS2XirSeW"
   },
   "source": [
    "In the above, the first raw has the original images and the second row has perturbated ones. As observable, this function ideed applies full affine map, including rotation.  \n",
    "\n",
    "N1 embedding is trained below using this version of augmentation:"
   ]
  },
  {
   "cell_type": "code",
   "execution_count": 0,
   "metadata": {
    "colab": {
     "base_uri": "https://localhost:8080/",
     "height": 118
    },
    "colab_type": "code",
    "id": "Pz_OIdn8zM0r",
    "outputId": "b30731ad-6c03-4156-fa60-b0da40401254"
   },
   "outputs": [
    {
     "data": {
      "text/plain": [
       "N1(\n",
       "  (conv1): Conv2d(1, 32, kernel_size=(5, 5), stride=(1, 1))\n",
       "  (conv2): Conv2d(32, 64, kernel_size=(5, 5), stride=(1, 1))\n",
       "  (conv2_drop): Dropout2d(p=0.5, inplace=False)\n",
       "  (fc64): Linear(in_features=1024, out_features=64, bias=True)\n",
       ")"
      ]
     },
     "execution_count": 66,
     "metadata": {
      "tags": []
     },
     "output_type": "execute_result"
    }
   ],
   "source": [
    "batch_size, step_size, num_epochs, numtrain = 5000, 0.001, 20, 100000\n",
    "dropout_p, dim, nchannels = 0.5, 28, 1\n",
    "minimizer=\"SGD\"\n",
    "model_name=\"model\"\n",
    "\n",
    "net1_fullaffine = N1(p = dropout_p, minimizer=\"SGD\", simil=\"cosine\")\n",
    "net1_fullaffine.to(device)"
   ]
  },
  {
   "cell_type": "code",
   "execution_count": 0,
   "metadata": {
    "colab": {},
    "colab_type": "code",
    "id": "cow4XzJ1r73d"
   },
   "outputs": [],
   "source": [
    "letter_fullaffine = new_affine(letter_data.reshape(100000, 28, 28, 1), 1.5).reshape(100000, 1, 28, 28).float()"
   ]
  },
  {
   "cell_type": "code",
   "execution_count": 0,
   "metadata": {
    "colab": {},
    "colab_type": "code",
    "id": "tCmnauPFr40a"
   },
   "outputs": [],
   "source": [
    "for i in range(num_epochs):\n",
    "    run_epoch_N1(net1_fullaffine,i,letter_data, letter_fullaffine, y,batch_size, num=numtrain, ttype=\"train\", is_cosine=True)"
   ]
  },
  {
   "cell_type": "code",
   "execution_count": 0,
   "metadata": {
    "colab": {
     "base_uri": "https://localhost:8080/",
     "height": 34
    },
    "colab_type": "code",
    "id": "6Es0ccBMszJN",
    "outputId": "784abfbf-ea28-4f42-cabf-7ee6f7b83313"
   },
   "outputs": [
    {
     "data": {
      "text/plain": [
       "<All keys matched successfully>"
      ]
     },
     "execution_count": 74,
     "metadata": {
      "tags": []
     },
     "output_type": "execute_result"
    }
   ],
   "source": [
    "net2_fullaffine = N2(minimizer = \"Adam\")\n",
    "net2_fullaffine.to(device)\n",
    "\n",
    "params1_fullaffine = net1_fullaffine.named_parameters()\n",
    "params2_fullaffine = net2_fullaffine.named_parameters()\n",
    "dict_params2_fullaffine = dict(params2_fullaffine)\n",
    "\n",
    "for name, param in params1_fullaffine:\n",
    "  if name in dict_params2_fullaffine:\n",
    "    dict_params2_fullaffine[name].data.copy_(param.data)\n",
    "\n",
    "net2_fullaffine.load_state_dict(dict_params2_fullaffine)"
   ]
  },
  {
   "cell_type": "code",
   "execution_count": 0,
   "metadata": {
    "colab": {},
    "colab_type": "code",
    "id": "fACkkKmutdtw"
   },
   "outputs": [],
   "source": [
    "PP = []\n",
    "\n",
    "for name, param in net2_fullaffine.named_parameters():\n",
    "  if \"fc10\" in name:\n",
    "    PP.append(param)\n",
    "\n",
    "net2_fullaffine.optimizer = torch.optim.Adam(PP, lr = step_size)"
   ]
  },
  {
   "cell_type": "code",
   "execution_count": 0,
   "metadata": {
    "colab": {},
    "colab_type": "code",
    "id": "D9s6wn0atkdC"
   },
   "outputs": [],
   "source": [
    "batch_size, step_size, num_epochs, numtrain = 500, 0.001, 20, 50000\n",
    "train_error, eval_error = [], [] #\n",
    "\n",
    "for i in range(num_epochs):\n",
    "    run_epoch_general(net2_fullaffine,i,train_full,batch_size, num=numtrain, ttype=\"train\")\n",
    "    net_test(net2_fullaffine,transform_val,batch_size)\n",
    "\n",
    "train_error_N2fullaffine = train_error[:]\n",
    "eval_error_N2fullaffine = eval_error[:]"
   ]
  },
  {
   "cell_type": "code",
   "execution_count": 0,
   "metadata": {
    "colab": {
     "base_uri": "https://localhost:8080/",
     "height": 84
    },
    "colab_type": "code",
    "id": "a0kQPcAdtyXf",
    "outputId": "3a543da4-fe65-478b-b23b-c0df8f8bd907"
   },
   "outputs": [
    {
     "name": "stdout",
     "output_type": "stream",
     "text": [
      "N2 (trained with full-affine perturbations) transformed data test result\n",
      "\n",
      "Test set: Avg. loss: 0.0096, Accuracy: 41471/60000 (69%)\n",
      "\n"
     ]
    }
   ],
   "source": [
    "print(\"N2 (trained with full-affine perturbations) transformed data test result\")\n",
    "net_test(net2_fullaffine,transform_test,batch_size,ttype='test')"
   ]
  },
  {
   "cell_type": "markdown",
   "metadata": {
    "colab_type": "text",
    "id": "w0YVcZ5y7EXr"
   },
   "source": [
    "From above, we see that the test set error rate is still between 60% and 70%, which did not really improve from the model experimented with in Question 6. However, validation error graph below still provides some further insight:"
   ]
  },
  {
   "cell_type": "code",
   "execution_count": 0,
   "metadata": {
    "colab": {
     "base_uri": "https://localhost:8080/",
     "height": 281
    },
    "colab_type": "code",
    "id": "2KbCXhsB7WPq",
    "outputId": "8e435ae3-a27c-44fb-b9be-704a927be988"
   },
   "outputs": [
    {
     "data": {
      "image/png": "[encoded data removed]",
      "text/plain": [
       "<Figure size 432x288 with 1 Axes>"
      ]
     },
     "metadata": {
      "needs_background": "light",
      "tags": []
     },
     "output_type": "display_data"
    }
   ],
   "source": [
    "plt.plot(eval_error_N2fullaffine)\n",
    "plt.title(\"Validation error (%) over epoch\")\n",
    "plt.show()"
   ]
  },
  {
   "cell_type": "markdown",
   "metadata": {
    "colab_type": "text",
    "id": "ClOPWWEp7div"
   },
   "source": [
    "From above, while not that rapid, we can see validation error rate decreasing at meaningful speed until epoch $\\approx$ 10. In fact, at that point, the error rate seems to be < 30%, which means 70%+ accuracy. However, as epoch got greater than 10, error rates have been volatile and did not necessarily improve as epoch grew.    \n",
    "In other words, above plot suggests that \"too much\" epoch does not help. On the other hand, if we can secure large and \"high-quality\" training data and process them over appropriate number of epochs (seemingly 10 here), we might still be able to improve the network to some extent and get something not really horrible (hopefully).\n",
    "Therefore, while experiments in both 7(a) and 7(b) were not highly successful, their results recommend us to consider usage of full affine map-applied perturbation as training data (and not to consider Euclidean distance-based loss) in order to make our networks more transformation-invariant."
   ]
  }
 ],
 "metadata": {
  "accelerator": "GPU",
  "colab": {
   "collapsed_sections": [],
   "machine_shape": "hm",
   "name": "Yongju Kim_CMSC 25025_Final Project_Q3-Q7_v4.ipynb",
   "provenance": []
  },
  "kernelspec": {
   "display_name": "Python 3",
   "language": "python",
   "name": "python3"
  },
  "language_info": {
   "codemirror_mode": {
    "name": "ipython",
    "version": 3
   },
   "file_extension": ".py",
   "mimetype": "text/x-python",
   "name": "python",
   "nbconvert_exporter": "python",
   "pygments_lexer": "ipython3",
   "version": "3.7.4"
  }
 },
 "nbformat": 4,
 "nbformat_minor": 1
}
