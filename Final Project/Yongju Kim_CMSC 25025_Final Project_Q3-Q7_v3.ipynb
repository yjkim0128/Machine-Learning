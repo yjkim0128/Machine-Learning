{
 "cells": [
  {
   "cell_type": "markdown",
   "metadata": {
    "colab_type": "text",
    "id": "CTpGf9J58BzM"
   },
   "source": [
    "Throughout this project, \"progress/accuracy tracking message\" for the neural network training process is trimmed out in the final output, as they do not tell much about the results. (I used them for performance check purpose while writing and running the code.)  "
   ]
  },
  {
   "cell_type": "markdown",
   "metadata": {
    "colab_type": "text",
    "id": "WTT4Ke1pmlZi"
   },
   "source": [
    "**Preliminary setup:**"
   ]
  },
  {
   "cell_type": "code",
   "execution_count": 0,
   "metadata": {
    "colab": {},
    "colab_type": "code",
    "id": "zZPG6zfR2Uew"
   },
   "outputs": [],
   "source": [
    "import torch\n",
    "import time\n",
    "import numpy as np\n",
    "import torch.nn as nn\n",
    "import torch.nn.functional as F\n",
    "import torch.optim as optim\n",
    "import matplotlib.pyplot as plt\n",
    "from tqdm import tqdm"
   ]
  },
  {
   "cell_type": "code",
   "execution_count": 0,
   "metadata": {
    "colab": {},
    "colab_type": "code",
    "id": "JiOgmTJQlLdU"
   },
   "outputs": [],
   "source": [
    "use_gpu = True\n",
    "device = 'cuda:0' if torch.cuda.is_available() and use_gpu else 'cpu'"
   ]
  },
  {
   "cell_type": "code",
   "execution_count": 0,
   "metadata": {
    "colab": {},
    "colab_type": "code",
    "id": "hnSJUksoln3P"
   },
   "outputs": [],
   "source": [
    "letter_data = np.float64(np.load(\"/content/drive/My Drive/cmsc25025_project/letters_data.npy\"))[:100000]\n",
    "\n",
    "digit_data = np.float64(np.load(\"/content/drive/My Drive/cmsc25025_project/MNIST.npy\"))\n",
    "digit_transform = np.float64(np.load(\"/content/drive/My Drive/cmsc25025_project/MNIST_TRANSFORM_data.npy\"))\n",
    "digit_label = np.float32(np.load(\"/content/drive/My Drive/cmsc25025_project/MNIST_labels.npy\"))"
   ]
  },
  {
   "cell_type": "markdown",
   "metadata": {
    "colab_type": "text",
    "id": "uUud1UnqmonZ"
   },
   "source": [
    "**Question 3 Part (a):**"
   ]
  },
  {
   "cell_type": "markdown",
   "metadata": {
    "colab_type": "text",
    "id": "Xgl1xEgNmvHv"
   },
   "source": [
    "Original network (N0) provided for homework 4 is defined below."
   ]
  },
  {
   "cell_type": "code",
   "execution_count": 0,
   "metadata": {
    "colab": {},
    "colab_type": "code",
    "id": "ZNgWl-sNmrTw"
   },
   "outputs": [],
   "source": [
    "class N0(nn.Module):\n",
    "\n",
    "    def __init__(self,p=0.5,minimizer='Adam'):\n",
    "      \n",
    "        super(N0, self).__init__()\n",
    "        self.conv1 = nn.Conv2d(1, 32, kernel_size=5)\n",
    "        self.conv2 = nn.Conv2d(32, 64, kernel_size=5)\n",
    "        self.conv2_drop = nn.Dropout2d(p)\n",
    "        self.fc1 = nn.Linear(1024, 256)\n",
    "        self.fc2 = nn.Linear(256, 10)\n",
    "\n",
    "        if minimizer == 'Adam':\n",
    "            self.optimizer = torch.optim.Adam(self.parameters(), lr = step_size)\n",
    "        else:\n",
    "            self.optimizer = torch.optim.SGD(self.parameters(), lr = step_size, momentum=0.9)\n",
    "\n",
    "        self.first=True\n",
    "        self.criterion=nn.CrossEntropyLoss()\n",
    "            \n",
    "    def forward(self, x):\n",
    "\n",
    "        x = F.relu(F.max_pool2d(self.conv1(x), 2))\n",
    "        x = F.relu(F.max_pool2d(self.conv2_drop(self.conv2(x)), 2))\n",
    "        x = x.view(-1, 1024)\n",
    "        x = F.relu(self.fc1(x))\n",
    "        x = F.dropout(x, training=self.training)\n",
    "        x = self.fc2(x)\n",
    "\n",
    "        return x\n",
    "    \n",
    "    def get_acc_and_loss(self, data, targ):\n",
    "\n",
    "        output = self.forward(data)\n",
    "        loss = self.criterion(output, targ)\n",
    "        pred = torch.max(output,1)[1]\n",
    "        correct = torch.eq(pred,targ).sum()\n",
    "        \n",
    "        return loss,correct\n",
    "        \n",
    "    def run_grad(self,data,targ):\n",
    "\n",
    "        loss, correct=self.get_acc_and_loss(data,targ)\n",
    "        self.optimizer.zero_grad()\n",
    "        loss.backward()\n",
    "        self.optimizer.step()\n",
    "        \n",
    "        return loss, correct"
   ]
  },
  {
   "cell_type": "markdown",
   "metadata": {
    "colab_type": "text",
    "id": "R2JHbtswm5J6"
   },
   "source": [
    "Architecture of N1, of which sole purpose is embedding training, is defined below."
   ]
  },
  {
   "cell_type": "code",
   "execution_count": 0,
   "metadata": {
    "colab": {},
    "colab_type": "code",
    "id": "jgN-m7jGm893"
   },
   "outputs": [],
   "source": [
    "class N1(nn.Module):\n",
    "\n",
    "    def __init__(self, p=0.5, minimizer=\"Adam\", simil=\"cosine\"):\n",
    "      \n",
    "        super(N1, self).__init__()\n",
    "        self.conv1 = nn.Conv2d(1, 32, kernel_size=5)\n",
    "        self.conv2 = nn.Conv2d(32, 64, kernel_size=5)\n",
    "        self.conv2_drop = nn.Dropout2d(p)\n",
    "        self.fc64 = nn.Linear(1024, 64)\n",
    "\n",
    "        if minimizer == 'Adam':\n",
    "            self.optimizer = torch.optim.Adam(self.parameters(), lr = step_size)\n",
    "        else:\n",
    "            self.optimizer = torch.optim.SGD(self.parameters(), lr = step_size, momentum=0.9)\n",
    "\n",
    "        if simil == \"cosine\":\n",
    "            self.criterion = nn.CosineEmbeddingLoss()\n",
    "          \n",
    "        else:\n",
    "            self.criterion = nn.MarginRankingLoss()\n",
    "            \n",
    "    def forward(self, x):\n",
    "\n",
    "        x = F.relu(F.max_pool2d(self.conv1(x), 2))\n",
    "        x = F.relu(F.max_pool2d(self.conv2_drop(self.conv2(x)), 2))\n",
    "        x = x.view(-1, 1024)\n",
    "        x = self.fc64(x)\n",
    "\n",
    "        return x\n",
    "    \n",
    "    def get_acc_and_loss(self, data1,data2, targ):\n",
    "\n",
    "        output1 = self.forward(data1)\n",
    "        output2 = self.forward(data2)\n",
    "        loss = self.criterion(output1, output2, targ)\n",
    "        \n",
    "        return loss\n",
    "        \n",
    "    def run_grad(self,data1,data2,targ):\n",
    "\n",
    "        loss=self.get_acc_and_loss(data1,data2,targ)\n",
    "        self.optimizer.zero_grad()\n",
    "        loss.backward()\n",
    "        self.optimizer.step()\n",
    "        \n",
    "        return loss"
   ]
  },
  {
   "cell_type": "markdown",
   "metadata": {
    "colab_type": "text",
    "id": "Zaq_HF0vnEhF"
   },
   "source": [
    "**Question 3 Part (b):**  \n",
    "\n",
    "Random perturbation function is implemented below. For the handwritten alphabets, rotation or flipping could make one letter just look like different letters (N and Z, H and I depending on handwriting style, etc.), so they are not used here.  \n",
    "\n",
    "In order to verify that this function works as expected, I have experimented with 10 sample handwritten letter images below.  "
   ]
  },
  {
   "cell_type": "code",
   "execution_count": 0,
   "metadata": {
    "colab": {},
    "colab_type": "code",
    "id": "bJqD7kJ4nD4H"
   },
   "outputs": [],
   "source": [
    "def affine(x_in, factor):\n",
    "\n",
    "  nn = x_in.shape[0]\n",
    "  h = x_in.shape[2]\n",
    "  w = x_in.shape[3]\n",
    "\n",
    "  u = ((torch.rand(nn, 6) - 0.5)) * factor\n",
    "  ID = torch.zeros(nn, 6)\n",
    "  \n",
    "  ID[:, 0] = 1\n",
    "  ID[:, 3] = 1\n",
    "  ID[:, 4] = 1\n",
    "  \n",
    "  theta = (u + ID).reshape(-1, 2, 3)\n",
    "  grid = F.affine_grid(theta, [nn, 1, h, w], align_corners = True)\n",
    "  x_out = F.grid_sample(x_in, grid, padding_mode = \"zeros\", align_corners = True)\n",
    "\n",
    "  return x_out.type(torch.DoubleTensor)"
   ]
  },
  {
   "cell_type": "code",
   "execution_count": 0,
   "metadata": {
    "colab": {
     "base_uri": "https://localhost:8080/",
     "height": 298
    },
    "colab_type": "code",
    "id": "hLkX3Pf1nbyN",
    "outputId": "53e33e00-6ecf-4ca5-fd52-6998d0e50f2a"
   },
   "outputs": [
    {
     "name": "stderr",
     "output_type": "stream",
     "text": [
      "/usr/local/lib/python3.6/dist-packages/torch/nn/functional.py:3316: UserWarning: Since version 1.3.0, affine_grid behavior has changed for unit-size grids when align_corners=True. This is not an intended use case of affine_grid. See the documentation of affine_grid for details.\n",
      "  warnings.warn(\"Since version 1.3.0, affine_grid behavior has changed \"\n"
     ]
    },
    {
     "data": {
      "image/png": "[encoded data removed]",
      "text/plain": [
       "<Figure size 1440x288 with 20 Axes>"
      ]
     },
     "metadata": {
      "needs_background": "light",
      "tags": []
     },
     "output_type": "display_data"
    }
   ],
   "source": [
    "# Used factor 1.5, which seems to be moderately emphasizing the augmentation effects\n",
    "test = affine(torch.from_numpy(letter_data[:10]).float(), 1.5)\n",
    "ncols, nrows = 10, 2\n",
    "\n",
    "plt.figure(figsize = (ncols * 2, nrows * 2))\n",
    "\n",
    "for i in range(nrows * ncols):\n",
    "\n",
    "  plt.subplot(nrows, ncols, i + 1)\n",
    "\n",
    "  if i < 10:\n",
    "    plt.imshow(letter_data[i, :, :, 0], cmap = \"gray\")\n",
    "  \n",
    "  else:\n",
    "    plt.imshow(test[i - 10, :, :, 0], cmap = \"gray\")\n",
    "\n",
    "  plt.axis(\"off\")\n",
    "plt.axis(\"off\")\n",
    "plt.show()"
   ]
  },
  {
   "cell_type": "markdown",
   "metadata": {
    "colab_type": "text",
    "id": "lNTt5K-lnlRO"
   },
   "source": [
    "In the above, original images are in the first row and corresponding perturbed images are in the second row. Clearly, we can see that the affine function performs random shifting and scaling, but not flipping or rotations, as expected."
   ]
  },
  {
   "cell_type": "markdown",
   "metadata": {
    "colab_type": "text",
    "id": "69G3VZ5boFf-"
   },
   "source": [
    "**Question 3 Part (c):**  \n",
    "\n",
    "The paper used contrastive loss function based on cosine similarity. This is already implemented in the N1 class constructor (in part 3(a)) by using `nn.CosineEmbeddingLoss ` as `self.criterion`.  \n",
    "\n",
    "**Note:** as mentioned in Question 2, I could have directly implemented the loss function as described in the pseudocode. However, that somehow consumed too much memory and runtime, often causing the session to crash. Therefore, to make the project feasible on my device, I decided to use `nn.CosineEmbeddingLoss `, which is the closest alternative provided by the torch pacakge.  \n",
    "If I were to manually implement the loss function, it would look as the code below and could be used by setting `self.criterion` to this function's return value in `get_acc_and_loss` of N1."
   ]
  },
  {
   "cell_type": "code",
   "execution_count": 0,
   "metadata": {
    "colab": {},
    "colab_type": "code",
    "id": "BkA6oDozZdMe"
   },
   "outputs": [],
   "source": [
    "def cosine_contrastive(x1, x2):\n",
    "  '''\n",
    "  Compute cosine similarity-based contrastive loss.\n",
    "\n",
    "  Credit: discussed with Hee Seung Hwang on the design of this function\n",
    "  '''\n",
    "  new = torch.cat((x1, x2), dim = 0)\n",
    "  norm = F.normalize(new, p = 2, dim = 1)\n",
    "\n",
    "  # tau here shall be set as a global variable outside\n",
    "  mat = torch.div(torch.mm(norm, torch.t(norm)), tau)\n",
    "  mat = torch.exp(mat)\n",
    "\n",
    "  diag = torch.diag(matrix, diagonal = 0)\n",
    "  row = torch.sum(mat, dim = 0)\n",
    "  row = row - diag\n",
    "  denom = torch.div(mat, row)\n",
    "  x = -torch.log(denom)\n",
    "\n",
    "  result = torch.cat((torch.diag(x, diagonal = len(x) // 2), \n",
    "                      torch.diag(x, diagonal = -len(x) // 2)), dim = 0)\n",
    "  \n",
    "  return torch.mean(result)"
   ]
  },
  {
   "cell_type": "markdown",
   "metadata": {
    "colab_type": "text",
    "id": "FElbIPAgolF9"
   },
   "source": [
    "**Question 3 Part (d):**  \n",
    "\n",
    "In order to train the embedding via N1, I first generated perturbations of all 100,000 handwritten letter images. Then, for each minibatch, I passed down a chunk of original images and another chunk of **corresponding** perturbed images as a pair.  \n",
    "For the binary \"target\" label ($y\\pm1$) required by `nn.CosineEmbeddingLoss`, I used $y=1$ (positive, or similar) for all pairs since we already know that each perturbation image is derived from the original image of corresponding index (thus they should be \"similar\").\n",
    "\n"
   ]
  },
  {
   "cell_type": "code",
   "execution_count": 0,
   "metadata": {
    "colab": {},
    "colab_type": "code",
    "id": "cVzWcHEynkWx"
   },
   "outputs": [],
   "source": [
    "def run_epoch_N1(net, epoch, train1, train2, y, batch_size, num=None, ttype=\"train\", is_cosine = True):\n",
    "    '''\n",
    "    Slightly modified run_epoch function of the originally provided code\n",
    "    so that it would match the construct of N1 class\n",
    "    '''\n",
    "    net.train()\n",
    "\n",
    "    if ttype=='train':\n",
    "        t1=time.time()\n",
    "        n=train1[0].shape[0]\n",
    "\n",
    "        if (num is not None):\n",
    "            n=np.minimum(n,num)\n",
    "\n",
    "        train_loss=0; train_correct=0\n",
    "        \n",
    "        with tqdm(total=num) as progress_bar:\n",
    "            for j in np.arange(0,num,batch_size):\n",
    "\n",
    "                data1 = train1[j:j+batch_size].to(device)\n",
    "                data2 = train2[j:j+batch_size].to(device)\n",
    "                targ=torch.from_numpy(y[j:j+batch_size]).type(torch.long).to(device)\n",
    "\n",
    "                if not is_cosine:\n",
    "                  targ = targ.unsqueeze(dim = 1)\n",
    "\n",
    "                loss = net.run_grad(data1, data2, targ)\n",
    "                train_loss += loss.item()\n",
    "                \n",
    "                progress_bar.set_postfix(loss=loss.item())\n",
    "                progress_bar.update(data1.size(0))\n",
    "        train_loss /= len(y)\n",
    "        print('\\nTraining set epoch {}: Avg. loss: {:.4f}, Accuracy: {}/{} ({:.0f}%)\\n'.format(epoch,\n",
    "            train_loss, train_correct, len(y),\n",
    "            100. * train_correct / len(y)))"
   ]
  },
  {
   "cell_type": "code",
   "execution_count": 0,
   "metadata": {
    "colab": {},
    "colab_type": "code",
    "id": "HN84SyJmqXrH"
   },
   "outputs": [],
   "source": [
    "letter_pert = affine(torch.from_numpy(letter_data).float(), 1.5).reshape(100000, 1, 28, 28).float()\n",
    "letter_data = torch.from_numpy(letter_data.reshape(100000, 1, 28, 28)).float()\n",
    "y = np.array([1] * 100000)"
   ]
  },
  {
   "cell_type": "code",
   "execution_count": 0,
   "metadata": {
    "colab": {
     "base_uri": "https://localhost:8080/",
     "height": 134
    },
    "colab_type": "code",
    "id": "W9w_AjS3q8gs",
    "outputId": "f8745716-72fa-4855-cca3-9e51a446d95e"
   },
   "outputs": [
    {
     "data": {
      "text/plain": [
       "N1(\n",
       "  (conv1): Conv2d(1, 32, kernel_size=(5, 5), stride=(1, 1))\n",
       "  (conv2): Conv2d(32, 64, kernel_size=(5, 5), stride=(1, 1))\n",
       "  (conv2_drop): Dropout2d(p=0.5, inplace=False)\n",
       "  (fc64): Linear(in_features=1024, out_features=64, bias=True)\n",
       "  (criterion): CosineEmbeddingLoss()\n",
       ")"
      ]
     },
     "execution_count": 10,
     "metadata": {
      "tags": []
     },
     "output_type": "execute_result"
    }
   ],
   "source": [
    "batch_size, step_size, num_epochs, numtrain = 5000, 0.001, 20, 100000\n",
    "dropout_p, dim, nchannels = 0.5, 28, 1\n",
    "minimizer=\"SGD\"\n",
    "model_name=\"model\"\n",
    "\n",
    "net1 = N1(p = dropout_p, minimizer=\"SGD\", simil=\"cosine\")\n",
    "net1.to(device)"
   ]
  },
  {
   "cell_type": "markdown",
   "metadata": {
    "colab_type": "text",
    "id": "f-R8E-PArUBQ"
   },
   "source": [
    "N1 is trained via stochastic gradient descent using SGD optimizer below. Validation step is skipped since classification error / accuracy does not matter at this moment (we will only use the embeddings of N1)."
   ]
  },
  {
   "cell_type": "code",
   "execution_count": 0,
   "metadata": {
    "colab": {},
    "colab_type": "code",
    "id": "AHxtTk3Hr1rP"
   },
   "outputs": [],
   "source": [
    "for i in range(num_epochs):\n",
    "    run_epoch_N1(net1,i,letter_data, letter_pert, y,batch_size, num=numtrain, ttype=\"train\")"
   ]
  },
  {
   "cell_type": "markdown",
   "metadata": {
    "colab_type": "text",
    "id": "w1VcY01nyLzX"
   },
   "source": [
    "**Question 3 Part (e):**  \n",
    "\n",
    "N2 is defined and N1 embedding parameters are passed down. In order to check that those parameters are working well (as we would anticipate), I trained N2 with the full training set (net2full) and examined its error rates before moving on to Question 4 and train on a small set."
   ]
  },
  {
   "cell_type": "code",
   "execution_count": 0,
   "metadata": {
    "colab": {},
    "colab_type": "code",
    "id": "oS6qCtQ1yN-A"
   },
   "outputs": [],
   "source": [
    "class N2(nn.Module):\n",
    "\n",
    "    def __init__(self,minimizer='Adam'):\n",
    "      \n",
    "        super(N2, self).__init__()\n",
    "        self.conv1 = nn.Conv2d(1, 32, kernel_size=5)\n",
    "        self.conv2 = nn.Conv2d(32, 64, kernel_size=5)\n",
    "        self.fc10 = nn.Linear(1024, 10)\n",
    "\n",
    "        if minimizer == 'Adam':\n",
    "            self.optimizer = torch.optim.Adam(self.parameters(), lr = step_size)\n",
    "        else:\n",
    "            self.optimizer = torch.optim.SGD(self.parameters(), lr = step_size, momentum=0.9)\n",
    "\n",
    "        self.first=True\n",
    "        self.criterion=nn.CrossEntropyLoss()\n",
    "            \n",
    "    def forward(self, x):\n",
    "\n",
    "        x = F.relu(F.max_pool2d(self.conv1(x), 2))\n",
    "        x = F.relu(F.max_pool2d(self.conv2(x), 2))\n",
    "        x = x.view(-1, 1024)\n",
    "        x = self.fc10(x)\n",
    "\n",
    "        return x\n",
    "    \n",
    "    def get_acc_and_loss(self, data, targ):\n",
    "\n",
    "        output = self.forward(data)\n",
    "        loss = self.criterion(output, targ)\n",
    "        pred = torch.max(output,1)[1]\n",
    "        correct = torch.eq(pred,targ).sum()\n",
    "        \n",
    "        return loss,correct\n",
    "        \n",
    "    def run_grad(self,data,targ):\n",
    "\n",
    "        loss, correct=self.get_acc_and_loss(data,targ)\n",
    "        self.optimizer.zero_grad()\n",
    "        loss.backward()\n",
    "        self.optimizer.step()\n",
    "        \n",
    "        return loss, correct"
   ]
  },
  {
   "cell_type": "code",
   "execution_count": 0,
   "metadata": {
    "colab": {
     "base_uri": "https://localhost:8080/",
     "height": 34
    },
    "colab_type": "code",
    "id": "UwM7GXNcygWh",
    "outputId": "1130ff75-bd01-4a10-9ceb-88c46619ff63"
   },
   "outputs": [
    {
     "data": {
      "text/plain": [
       "<All keys matched successfully>"
      ]
     },
     "execution_count": 13,
     "metadata": {
      "tags": []
     },
     "output_type": "execute_result"
    }
   ],
   "source": [
    "net2full = N2(minimizer = \"Adam\")\n",
    "net2full.to(device)\n",
    "\n",
    "params1 = net1.named_parameters()\n",
    "params2full = net2full.named_parameters()\n",
    "dict_params2 = dict(params2full)\n",
    "\n",
    "for name, param in params1:\n",
    "  if name in dict_params2:\n",
    "    dict_params2[name].data.copy_(param.data)\n",
    "\n",
    "net2full.load_state_dict(dict_params2)"
   ]
  },
  {
   "cell_type": "code",
   "execution_count": 0,
   "metadata": {
    "colab": {},
    "colab_type": "code",
    "id": "QjnD6dEMyo8m"
   },
   "outputs": [],
   "source": [
    "PP = []\n",
    "\n",
    "for name, param in net2full.named_parameters():\n",
    "  if \"fc10\" in name:\n",
    "    PP.append(param)\n",
    "\n",
    "net2full.optimizer = torch.optim.Adam(PP, lr = step_size)"
   ]
  },
  {
   "cell_type": "code",
   "execution_count": 0,
   "metadata": {
    "colab": {},
    "colab_type": "code",
    "id": "foSnIe2Syv-I"
   },
   "outputs": [],
   "source": [
    "def run_epoch_general(net,epoch,train,batch_size, num=None, ttype=\"train\"):\n",
    "    \n",
    "    net.train()\n",
    "\n",
    "    if ttype=='train':\n",
    "        t1=time.time()\n",
    "        n=train[0].shape[0]\n",
    "\n",
    "        if (num is not None):\n",
    "            n=np.minimum(n,num)\n",
    "\n",
    "        ii=np.array(np.arange(0,n,1))\n",
    "        tr=train[0][ii]\n",
    "        y=train[1][ii]\n",
    "\n",
    "        train_loss=0; train_correct=0\n",
    "\n",
    "        with tqdm(total=len(y)) as progress_bar:\n",
    "            for j in np.arange(0,len(y),batch_size):\n",
    "              # Transfer batch data to device (cpu or gpu)\n",
    "                data=tr[j:j+batch_size].to(device)\n",
    "                targ=torch.from_numpy(y[j:j+batch_size]).type(torch.long).to(device)\n",
    "              # Compute gradients, update params and report loss and correct\n",
    "                loss, correct = net.run_grad(data,targ) \n",
    "                \n",
    "                train_loss += loss.item()\n",
    "                train_correct += correct.item()\n",
    "                \n",
    "                progress_bar.set_postfix(loss=loss.item())\n",
    "                progress_bar.update(data.size(0))\n",
    "        train_loss /= len(y)\n",
    "\n",
    "        train_error.append(100 - (100 * train_correct / len(y)))\n",
    "\n",
    "        print('\\nTraining set epoch {}: Avg. loss: {:.4f}, Accuracy: {}/{} ({:.0f}%)\\n'.format(epoch,\n",
    "            train_loss, train_correct, len(y),\n",
    "            100. * train_correct / len(y)))"
   ]
  },
  {
   "cell_type": "code",
   "execution_count": 0,
   "metadata": {
    "colab": {},
    "colab_type": "code",
    "id": "XApK4s6Nyutt"
   },
   "outputs": [],
   "source": [
    "def net_test(net,val,batch_size,ttype='val'):\n",
    "\n",
    "    # Do not apply dropout or gradients.\n",
    "    net.eval()\n",
    "    with torch.no_grad():\n",
    "                test_loss = 0\n",
    "                test_correct = 0\n",
    "                vald=val[0]\n",
    "                yval=val[1]\n",
    "                for j in np.arange(0,len(yval),batch_size):\n",
    "                    data=vald[j:j+batch_size].to(device)\n",
    "                    targ = torch.torch.from_numpy(yval[j:j+batch_size]).type(torch.long).to(device)\n",
    "                    loss,correct=net.get_acc_and_loss(data,targ)\n",
    "\n",
    "                    test_loss += loss.item()\n",
    "                    test_correct += correct.item()\n",
    "\n",
    "                test_loss /= len(yval)\n",
    "                SSS='Validation'\n",
    "                if (ttype=='test'):\n",
    "                    SSS='Test'\n",
    "                print('\\n{} set: Avg. loss: {:.4f}, Accuracy: {}/{} ({:.0f}%)\\n'.format(SSS,\n",
    "                    test_loss, test_correct, len(yval),\n",
    "                    100. * test_correct / len(yval)))\n",
    "                \n",
    "                eval_error.append(100 - (100 * test_correct / len(yval)))"
   ]
  },
  {
   "cell_type": "code",
   "execution_count": 0,
   "metadata": {
    "colab": {},
    "colab_type": "code",
    "id": "3zitTPlqy0Qi"
   },
   "outputs": [],
   "source": [
    "batch_size, step_size, num_epochs, numtrain = 500, 0.001, 20, 50000\n",
    "train_error, eval_error = [], []\n",
    "\n",
    "train_full = (torch.from_numpy(digit_data[:50000].reshape(50000, 1, 28, 28)).float(), digit_label[:50000])\n",
    "val_full = (torch.from_numpy(digit_data[50000:60000].reshape(10000, 1, 28, 28)).float(), digit_label[50000:60000])\n",
    "test_full = (torch.from_numpy(digit_data[60000:].reshape(10000, 1, 28, 28)).float(), digit_label[60000:])\n",
    "\n",
    "for i in range(num_epochs):\n",
    "    run_epoch_general(net2full,i,train_full,batch_size, num=numtrain, ttype=\"train\")\n",
    "    net_test(net2full,val_full,batch_size)"
   ]
  },
  {
   "cell_type": "code",
   "execution_count": 0,
   "metadata": {
    "colab": {
     "base_uri": "https://localhost:8080/",
     "height": 50
    },
    "colab_type": "code",
    "id": "jLDBEdln-sAR",
    "outputId": "c05004d8-2bb0-4d58-e8fc-a6cc1c77ef4c"
   },
   "outputs": [
    {
     "name": "stdout",
     "output_type": "stream",
     "text": [
      "Error rates for the final epoch are:\n",
      "2.854000% on the training set and 4.110000% on the validation set.\n"
     ]
    }
   ],
   "source": [
    "print(\"Error rates for the final epoch are:\\n{:f}% on the training set and {:f}% on the validation set.\".format(\n",
    "    train_error[-1], eval_error[-1]))"
   ]
  },
  {
   "cell_type": "markdown",
   "metadata": {
    "colab_type": "text",
    "id": "ZzLOC0Oj-1tl"
   },
   "source": [
    "With N1 embedding parameters and trained using the full training set, N2 recorded approx. 2.85% training error rate and 4.11% validation error rate in the final epoch.  \n",
    "The error rates are indeed low, so I conclude that embedding parameters passed down from N1 are performing satisfactorily. "
   ]
  },
  {
   "cell_type": "markdown",
   "metadata": {
    "colab_type": "text",
    "id": "fhcEsR7R_R7S"
   },
   "source": [
    "**Question 4:**  \n",
    "\n",
    "N2, with N1 embedding parameters again, is trained on the small training set (net2small) below."
   ]
  },
  {
   "cell_type": "code",
   "execution_count": 0,
   "metadata": {
    "colab": {
     "base_uri": "https://localhost:8080/",
     "height": 34
    },
    "colab_type": "code",
    "id": "qBN9AiGK_RWO",
    "outputId": "902f4e26-503a-4aa5-f4fb-4837df2ecfea"
   },
   "outputs": [
    {
     "data": {
      "text/plain": [
       "<All keys matched successfully>"
      ]
     },
     "execution_count": 19,
     "metadata": {
      "tags": []
     },
     "output_type": "execute_result"
    }
   ],
   "source": [
    "net2small = N2(minimizer = \"Adam\")\n",
    "net2small.to(device)\n",
    "\n",
    "params2small = net2small.named_parameters()\n",
    "dict_params2_small = dict(params2small)\n",
    "\n",
    "for name, param in params1:\n",
    "  if name in dict_params2_small:\n",
    "    dict_params2_small[name].data.copy_(param.data)\n",
    "\n",
    "net2small.load_state_dict(dict_params2)"
   ]
  },
  {
   "cell_type": "code",
   "execution_count": 0,
   "metadata": {
    "colab": {},
    "colab_type": "code",
    "id": "LFI1wLeK_4Uc"
   },
   "outputs": [],
   "source": [
    "PP = []\n",
    "\n",
    "for name, param in net2small.named_parameters():\n",
    "  if \"fc10\" in name:\n",
    "    PP.append(param)\n",
    "\n",
    "net2small.optimizer = torch.optim.Adam(PP, lr = step_size)"
   ]
  },
  {
   "cell_type": "code",
   "execution_count": 0,
   "metadata": {
    "colab": {},
    "colab_type": "code",
    "id": "XVmzdEoP3k7k"
   },
   "outputs": [],
   "source": [
    "# first 1000 datapoints in training, validation, and test set, respectively\n",
    "train_small = (torch.from_numpy(digit_data[:1000].reshape(1000, 1, 28, 28)).float(), digit_label[:1000])\n",
    "val_small = (torch.from_numpy(digit_data[50000:51000].reshape(1000, 1, 28, 28)).float(), digit_label[50000:51000])\n",
    "test_small = (torch.from_numpy(digit_data[60000:61000].reshape(1000, 1, 28, 28)).float(), digit_label[60000:61000])"
   ]
  },
  {
   "cell_type": "code",
   "execution_count": 0,
   "metadata": {
    "colab": {},
    "colab_type": "code",
    "id": "-FBAdSPiAGWD"
   },
   "outputs": [],
   "source": [
    "batch_size, step_size, num_epochs, numtrain = 100, 0.001, 20, 1000\n",
    "train_error, eval_error = [], []\n",
    "\n",
    "for i in range(num_epochs):\n",
    "    run_epoch_general(net2small,i,train_small,batch_size, num=numtrain, ttype=\"train\")\n",
    "    net_test(net2small,val_small,batch_size)\n",
    "\n",
    "train_error_N2small = train_error[:]\n",
    "eval_error_N2small = eval_error[:]"
   ]
  },
  {
   "cell_type": "markdown",
   "metadata": {
    "colab_type": "text",
    "id": "29jcnuvOBDTo"
   },
   "source": [
    "Similarly, N0 is trained on the small training set below."
   ]
  },
  {
   "cell_type": "code",
   "execution_count": 0,
   "metadata": {
    "colab": {},
    "colab_type": "code",
    "id": "jWT7VcXQAfIT"
   },
   "outputs": [],
   "source": [
    "net0 = N0(minimizer = \"Adam\")\n",
    "net0.to(device)\n",
    "\n",
    "batch_size, step_size, num_epochs, numtrain = 100, 0.001, 20, 1000\n",
    "train_error, eval_error = [], []\n",
    "\n",
    "for i in range(num_epochs):\n",
    "    run_epoch_general(net0,i,train_small,batch_size, num=numtrain, ttype=\"train\")\n",
    "    net_test(net0,val_small,batch_size)\n",
    "\n",
    "train_error_N0 = train_error[:]\n",
    "eval_error_N0 = eval_error[:]"
   ]
  },
  {
   "cell_type": "markdown",
   "metadata": {
    "colab_type": "text",
    "id": "HW1KkNRFBBtT"
   },
   "source": [
    "First, we could compare test set error (i.e. accuracy rate) for both N2 (net2small) and N0 (net0):"
   ]
  },
  {
   "cell_type": "code",
   "execution_count": 0,
   "metadata": {
    "colab": {
     "base_uri": "https://localhost:8080/",
     "height": 84
    },
    "colab_type": "code",
    "id": "If5VkWB_BVPW",
    "outputId": "c3f3c13a-7f00-4c79-de95-f1e074e8fc69"
   },
   "outputs": [
    {
     "name": "stdout",
     "output_type": "stream",
     "text": [
      "N2 testing set result:\n",
      "\n",
      "Test set: Avg. loss: 0.0033, Accuracy: 957/1000 (96%)\n",
      "\n"
     ]
    }
   ],
   "source": [
    "print(\"N2 testing set result:\")\n",
    "net_test(net2small,test_small,batch_size,ttype='test')"
   ]
  },
  {
   "cell_type": "code",
   "execution_count": 0,
   "metadata": {
    "colab": {
     "base_uri": "https://localhost:8080/",
     "height": 84
    },
    "colab_type": "code",
    "id": "78qGgFGQBYxY",
    "outputId": "ba64c58a-4c16-482b-93d0-c7f08834c82b"
   },
   "outputs": [
    {
     "name": "stdout",
     "output_type": "stream",
     "text": [
      "N0 testing set result\n",
      "\n",
      "Test set: Avg. loss: 0.0024, Accuracy: 925/1000 (92%)\n",
      "\n"
     ]
    }
   ],
   "source": [
    "print(\"N0 testing set result\")\n",
    "net_test(net0,test_small,batch_size,ttype='test')"
   ]
  },
  {
   "cell_type": "markdown",
   "metadata": {
    "colab_type": "text",
    "id": "K9GjuepnBiGs"
   },
   "source": [
    "From above, we can see that while both N2 and N0 performed well on the MNIST test set (error rates less than 10%), N2 outperformed N0 by 4% in terms of accuracy (or error) rate, which is a noticeable difference given that both are decent classifiers with 90%+ accuracy."
   ]
  },
  {
   "cell_type": "code",
   "execution_count": 0,
   "metadata": {
    "colab": {
     "base_uri": "https://localhost:8080/",
     "height": 281
    },
    "colab_type": "code",
    "id": "bSe2K66T2k3i",
    "outputId": "54741ef1-ef24-4ccc-8d3e-7e5807c0b363"
   },
   "outputs": [
    {
     "data": {
      "image/png": "[encoded data removed]",
      "text/plain": [
       "<Figure size 432x288 with 1 Axes>"
      ]
     },
     "metadata": {
      "needs_background": "light",
      "tags": []
     },
     "output_type": "display_data"
    }
   ],
   "source": [
    "plt.plot(train_error_N2small)\n",
    "plt.plot(train_error_N0)\n",
    "plt.legend([\"N2 training error\", \"N0 training error\"])\n",
    "plt.title(\"Training error rate (%) over epoch\")\n",
    "plt.show()"
   ]
  },
  {
   "cell_type": "code",
   "execution_count": 0,
   "metadata": {
    "colab": {
     "base_uri": "https://localhost:8080/",
     "height": 281
    },
    "colab_type": "code",
    "id": "eYclYcUT2KMt",
    "outputId": "5ecd9fc9-cfc4-442b-d41f-2c18bfe43309"
   },
   "outputs": [
    {
     "data": {
      "image/png": "[encoded data removed]",
      "text/plain": [
       "<Figure size 432x288 with 1 Axes>"
      ]
     },
     "metadata": {
      "needs_background": "light",
      "tags": []
     },
     "output_type": "display_data"
    }
   ],
   "source": [
    "plt.plot(eval_error_N2small)\n",
    "plt.plot(eval_error_N0)\n",
    "plt.legend([\"N2 validation error\", \"N0 validation error\"])\n",
    "plt.title(\"Validation error rate (%) over epoch\")\n",
    "plt.show()"
   ]
  },
  {
   "cell_type": "markdown",
   "metadata": {
    "colab_type": "text",
    "id": "zJGpN_v3CoMV"
   },
   "source": [
    "Furthermore, above plots show that N2 almost always recorded lower error rates than N0, both on training and validation set, for most numbers of epoch. Therefore, we can certainly confirm that N2 performs (i.e. \"generalizes\") better.  \n",
    "\n",
    "This would be because the embedding of N2 is trained based on handwritten letters, including perturbations. As there are more types of alphabets than digits (26 vs. 10, or 52 if uppercase and lowercase are counted separately), embedding layer would have been trained better to record various features of handwritten characters, including but not limited to directions of strokes, curvature, etc. Moreover, thanks to the perturbations in the training set, N2 embedding would also have been \"used to\" irregularities that can happen in human handwriting.  \n",
    "\n",
    "Such intensive training on greater variety and irregularities in handwriting patterns would have allowed N2 to better process handwritten digits as well, resulting in better performance than N0, which was directly trained on digits images."
   ]
  },
  {
   "cell_type": "markdown",
   "metadata": {
    "colab_type": "text",
    "id": "VKZsFNDpEQ05"
   },
   "source": [
    "**Question 5:**"
   ]
  },
  {
   "cell_type": "markdown",
   "metadata": {
    "colab_type": "text",
    "id": "0P0rtVGXHhyE"
   },
   "source": [
    "For random initialization, each parameter value is drawn from the standard normal distribution below:"
   ]
  },
  {
   "cell_type": "code",
   "execution_count": 0,
   "metadata": {
    "colab": {},
    "colab_type": "code",
    "id": "U18kqrhcEzan"
   },
   "outputs": [],
   "source": [
    "dict_params2_rand = dict_params2.copy()\n",
    "\n",
    "for name in dict_params2_rand:\n",
    "  w = torch.empty(dict_params2_rand[name].shape)\n",
    "  nn.init.normal_(w)\n",
    "  dict_params2_rand[name] = w"
   ]
  },
  {
   "cell_type": "markdown",
   "metadata": {
    "colab_type": "text",
    "id": "P8U7M2bMHrfq"
   },
   "source": [
    "With randomly drawn parameters above, N2 is trained on the small training set (1,000 datapoints) below:"
   ]
  },
  {
   "cell_type": "code",
   "execution_count": 0,
   "metadata": {
    "colab": {
     "base_uri": "https://localhost:8080/",
     "height": 34
    },
    "colab_type": "code",
    "id": "rTCQhmnrGILE",
    "outputId": "fa5ecc7d-c1e9-46d7-ae0c-af3db72b2307"
   },
   "outputs": [
    {
     "data": {
      "text/plain": [
       "<All keys matched successfully>"
      ]
     },
     "execution_count": 29,
     "metadata": {
      "tags": []
     },
     "output_type": "execute_result"
    }
   ],
   "source": [
    "net2rand_small = N2(minimizer = \"Adam\")\n",
    "net2rand_small.to(device)\n",
    "\n",
    "net2rand_small.load_state_dict(dict_params2_rand)"
   ]
  },
  {
   "cell_type": "code",
   "execution_count": 0,
   "metadata": {
    "colab": {},
    "colab_type": "code",
    "id": "a-orJO-BG-JQ"
   },
   "outputs": [],
   "source": [
    "PP = []\n",
    "\n",
    "for name, param in net2rand_small.named_parameters():\n",
    "  if \"fc10\" in name:\n",
    "    PP.append(param)\n",
    "\n",
    "net2rand_small.optimizer = torch.optim.Adam(PP, lr = step_size)"
   ]
  },
  {
   "cell_type": "code",
   "execution_count": 0,
   "metadata": {
    "colab": {},
    "colab_type": "code",
    "id": "G7aj1GrsHJTt"
   },
   "outputs": [],
   "source": [
    "batch_size, step_size, num_epochs, numtrain = 100, 0.001, 20, 1000\n",
    "train_error, eval_error = [], []\n",
    "\n",
    "for i in range(num_epochs):\n",
    "    run_epoch_general(net2rand_small,i,train_small,batch_size, num=numtrain, ttype=\"train\")\n",
    "    net_test(net2rand_small,val_small,batch_size)\n",
    "\n",
    "train_error_N2rand_small = train_error[:]\n",
    "eval_error_N2rand_small = eval_error[:]"
   ]
  },
  {
   "cell_type": "markdown",
   "metadata": {
    "colab_type": "text",
    "id": "iaHTwkc-H2dl"
   },
   "source": [
    "Similarly, with the same randomly drawn parameters, another N2 network is trained on the full training set:"
   ]
  },
  {
   "cell_type": "code",
   "execution_count": 0,
   "metadata": {
    "colab": {
     "base_uri": "https://localhost:8080/",
     "height": 34
    },
    "colab_type": "code",
    "id": "PAM1oU2xH-TA",
    "outputId": "f9957f06-982e-4e75-8655-b7c817b25caf"
   },
   "outputs": [
    {
     "data": {
      "text/plain": [
       "<All keys matched successfully>"
      ]
     },
     "execution_count": 32,
     "metadata": {
      "tags": []
     },
     "output_type": "execute_result"
    }
   ],
   "source": [
    "net2rand_full = N2(minimizer = \"Adam\")\n",
    "net2rand_full.to(device)\n",
    "\n",
    "net2rand_full.load_state_dict(dict_params2_rand)"
   ]
  },
  {
   "cell_type": "code",
   "execution_count": 0,
   "metadata": {
    "colab": {},
    "colab_type": "code",
    "id": "Dca4AAmHIFjZ"
   },
   "outputs": [],
   "source": [
    "PP = []\n",
    "\n",
    "for name, param in net2rand_full.named_parameters():\n",
    "  if \"fc10\" in name:\n",
    "    PP.append(param)\n",
    "\n",
    "net2rand_full.optimizer = torch.optim.Adam(PP, lr = step_size)"
   ]
  },
  {
   "cell_type": "code",
   "execution_count": 0,
   "metadata": {
    "colab": {},
    "colab_type": "code",
    "id": "shUb4jQAILEk"
   },
   "outputs": [],
   "source": [
    "batch_size, step_size, num_epochs, numtrain = 500, 0.001, 20, 50000\n",
    "train_error, eval_error = [], []\n",
    "\n",
    "for i in range(num_epochs):\n",
    "    run_epoch_general(net2rand_full,i,train_full,batch_size, num=numtrain, ttype=\"train\")\n",
    "    net_test(net2rand_full,val_full,batch_size)\n",
    "\n",
    "train_error_N2rand_full = train_error[:]\n",
    "eval_error_N2rand_full = eval_error[:]"
   ]
  },
  {
   "cell_type": "code",
   "execution_count": 0,
   "metadata": {
    "colab": {
     "base_uri": "https://localhost:8080/",
     "height": 84
    },
    "colab_type": "code",
    "id": "2ieIw7riJaYo",
    "outputId": "3aa2d4c1-89e2-4404-cde7-510156808968"
   },
   "outputs": [
    {
     "name": "stdout",
     "output_type": "stream",
     "text": [
      "N2rand (small training set) test result\n",
      "\n",
      "Test set: Avg. loss: 259.0887, Accuracy: 337/1000 (34%)\n",
      "\n"
     ]
    }
   ],
   "source": [
    "print(\"N2rand (small training set) test result\")\n",
    "net_test(net2rand_small,test_small,batch_size,ttype='test')"
   ]
  },
  {
   "cell_type": "code",
   "execution_count": 0,
   "metadata": {
    "colab": {
     "base_uri": "https://localhost:8080/",
     "height": 84
    },
    "colab_type": "code",
    "id": "6SBROcNRJm9J",
    "outputId": "434e19f0-c449-4545-a11f-583d6c568ec3"
   },
   "outputs": [
    {
     "name": "stdout",
     "output_type": "stream",
     "text": [
      "N2rand (full training set) test result\n",
      "\n",
      "Test set: Avg. loss: 25.9439, Accuracy: 8867/10000 (89%)\n",
      "\n"
     ]
    }
   ],
   "source": [
    "print(\"N2rand (full training set) test result\")\n",
    "net_test(net2rand_full,test_full,batch_size,ttype='test')"
   ]
  },
  {
   "cell_type": "markdown",
   "metadata": {
    "colab_type": "text",
    "id": "VbdVEYtkKwEG"
   },
   "source": [
    "From above, we can check that N2rand performed surely worse than N0 or N2, recording < 90% accuracy or 10%+ error rates.  \n",
    "\n",
    "Besides being worse than N0 and N2, we can also see that while N2rand's accuracy with small training set was horrible, its performance on the full training set was not really bad (89% accuracy). This would be most probably because greater training set and more repetition by batches provided the model to self-correct noises from random parameters in the embedding layer.  \n",
    "To further scrutinize this aspect, plots on training and validation error rates are included below:"
   ]
  },
  {
   "cell_type": "code",
   "execution_count": 0,
   "metadata": {
    "colab": {
     "base_uri": "https://localhost:8080/",
     "height": 281
    },
    "colab_type": "code",
    "id": "OfiwVO0aL0Pr",
    "outputId": "6cd1eaff-6e31-412e-b9b3-fb8ce3d52cc3"
   },
   "outputs": [
    {
     "data": {
      "image/png": "[encoded data removed]",
      "text/plain": [
       "<Figure size 432x288 with 1 Axes>"
      ]
     },
     "metadata": {
      "needs_background": "light",
      "tags": []
     },
     "output_type": "display_data"
    }
   ],
   "source": [
    "plt.plot(train_error_N2rand_full)\n",
    "plt.plot(train_error_N2rand_small)\n",
    "plt.legend([\"N2rand (full training set)\", \"N2rand (small training set)\"])\n",
    "plt.title(\"Training error rate (%) over epoch\")\n",
    "plt.show()"
   ]
  },
  {
   "cell_type": "code",
   "execution_count": 0,
   "metadata": {
    "colab": {
     "base_uri": "https://localhost:8080/",
     "height": 281
    },
    "colab_type": "code",
    "id": "xiHS-WPbMM9B",
    "outputId": "335daba3-dc0e-4fb2-d417-e50a7de4b6bd"
   },
   "outputs": [
    {
     "data": {
      "image/png": "[encoded data removed]",
      "text/plain": [
       "<Figure size 432x288 with 1 Axes>"
      ]
     },
     "metadata": {
      "needs_background": "light",
      "tags": []
     },
     "output_type": "display_data"
    }
   ],
   "source": [
    "plt.plot(eval_error_N2rand_full)\n",
    "plt.plot(eval_error_N2rand_small)\n",
    "plt.legend([\"N2rand (full training set)\", \"N2rand (small training set)\"])\n",
    "plt.title(\"Validation error rate (%) over epoch\")\n",
    "plt.show()"
   ]
  },
  {
   "cell_type": "markdown",
   "metadata": {
    "colab_type": "text",
    "id": "TYlm5ByRMU6V"
   },
   "source": [
    "Above plots tell us that N2rand's training and validation error rates have been decreasing, both for small and full training sets. This indeed provides further evidence for the hypothesis of self-correction through repetitive learning.  \n",
    "\n",
    "Therefore, we can expect that even though embedding is \"messed up\" with random parameters that are totally irrelevant with samples (and is fixed to those values), sufficiently large training data and repetitive training could optimize the classifying layer, so that it can \"filter out\" irrelevant noises from the embedding layer and make reasonable predictions."
   ]
  },
  {
   "cell_type": "markdown",
   "metadata": {
    "colab_type": "text",
    "id": "SdcTs0ZVNOYx"
   },
   "source": [
    "**Question 6:**  \n",
    "\n",
    "Each of N0, N2 (small training set), N2 (full training set), N2rand (small training set), and N2rand (full training set) are tested on the entire transforemd data set:"
   ]
  },
  {
   "cell_type": "code",
   "execution_count": 0,
   "metadata": {
    "colab": {},
    "colab_type": "code",
    "id": "I_9JzJ1lNcqO"
   },
   "outputs": [],
   "source": [
    "transform_total_test = (torch.from_numpy(digit_transform.reshape(70000, 1, 28, 28)).float(), digit_label)"
   ]
  },
  {
   "cell_type": "code",
   "execution_count": 0,
   "metadata": {
    "colab": {
     "base_uri": "https://localhost:8080/",
     "height": 84
    },
    "colab_type": "code",
    "id": "XWue6-mjN5Wz",
    "outputId": "51b98078-07f2-4b7b-b6b1-9afe38903a24"
   },
   "outputs": [
    {
     "name": "stdout",
     "output_type": "stream",
     "text": [
      "N0 transformed data test result\n",
      "\n",
      "Test set: Avg. loss: 0.0056, Accuracy: 35535/70000 (51%)\n",
      "\n"
     ]
    }
   ],
   "source": [
    "print(\"N0 transformed data test result\")\n",
    "net_test(net0,transform_total_test,batch_size,ttype='test')"
   ]
  },
  {
   "cell_type": "code",
   "execution_count": 0,
   "metadata": {
    "colab": {
     "base_uri": "https://localhost:8080/",
     "height": 84
    },
    "colab_type": "code",
    "id": "e7QrZ1LjOHk6",
    "outputId": "cac7dd94-bc92-4e84-e9ac-563198424423"
   },
   "outputs": [
    {
     "name": "stdout",
     "output_type": "stream",
     "text": [
      "N2 (small training set) transformed data test result\n",
      "\n",
      "Test set: Avg. loss: 0.0162, Accuracy: 39425/70000 (56%)\n",
      "\n"
     ]
    }
   ],
   "source": [
    "print(\"N2 (small training set) transformed data test result\")\n",
    "net_test(net2small,transform_total_test,batch_size,ttype='test')"
   ]
  },
  {
   "cell_type": "code",
   "execution_count": 0,
   "metadata": {
    "colab": {
     "base_uri": "https://localhost:8080/",
     "height": 84
    },
    "colab_type": "code",
    "id": "2kJLAHjWOOl2",
    "outputId": "0611ecd9-47f7-4465-c98f-c641b8d2748c"
   },
   "outputs": [
    {
     "name": "stdout",
     "output_type": "stream",
     "text": [
      "N2 (full training set) transformed data test result\n",
      "\n",
      "Test set: Avg. loss: 0.0127, Accuracy: 39339/70000 (56%)\n",
      "\n"
     ]
    }
   ],
   "source": [
    "print(\"N2 (full training set) transformed data test result\")\n",
    "net_test(net2full,transform_total_test,batch_size,ttype='test')"
   ]
  },
  {
   "cell_type": "code",
   "execution_count": 0,
   "metadata": {
    "colab": {
     "base_uri": "https://localhost:8080/",
     "height": 84
    },
    "colab_type": "code",
    "id": "a9-PFNn3OXl6",
    "outputId": "ced42ea2-8de0-4847-825f-f48e8387538b"
   },
   "outputs": [
    {
     "name": "stdout",
     "output_type": "stream",
     "text": [
      "N2rand (small training set) transformed data test result\n",
      "\n",
      "Test set: Avg. loss: 607.3399, Accuracy: 14464/70000 (21%)\n",
      "\n"
     ]
    }
   ],
   "source": [
    "print(\"N2rand (small training set) transformed data test result\")\n",
    "net_test(net2rand_small,transform_total_test,batch_size,ttype='test')"
   ]
  },
  {
   "cell_type": "code",
   "execution_count": 0,
   "metadata": {
    "colab": {
     "base_uri": "https://localhost:8080/",
     "height": 84
    },
    "colab_type": "code",
    "id": "QTytSJ46Oe8S",
    "outputId": "ab9ab406-60fd-4559-f6b8-7d29e041e6b5"
   },
   "outputs": [
    {
     "name": "stdout",
     "output_type": "stream",
     "text": [
      "N2rand (full training set) transformed data test result\n",
      "\n",
      "Test set: Avg. loss: 482.1826, Accuracy: 26905/70000 (38%)\n",
      "\n"
     ]
    }
   ],
   "source": [
    "print(\"N2rand (full training set) transformed data test result\")\n",
    "net_test(net2rand_full,transform_total_test,batch_size,ttype='test')"
   ]
  },
  {
   "cell_type": "markdown",
   "metadata": {
    "colab_type": "text",
    "id": "kNPvCrkgPKXr"
   },
   "source": [
    "Here, N2rand's recorded < 50% accuracy rates, while N0 and N2's recorded accuracy rates between 50% and 60%. Hence, we can see that all those networks did not perform very well on the transformed data.  \n",
    "\n",
    "In particular, it seems most likely that proper prediction based on transformed data requires well-suited embedding: while N0 and N2's recorded relatively fair (approx. 50%) accuracy, N2rand's with randomly drawn embedding parameters showed horrible accuracy rates.  \n",
    "Also, some set of digits are often hard to distinguish depending on a person's handwriting (e.g. 1 and 7; 6, 8, and 9). With transformation, it would have been even harder to distinguish such digits.  \n",
    "\n",
    "More fundamentally, as the transformation includes, a number of images do not fully capture the digits. That would possibly have caused further confusion to the network, as some digits just look like others if a part of them are cropped out (e.g. 6 will look like 5 and 8 like 3, if their left half is delted).\n",
    "\n",
    "For reference, 100 samples of ransformed digit images are inspected below:"
   ]
  },
  {
   "cell_type": "code",
   "execution_count": 0,
   "metadata": {
    "colab": {
     "base_uri": "https://localhost:8080/",
     "height": 368
    },
    "colab_type": "code",
    "id": "ConDWMDVO-Zn",
    "outputId": "74ec368d-fdd9-46a3-a533-9ccfe2c0f9a1"
   },
   "outputs": [
    {
     "data": {
      "image/png": "[encoded data removed]",
      "text/plain": [
       "<Figure size 2880x720 with 100 Axes>"
      ]
     },
     "metadata": {
      "needs_background": "light",
      "tags": []
     },
     "output_type": "display_data"
    }
   ],
   "source": [
    "ncols, nrows = 20, 5\n",
    "\n",
    "plt.figure(figsize = (ncols * 2, nrows * 2))\n",
    "\n",
    "for i in range(nrows * ncols):\n",
    "\n",
    "  plt.subplot(nrows, ncols, i + 1)\n",
    "  plt.imshow(digit_transform[i, :, :, 0], cmap = \"gray\")\n",
    "  plt.axis(\"off\")\n",
    "\n",
    "plt.axis(\"off\")\n",
    "plt.show()"
   ]
  },
  {
   "cell_type": "markdown",
   "metadata": {
    "colab_type": "text",
    "id": "1sUeG5GMXhyT"
   },
   "source": [
    "Hecne, we could try different approaches, including other loss functions and more extensive training with perturbations, while **sticking to the non-random embedding.**"
   ]
  },
  {
   "cell_type": "markdown",
   "metadata": {
    "colab_type": "text",
    "id": "IDgDTEoGX3hV"
   },
   "source": [
    "**Question 7 Part (a):**"
   ]
  },
  {
   "cell_type": "markdown",
   "metadata": {
    "colab_type": "text",
    "id": "nXwiTX2JnbRU"
   },
   "source": [
    "In Question 2, I proposed to base the contrastive loss on Euclidean distance instead of cosine similarity. This is already implemented in N1 and can be used by passing down parameter `simil=\"euclidean\"`  (or technically, not passing down `simil=\"cosine\"`) to the constructor of N1."
   ]
  },
  {
   "cell_type": "code",
   "execution_count": 0,
   "metadata": {
    "colab": {
     "base_uri": "https://localhost:8080/",
     "height": 134
    },
    "colab_type": "code",
    "id": "Oy7r8A1UX2bR",
    "outputId": "dc042159-1a3b-49e5-9f55-040d659df335"
   },
   "outputs": [
    {
     "data": {
      "text/plain": [
       "N1(\n",
       "  (conv1): Conv2d(1, 32, kernel_size=(5, 5), stride=(1, 1))\n",
       "  (conv2): Conv2d(32, 64, kernel_size=(5, 5), stride=(1, 1))\n",
       "  (conv2_drop): Dropout2d(p=0.5, inplace=False)\n",
       "  (fc64): Linear(in_features=1024, out_features=64, bias=True)\n",
       "  (criterion): MarginRankingLoss()\n",
       ")"
      ]
     },
     "execution_count": 45,
     "metadata": {
      "tags": []
     },
     "output_type": "execute_result"
    }
   ],
   "source": [
    "batch_size, step_size, num_epochs, numtrain = 5000, 0.001, 20, 100000\n",
    "dropout_p, dim, nchannels = 0.5, 28, 1\n",
    "minimizer=\"SGD\"\n",
    "model_name=\"model\"\n",
    "\n",
    "net1_euclidean = N1(p = dropout_p, minimizer=\"SGD\", simil=\"euclidean\")\n",
    "net1_euclidean.to(device)"
   ]
  },
  {
   "cell_type": "code",
   "execution_count": 0,
   "metadata": {
    "colab": {},
    "colab_type": "code",
    "id": "GWjR6eCsoiBs"
   },
   "outputs": [],
   "source": [
    "for i in range(num_epochs):\n",
    "    run_epoch_N1(net1_euclidean,i,letter_data, letter_pert, y,batch_size, num=numtrain, ttype=\"train\", is_cosine=False)"
   ]
  },
  {
   "cell_type": "code",
   "execution_count": 0,
   "metadata": {
    "colab": {
     "base_uri": "https://localhost:8080/",
     "height": 34
    },
    "colab_type": "code",
    "id": "5xLPGhGAtU2W",
    "outputId": "f82614a1-5502-475f-e966-c479d178aae0"
   },
   "outputs": [
    {
     "data": {
      "text/plain": [
       "<All keys matched successfully>"
      ]
     },
     "execution_count": 47,
     "metadata": {
      "tags": []
     },
     "output_type": "execute_result"
    }
   ],
   "source": [
    "net2_euclidean = N2(minimizer = \"Adam\")\n",
    "net2_euclidean.to(device)\n",
    "\n",
    "params1_euclidean = net1_euclidean.named_parameters()\n",
    "params2_euclidean = net2_euclidean.named_parameters()\n",
    "dict_params2_euclidean = dict(params2_euclidean)\n",
    "\n",
    "for name, param in params1_euclidean:\n",
    "  if name in dict_params2_euclidean:\n",
    "    dict_params2_euclidean[name].data.copy_(param.data)\n",
    "\n",
    "net2_euclidean.load_state_dict(dict_params2_euclidean)"
   ]
  },
  {
   "cell_type": "code",
   "execution_count": 0,
   "metadata": {
    "colab": {},
    "colab_type": "code",
    "id": "-4mo6zq3t1mt"
   },
   "outputs": [],
   "source": [
    "PP = []\n",
    "\n",
    "for name, param in net2_euclidean.named_parameters():\n",
    "  if \"fc10\" in name:\n",
    "    PP.append(param)\n",
    "\n",
    "net2_euclidean.optimizer = torch.optim.Adam(PP, lr = step_size)"
   ]
  },
  {
   "cell_type": "code",
   "execution_count": 0,
   "metadata": {
    "colab": {},
    "colab_type": "code",
    "id": "kf9UeOYDuB2B"
   },
   "outputs": [],
   "source": [
    "batch_size, step_size, num_epochs, numtrain = 500, 0.001, 20, 50000\n",
    "train_error, eval_error = [], [] #\n",
    "\n",
    "transform_val = (torch.from_numpy(digit_transform[:10000].reshape(10000, 1, 28, 28)).float(), digit_label[:10000])\n",
    "transform_test = (torch.from_numpy(digit_transform[10000:].reshape(60000, 1, 28, 28)).float(), digit_label[10000:])\n",
    "\n",
    "for i in range(num_epochs):\n",
    "    run_epoch_general(net2_euclidean,i,train_full,batch_size, num=numtrain, ttype=\"train\")\n",
    "    net_test(net2_euclidean,transform_val,batch_size)\n",
    "\n",
    "train_error_N2euclidean = train_error[:]\n",
    "eval_error_N2euclidean = eval_error[:]"
   ]
  },
  {
   "cell_type": "code",
   "execution_count": 0,
   "metadata": {
    "colab": {
     "base_uri": "https://localhost:8080/",
     "height": 281
    },
    "colab_type": "code",
    "id": "1JkKImXc59bD",
    "outputId": "9507ee4e-b6cd-4bdb-a6ec-15b15bea411c"
   },
   "outputs": [
    {
     "data": {
      "image/png": "[encoded data removed]",
      "text/plain": [
       "<Figure size 432x288 with 1 Axes>"
      ]
     },
     "metadata": {
      "needs_background": "light",
      "tags": []
     },
     "output_type": "display_data"
    }
   ],
   "source": [
    "plt.plot(train_error_N2euclidean)\n",
    "plt.plot(eval_error_N2euclidean)\n",
    "plt.legend([\"Training error\", \"Validation error\"])\n",
    "plt.title(\"Error rate (%) over epoch\")\n",
    "plt.show()"
   ]
  },
  {
   "cell_type": "markdown",
   "metadata": {
    "colab_type": "text",
    "id": "CRlbABh86P0p"
   },
   "source": [
    "From the above plot, we can see that both training and validation error rates are very high and not improving to a meaningful extent over epoch. (Although they are technically decreasing, slopes are close to 0 - check the y-axis range carefully!)"
   ]
  },
  {
   "cell_type": "code",
   "execution_count": 0,
   "metadata": {
    "colab": {
     "base_uri": "https://localhost:8080/",
     "height": 84
    },
    "colab_type": "code",
    "id": "vc8DhGrruXiz",
    "outputId": "6c03b52e-c346-4d62-db3d-488891450985"
   },
   "outputs": [
    {
     "name": "stdout",
     "output_type": "stream",
     "text": [
      "N2 (Euclidean distance-based) transformed data test result\n",
      "\n",
      "Test set: Avg. loss: 0.0046, Accuracy: 7166/60000 (12%)\n",
      "\n"
     ]
    }
   ],
   "source": [
    "print(\"N2 (Euclidean distance-based) transformed data test result\")\n",
    "net_test(net2_euclidean,transform_test,batch_size,ttype='test')"
   ]
  },
  {
   "cell_type": "markdown",
   "metadata": {
    "colab_type": "text",
    "id": "YqYAI5-6xbQG"
   },
   "source": [
    "Furthermore, transformed data testing result is disappointing (< 20% accuracy / 80%+ error rate). Thus, we shall conclude that usage of Euclidean distance-based contrastive loss is not a good alternative of cosine similairty-based loss."
   ]
  },
  {
   "cell_type": "markdown",
   "metadata": {
    "colab_type": "text",
    "id": "A1IwIWuwxci6"
   },
   "source": [
    "**Question 7 Part (b):**  \n",
    "\n",
    "The function `new_affine` is defined below, which applies the full affine map to the grid (beyond shifting and scaling)."
   ]
  },
  {
   "cell_type": "code",
   "execution_count": 0,
   "metadata": {
    "colab": {},
    "colab_type": "code",
    "id": "uFCfuggQxrvM"
   },
   "outputs": [],
   "source": [
    "def new_affine(x_in, factor):\n",
    "\n",
    "  nn = x_in.shape[0]\n",
    "  h = x_in.shape[2]\n",
    "  w = x_in.shape[3]\n",
    "\n",
    "  u = ((torch.rand(nn, 6) - 0.5)) * factor\n",
    "  ID = torch.zeros(nn, 6)\n",
    "  ID[:, 0] = 1\n",
    "  ID[:, 4] = 1\n",
    "  theta = (u + ID).reshape(-1, 2, 3)\n",
    "\n",
    "  grid = F.affine_grid(theta, [nn, 1, h, w], align_corners = True)\n",
    "  x_out = F.grid_sample(x_in, grid, padding_mode = \"zeros\", align_corners = True)\n",
    "\n",
    "  return x_out.type(torch.DoubleTensor)"
   ]
  },
  {
   "cell_type": "code",
   "execution_count": 0,
   "metadata": {
    "colab": {
     "base_uri": "https://localhost:8080/",
     "height": 244
    },
    "colab_type": "code",
    "id": "-Kgc6ipRx9tp",
    "outputId": "0e8fe5e3-0f8d-442f-9d0a-05d3a4a776e7"
   },
   "outputs": [
    {
     "data": {
      "image/png": "[encoded data removed]",
      "text/plain": [
       "<Figure size 1440x288 with 20 Axes>"
      ]
     },
     "metadata": {
      "needs_background": "light",
      "tags": []
     },
     "output_type": "display_data"
    }
   ],
   "source": [
    "test = new_affine(letter_data[:10].float(), 1.2)\n",
    "ncols, nrows = 10, 2\n",
    "\n",
    "plt.figure(figsize = (ncols * 2, nrows * 2))\n",
    "\n",
    "for i in range(nrows * ncols):\n",
    "\n",
    "  plt.subplot(nrows, ncols, i + 1)\n",
    "\n",
    "  if i < 10:\n",
    "    plt.imshow(letter_data[i, 0, :, :], cmap = \"gray\")\n",
    "  \n",
    "  else:\n",
    "    plt.imshow(test[i - 10, 0, :, :], cmap = \"gray\")\n",
    "\n",
    "  plt.axis(\"off\")\n",
    "plt.axis(\"off\")\n",
    "plt.show()"
   ]
  },
  {
   "cell_type": "markdown",
   "metadata": {
    "colab_type": "text",
    "id": "TflYS2XirSeW"
   },
   "source": [
    "In the above, the first raw has the original images and the second row has perturbated ones. As observable, this function ideed applies full affine map, including rotation.  \n",
    "\n",
    "N1 embedding is trained below using this version of augmentation:"
   ]
  },
  {
   "cell_type": "code",
   "execution_count": 0,
   "metadata": {
    "colab": {
     "base_uri": "https://localhost:8080/",
     "height": 134
    },
    "colab_type": "code",
    "id": "Pz_OIdn8zM0r",
    "outputId": "c23322a1-1b79-4db0-c6fa-e0a33f8d26c3"
   },
   "outputs": [
    {
     "data": {
      "text/plain": [
       "N1(\n",
       "  (conv1): Conv2d(1, 32, kernel_size=(5, 5), stride=(1, 1))\n",
       "  (conv2): Conv2d(32, 64, kernel_size=(5, 5), stride=(1, 1))\n",
       "  (conv2_drop): Dropout2d(p=0.5, inplace=False)\n",
       "  (fc64): Linear(in_features=1024, out_features=64, bias=True)\n",
       "  (criterion): CosineEmbeddingLoss()\n",
       ")"
      ]
     },
     "execution_count": 54,
     "metadata": {
      "tags": []
     },
     "output_type": "execute_result"
    }
   ],
   "source": [
    "batch_size, step_size, num_epochs, numtrain = 5000, 0.001, 20, 100000\n",
    "dropout_p, dim, nchannels = 0.5, 28, 1\n",
    "minimizer=\"SGD\"\n",
    "model_name=\"model\"\n",
    "\n",
    "net1_fullaffine = N1(p = dropout_p, minimizer=\"SGD\", simil=\"cosine\")\n",
    "net1_fullaffine.to(device)"
   ]
  },
  {
   "cell_type": "code",
   "execution_count": 0,
   "metadata": {
    "colab": {},
    "colab_type": "code",
    "id": "cow4XzJ1r73d"
   },
   "outputs": [],
   "source": [
    "letter_fullaffine = new_affine(letter_data.reshape(100000, 28, 28, 1), 1.5).reshape(100000, 1, 28, 28).float()"
   ]
  },
  {
   "cell_type": "code",
   "execution_count": 0,
   "metadata": {
    "colab": {},
    "colab_type": "code",
    "id": "tCmnauPFr40a"
   },
   "outputs": [],
   "source": [
    "for i in range(num_epochs):\n",
    "    run_epoch_N1(net1_fullaffine,i,letter_data, letter_fullaffine, y,batch_size, num=numtrain, ttype=\"train\", is_cosine=True)"
   ]
  },
  {
   "cell_type": "code",
   "execution_count": 0,
   "metadata": {
    "colab": {
     "base_uri": "https://localhost:8080/",
     "height": 34
    },
    "colab_type": "code",
    "id": "6Es0ccBMszJN",
    "outputId": "405dbac0-d907-4236-f930-6e132cef145a"
   },
   "outputs": [
    {
     "data": {
      "text/plain": [
       "<All keys matched successfully>"
      ]
     },
     "execution_count": 57,
     "metadata": {
      "tags": []
     },
     "output_type": "execute_result"
    }
   ],
   "source": [
    "net2_fullaffine = N2(minimizer = \"Adam\")\n",
    "net2_fullaffine.to(device)\n",
    "\n",
    "params1_fullaffine = net1_fullaffine.named_parameters()\n",
    "params2_fullaffine = net2_fullaffine.named_parameters()\n",
    "dict_params2_fullaffine = dict(params2_fullaffine)\n",
    "\n",
    "for name, param in params1_fullaffine:\n",
    "  if name in dict_params2_fullaffine:\n",
    "    dict_params2_fullaffine[name].data.copy_(param.data)\n",
    "\n",
    "net2_fullaffine.load_state_dict(dict_params2_fullaffine)"
   ]
  },
  {
   "cell_type": "code",
   "execution_count": 0,
   "metadata": {
    "colab": {},
    "colab_type": "code",
    "id": "fACkkKmutdtw"
   },
   "outputs": [],
   "source": [
    "PP = []\n",
    "\n",
    "for name, param in net2_fullaffine.named_parameters():\n",
    "  if \"fc10\" in name:\n",
    "    PP.append(param)\n",
    "\n",
    "net2_fullaffine.optimizer = torch.optim.Adam(PP, lr = step_size)"
   ]
  },
  {
   "cell_type": "code",
   "execution_count": 0,
   "metadata": {
    "colab": {},
    "colab_type": "code",
    "id": "D9s6wn0atkdC"
   },
   "outputs": [],
   "source": [
    "batch_size, step_size, num_epochs, numtrain = 500, 0.001, 20, 50000\n",
    "train_error, eval_error = [], [] #\n",
    "\n",
    "for i in range(num_epochs):\n",
    "    run_epoch_general(net2_fullaffine,i,train_full,batch_size, num=numtrain, ttype=\"train\")\n",
    "    net_test(net2_fullaffine,transform_val,batch_size)\n",
    "\n",
    "train_error_N2fullaffine = train_error[:]\n",
    "eval_error_N2fullaffine = eval_error[:]"
   ]
  },
  {
   "cell_type": "code",
   "execution_count": 0,
   "metadata": {
    "colab": {
     "base_uri": "https://localhost:8080/",
     "height": 84
    },
    "colab_type": "code",
    "id": "a0kQPcAdtyXf",
    "outputId": "b1a4e830-8638-4c4c-9228-127efaa12f92"
   },
   "outputs": [
    {
     "name": "stdout",
     "output_type": "stream",
     "text": [
      "N2 (trained with full-affine perturbations) transformed data test result\n",
      "\n",
      "Test set: Avg. loss: 0.0130, Accuracy: 33601/60000 (56%)\n",
      "\n"
     ]
    }
   ],
   "source": [
    "print(\"N2 (trained with full-affine perturbations) transformed data test result\")\n",
    "net_test(net2_fullaffine,transform_test,batch_size,ttype='test')"
   ]
  },
  {
   "cell_type": "markdown",
   "metadata": {
    "colab_type": "text",
    "id": "w0YVcZ5y7EXr"
   },
   "source": [
    "From above, we see that the test set error rate is still between 50% and 60%, which did not really improve from the model experimented with in Question 6. However, validation error graph below still provides some further insight:"
   ]
  },
  {
   "cell_type": "code",
   "execution_count": 0,
   "metadata": {
    "colab": {
     "base_uri": "https://localhost:8080/",
     "height": 281
    },
    "colab_type": "code",
    "id": "2KbCXhsB7WPq",
    "outputId": "dcd3d68c-69b9-4823-9fd5-8891b18f240d"
   },
   "outputs": [
    {
     "data": {
      "image/png": "[encoded data removed]",
      "text/plain": [
       "<Figure size 432x288 with 1 Axes>"
      ]
     },
     "metadata": {
      "needs_background": "light",
      "tags": []
     },
     "output_type": "display_data"
    }
   ],
   "source": [
    "plt.plot(eval_error_N2fullaffine)\n",
    "plt.title(\"Validation error (%) over epoch\")\n",
    "plt.show()"
   ]
  },
  {
   "cell_type": "markdown",
   "metadata": {
    "colab_type": "text",
    "id": "ClOPWWEp7div"
   },
   "source": [
    "From above, while not rapid, we can see that validation error rate has been decreasing with meaningful speed as epoch increased.  \n",
    "In other words, above plot suggests that if we can secure greater training data and implement greater number of epochs, this approach might be able to further improve prediction accuracy - which is promising to some extent.  \n",
    "\n",
    "Therefore, while experiments in both 7(a) and 7(b) were not highly successful, their results recommend us to consider usage of full affine map-applied perturbation as training data in order to make our networks more transformation-invariant."
   ]
  }
 ],
 "metadata": {
  "accelerator": "GPU",
  "colab": {
   "collapsed_sections": [],
   "machine_shape": "hm",
   "name": "Yongju Kim_CMSC 25025_Final Project_Q3-Q7.ipynb",
   "provenance": []
  },
  "kernelspec": {
   "display_name": "Python 3",
   "language": "python",
   "name": "python3"
  },
  "language_info": {
   "codemirror_mode": {
    "name": "ipython",
    "version": 3
   },
   "file_extension": ".py",
   "mimetype": "text/x-python",
   "name": "python",
   "nbconvert_exporter": "python",
   "pygments_lexer": "ipython3",
   "version": "3.7.4"
  }
 },
 "nbformat": 4,
 "nbformat_minor": 1
}
